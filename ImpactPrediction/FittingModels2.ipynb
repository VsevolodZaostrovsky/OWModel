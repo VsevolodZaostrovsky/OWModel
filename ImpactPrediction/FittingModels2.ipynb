{
 "cells": [
  {
   "cell_type": "code",
   "execution_count": 1,
   "metadata": {},
   "outputs": [],
   "source": [
    "import numpy as np\n",
    "import pandas as pd \n",
    "from scipy.optimize import least_squares\n",
    "from sklearn.model_selection import TimeSeriesSplit\n",
    "import matplotlib.pyplot as plt\n",
    "import seaborn as sns"
   ]
  },
  {
   "cell_type": "code",
   "execution_count": 2,
   "metadata": {},
   "outputs": [],
   "source": [
    "sns.set(rc={\"figure.figsize\":(25, 10)})"
   ]
  },
  {
   "cell_type": "code",
   "execution_count": 3,
   "metadata": {},
   "outputs": [],
   "source": [
    "dQI = pd.read_csv(\"DataForImpact/BIGdQI.csv\")"
   ]
  },
  {
   "cell_type": "code",
   "execution_count": 6,
   "metadata": {},
   "outputs": [],
   "source": [
    "dQI = dQI.loc[dQI[\"Loses\"] > 0.]"
   ]
  },
  {
   "cell_type": "code",
   "execution_count": 7,
   "metadata": {},
   "outputs": [
    {
     "data": {
      "text/html": [
       "<div>\n",
       "<style scoped>\n",
       "    .dataframe tbody tr th:only-of-type {\n",
       "        vertical-align: middle;\n",
       "    }\n",
       "\n",
       "    .dataframe tbody tr th {\n",
       "        vertical-align: top;\n",
       "    }\n",
       "\n",
       "    .dataframe thead th {\n",
       "        text-align: right;\n",
       "    }\n",
       "</style>\n",
       "<table border=\"1\" class=\"dataframe\">\n",
       "  <thead>\n",
       "    <tr style=\"text-align: right;\">\n",
       "      <th></th>\n",
       "      <th>Time</th>\n",
       "      <th>PriceChange</th>\n",
       "      <th>Loses</th>\n",
       "      <th>volume</th>\n",
       "    </tr>\n",
       "  </thead>\n",
       "  <tbody>\n",
       "    <tr>\n",
       "      <th>0</th>\n",
       "      <td>471</td>\n",
       "      <td>0.000000</td>\n",
       "      <td>0.500000</td>\n",
       "      <td>6.888500</td>\n",
       "    </tr>\n",
       "    <tr>\n",
       "      <th>1</th>\n",
       "      <td>574</td>\n",
       "      <td>0.000000</td>\n",
       "      <td>0.500000</td>\n",
       "      <td>7.029081</td>\n",
       "    </tr>\n",
       "    <tr>\n",
       "      <th>2</th>\n",
       "      <td>603</td>\n",
       "      <td>0.000000</td>\n",
       "      <td>0.500000</td>\n",
       "      <td>7.029081</td>\n",
       "    </tr>\n",
       "    <tr>\n",
       "      <th>3</th>\n",
       "      <td>681</td>\n",
       "      <td>0.000000</td>\n",
       "      <td>0.500000</td>\n",
       "      <td>7.029081</td>\n",
       "    </tr>\n",
       "    <tr>\n",
       "      <th>4</th>\n",
       "      <td>695</td>\n",
       "      <td>0.000000</td>\n",
       "      <td>0.500000</td>\n",
       "      <td>7.029081</td>\n",
       "    </tr>\n",
       "    <tr>\n",
       "      <th>...</th>\n",
       "      <td>...</td>\n",
       "      <td>...</td>\n",
       "      <td>...</td>\n",
       "      <td>...</td>\n",
       "    </tr>\n",
       "    <tr>\n",
       "      <th>46689</th>\n",
       "      <td>1498690</td>\n",
       "      <td>0.000000</td>\n",
       "      <td>3.836735</td>\n",
       "      <td>34.442499</td>\n",
       "    </tr>\n",
       "    <tr>\n",
       "      <th>46690</th>\n",
       "      <td>1499049</td>\n",
       "      <td>0.000000</td>\n",
       "      <td>0.500000</td>\n",
       "      <td>19.681428</td>\n",
       "    </tr>\n",
       "    <tr>\n",
       "      <th>46691</th>\n",
       "      <td>1499050</td>\n",
       "      <td>0.424610</td>\n",
       "      <td>3.500000</td>\n",
       "      <td>7.029081</td>\n",
       "    </tr>\n",
       "    <tr>\n",
       "      <th>46693</th>\n",
       "      <td>1499824</td>\n",
       "      <td>0.000000</td>\n",
       "      <td>10.454167</td>\n",
       "      <td>16.869795</td>\n",
       "    </tr>\n",
       "    <tr>\n",
       "      <th>46694</th>\n",
       "      <td>1499825</td>\n",
       "      <td>0.849401</td>\n",
       "      <td>13.330357</td>\n",
       "      <td>62.980570</td>\n",
       "    </tr>\n",
       "  </tbody>\n",
       "</table>\n",
       "<p>36607 rows × 4 columns</p>\n",
       "</div>"
      ],
      "text/plain": [
       "          Time  PriceChange      Loses     volume\n",
       "0          471     0.000000   0.500000   6.888500\n",
       "1          574     0.000000   0.500000   7.029081\n",
       "2          603     0.000000   0.500000   7.029081\n",
       "3          681     0.000000   0.500000   7.029081\n",
       "4          695     0.000000   0.500000   7.029081\n",
       "...        ...          ...        ...        ...\n",
       "46689  1498690     0.000000   3.836735  34.442499\n",
       "46690  1499049     0.000000   0.500000  19.681428\n",
       "46691  1499050     0.424610   3.500000   7.029081\n",
       "46693  1499824     0.000000  10.454167  16.869795\n",
       "46694  1499825     0.849401  13.330357  62.980570\n",
       "\n",
       "[36607 rows x 4 columns]"
      ]
     },
     "execution_count": 7,
     "metadata": {},
     "output_type": "execute_result"
    }
   ],
   "source": [
    "dQI"
   ]
  },
  {
   "cell_type": "code",
   "execution_count": 13,
   "metadata": {},
   "outputs": [
    {
     "name": "stderr",
     "output_type": "stream",
     "text": [
      "/tmp/ipykernel_22123/4282829894.py:1: SettingWithCopyWarning: \n",
      "A value is trying to be set on a copy of a slice from a DataFrame.\n",
      "Try using .loc[row_indexer,col_indexer] = value instead\n",
      "\n",
      "See the caveats in the documentation: https://pandas.pydata.org/pandas-docs/stable/user_guide/indexing.html#returning-a-view-versus-a-copy\n",
      "  dQI['Time'] = dQI['Time'].astype(float)\n"
     ]
    }
   ],
   "source": [
    "dQI['Time'] = dQI['Time'].astype(float)\n",
    "MI = np.array(dQI['Loses'])\n",
    "dQ= np.array(dQI['volume'])\n",
    "T = np.array(dQI['Time'], dtype=float)"
   ]
  },
  {
   "cell_type": "code",
   "execution_count": 14,
   "metadata": {},
   "outputs": [
    {
     "data": {
      "text/plain": [
       "array([4.710000e+02, 5.740000e+02, 6.030000e+02, ..., 1.499050e+06,\n",
       "       1.499824e+06, 1.499825e+06])"
      ]
     },
     "execution_count": 14,
     "metadata": {},
     "output_type": "execute_result"
    }
   ],
   "source": [
    "T"
   ]
  },
  {
   "cell_type": "markdown",
   "metadata": {},
   "source": [
    "### Usual OWM: $I_{t+1} = \\rho I_t + \\lambda Q_{t+1}$"
   ]
  },
  {
   "cell_type": "code",
   "execution_count": 15,
   "metadata": {},
   "outputs": [
    {
     "name": "stdout",
     "output_type": "stream",
     "text": [
      "MAE:  1.5680194241734309\n"
     ]
    }
   ],
   "source": [
    "cvlen = 35000\n",
    "start_point = 1000\n",
    "\n",
    "def fun1(x, mi: np.array, mi_prev: np.array, dq: np.array):\n",
    "            return x[0] * mi_prev + x[1] * dq - mi\n",
    "\n",
    "errors01 = np.full((cvlen - start_point, ), 0.)\n",
    "\n",
    "for i in range(start_point, cvlen):\n",
    "    res_lsq01 = least_squares(fun1, np.array([0.1, 0.1]), args=(MI[1:i], MI[:i - 1], dQ[1:i]))\n",
    "    errors01[i - start_point] = fun1(res_lsq01.x, MI[i], MI[i - 1], dQ[i])\n",
    "\n",
    "\n",
    "print(\"MAE: \", np.mean(abs(errors01)))"
   ]
  },
  {
   "cell_type": "code",
   "execution_count": 16,
   "metadata": {},
   "outputs": [
    {
     "name": "stdout",
     "output_type": "stream",
     "text": [
      "MAE:  1.3953206206925255\n"
     ]
    }
   ],
   "source": [
    "cvlen = 35000\n",
    "learning_window = 100\n",
    "start_point = 1000\n",
    "\n",
    "errors02 = np.full((cvlen - start_point, ), 0.)\n",
    "\n",
    "for i in range(start_point, cvlen):\n",
    "    res_lsq02 = least_squares(fun1, np.array([0.1, 0.1]), args=(MI[i - learning_window:i], MI[i - 1 - learning_window:i - 1], dQ[i - learning_window:i]))\n",
    "    errors02[i - start_point] = fun1(res_lsq02.x, MI[i], MI[i - 1], dQ[i])\n",
    "\n",
    "print(\"MAE: \", np.mean(abs(errors02)))"
   ]
  },
  {
   "cell_type": "markdown",
   "metadata": {},
   "source": [
    "### SR model: $I_t = C \\sqrt{Q_t}$"
   ]
  },
  {
   "cell_type": "code",
   "execution_count": 17,
   "metadata": {},
   "outputs": [
    {
     "name": "stdout",
     "output_type": "stream",
     "text": [
      "MAE:  2.1225440510941165\n"
     ]
    }
   ],
   "source": [
    "cvlen = 35000\n",
    "start_point = 1000\n",
    "\n",
    "def fun2(x, mi: np.array, dq: np.array):\n",
    "            return x[0] * np.sqrt(dq) - mi\n",
    "\n",
    "errors03 = np.full((cvlen - start_point, ), 0.)\n",
    "\n",
    "for i in range(start_point, cvlen):\n",
    "    res_lsq11 = least_squares(fun2, np.array([0.1]), args=(MI[1:i], dQ[1:i]))\n",
    "    errors03[i - start_point] = fun2(res_lsq11.x, MI[i], dQ[i])\n",
    "\n",
    "\n",
    "print(\"MAE: \", np.mean(abs(errors03)))"
   ]
  },
  {
   "cell_type": "code",
   "execution_count": 18,
   "metadata": {},
   "outputs": [
    {
     "name": "stdout",
     "output_type": "stream",
     "text": [
      "MAE:  1.5385424276542083\n"
     ]
    }
   ],
   "source": [
    "cvlen = 35000\n",
    "learning_window = 100\n",
    "start_point = 1000\n",
    "\n",
    "errors04 = np.full((cvlen - start_point, ), 0.)\n",
    "\n",
    "for i in range(start_point, cvlen):\n",
    "    res_lsq12 = least_squares(fun2, np.array([0.1, 0.1]), args=(MI[i - learning_window:i], dQ[i - learning_window:i]))\n",
    "    errors04[i - start_point] = fun2(res_lsq12.x, MI[i], dQ[i])\n",
    "\n",
    "print(\"MAE: \", np.mean(abs(errors04)))"
   ]
  },
  {
   "cell_type": "markdown",
   "metadata": {},
   "source": [
    "### Experimrntal Combo of SRM and OWM: $I_{t+1} = \\rho I_t + \\lambda \\sqrt{Q_{t+1}}$"
   ]
  },
  {
   "cell_type": "code",
   "execution_count": 19,
   "metadata": {},
   "outputs": [
    {
     "name": "stdout",
     "output_type": "stream",
     "text": [
      "MAE:  1.9932173237366233\n"
     ]
    }
   ],
   "source": [
    "cvlen = 35000\n",
    "start_point = 1000\n",
    "\n",
    "def fun3(x, mi: np.array, mi_prev: np.array, dq: np.array):\n",
    "            return x[0] * mi_prev + x[1] * np.sqrt(dq) - mi\n",
    "\n",
    "errors01 = np.full((cvlen - start_point, ), 0.)\n",
    "\n",
    "for i in range(start_point, cvlen):\n",
    "    res_lsq01 = least_squares(fun3, np.array([0.1, 0.1]), args=(MI[1:i], MI[:i - 1], dQ[1:i]))\n",
    "    errors01[i - start_point] = fun3(res_lsq01.x, MI[i], MI[i - 1], dQ[i])\n",
    "\n",
    "\n",
    "print(\"MAE: \", np.mean(abs(errors01)))"
   ]
  },
  {
   "cell_type": "code",
   "execution_count": 20,
   "metadata": {},
   "outputs": [
    {
     "name": "stdout",
     "output_type": "stream",
     "text": [
      "MAE:  1.5543257789006262\n"
     ]
    }
   ],
   "source": [
    "cvlen = 35000\n",
    "learning_window = 100\n",
    "start_point = 1000\n",
    "\n",
    "errors02 = np.full((cvlen - start_point, ), 0.)\n",
    "\n",
    "for i in range(start_point, cvlen):\n",
    "    res_lsq02 = least_squares(fun3, np.array([0.1, 0.1]), args=(MI[i - learning_window:i], MI[i - 1 - learning_window:i - 1], dQ[i - learning_window:i]))\n",
    "    errors02[i - start_point] = fun3(res_lsq02.x, MI[i], MI[i - 1], dQ[i])\n",
    "\n",
    "print(\"MAE: \", np.mean(abs(errors02)))"
   ]
  },
  {
   "cell_type": "markdown",
   "metadata": {},
   "source": [
    "### Experimental model from OWM: $\\frac{I_{i+1} - I_i}{\\Delta t _{i+1}} = \\rho I_i + \\lambda \\frac{Q_{i+1}}{\\Delta t _{i+1}}$"
   ]
  },
  {
   "cell_type": "code",
   "execution_count": 21,
   "metadata": {},
   "outputs": [],
   "source": [
    "dt = (T[1:] - T[:-1])\n",
    "dIdt = (MI[1:] - MI[:-1]) / dt\n",
    "Qdt = dQ[1:] / dt\n",
    "Ii = MI[:-1]"
   ]
  },
  {
   "cell_type": "code",
   "execution_count": 22,
   "metadata": {},
   "outputs": [
    {
     "name": "stdout",
     "output_type": "stream",
     "text": [
      "MAE:  10.919683027663334\n"
     ]
    }
   ],
   "source": [
    "cvlen = 35000\n",
    "start_point = 1000\n",
    "\n",
    "def fun3(x, dIdt: np.array, mi_prev: np.array, Qdt: np.array):\n",
    "            return x[0] * mi_prev + x[1] * Qdt - dIdt\n",
    "\n",
    "errors01 = np.full((cvlen - start_point, ), 0.)\n",
    "\n",
    "for i in range(start_point, cvlen):\n",
    "    res_lsq01 = least_squares(fun3, np.array([0.1, 0.1]), args=(dIdt[:i], Ii[:i], Qdt[:i]))\n",
    "    errors01[i - start_point] = Ii[i] * (1 + dt[i] * res_lsq01.x[0]) + res_lsq01.x[1] * Qdt[i] - Ii[i + 1]\n",
    "\n",
    "\n",
    "print(\"MAE: \", np.mean(abs(errors01)))"
   ]
  },
  {
   "cell_type": "code",
   "execution_count": 23,
   "metadata": {},
   "outputs": [
    {
     "name": "stdout",
     "output_type": "stream",
     "text": [
      "MAE:  12.603488763904165\n"
     ]
    }
   ],
   "source": [
    "cvlen = 35000\n",
    "learning_window = 100\n",
    "start_point = 1000\n",
    "def fun3(x, dIdt: np.array, mi_prev: np.array, Qdt: np.array):\n",
    "            return x[0] * mi_prev + x[1] * Qdt - dIdt\n",
    "\n",
    "errors01 = np.full((cvlen - start_point, ), 0.)\n",
    "\n",
    "for i in range(start_point, cvlen):\n",
    "    res_lsq01 = least_squares(fun3, np.array([0.1, 0.1]), args=(dIdt[i - learning_window:i], Ii[i - learning_window:i], Qdt[i - learning_window:i]))\n",
    "    errors01[i - start_point] = Ii[i] * (1 + dt[i] * res_lsq01.x[0]) + res_lsq01.x[1] * Qdt[i] - Ii[i + 1]\n",
    "\n",
    "\n",
    "print(\"MAE: \", np.mean(abs(errors01)))"
   ]
  },
  {
   "cell_type": "markdown",
   "metadata": {},
   "source": [
    "### Experimental model from our intuition: $\\frac{y_{i + 1} - y_{i}}{\\Delta t_{i+1}} = \\rho y_i + \\lambda$"
   ]
  },
  {
   "cell_type": "code",
   "execution_count": 24,
   "metadata": {},
   "outputs": [],
   "source": [
    "y = MI / dQ"
   ]
  },
  {
   "cell_type": "code",
   "execution_count": 27,
   "metadata": {},
   "outputs": [
    {
     "name": "stdout",
     "output_type": "stream",
     "text": [
      "MAE:  4.623520484527892\n"
     ]
    }
   ],
   "source": [
    "cvlen = 35000\n",
    "start_point = 1000\n",
    "\n",
    "def fun1(x, y: np.array, y_prev: np.array, dt: np.array):\n",
    "            return y_prev * (1 + x[0] * dt) + x[1] * dt - y\n",
    "\n",
    "errors01 = np.full((cvlen - start_point, ), 0.)\n",
    "\n",
    "for i in range(start_point, cvlen):\n",
    "    res_lsq01 = least_squares(fun1, np.array([0.1, 0.1]), args=(y[1:i], y[:i - 1], dt[1:i]))\n",
    "    errors01[i - start_point] = fun1(res_lsq01.x, y[i], y[i - 1], dt[i]) * dQ[i]\n",
    "\n",
    "\n",
    "print(\"MAE: \", np.mean(abs(errors01)))"
   ]
  },
  {
   "cell_type": "code",
   "execution_count": 30,
   "metadata": {},
   "outputs": [
    {
     "name": "stdout",
     "output_type": "stream",
     "text": [
      "MAE:  4.0392173162843426\n"
     ]
    }
   ],
   "source": [
    "cvlen = 35000\n",
    "learning_window = 500\n",
    "start_point = 2000\n",
    "\n",
    "def fun1(x, y: np.array, y_prev: np.array, dt: np.array):\n",
    "            return y_prev * (1 + x[0] * dt) + x[1] * dt - y\n",
    "\n",
    "errors01 = np.full((cvlen - start_point, ), 0.)\n",
    "\n",
    "for i in range(start_point, cvlen):\n",
    "    res_lsq01 = least_squares(fun1, np.array([0.1, 0.1]), args=(y[i - learning_window:i], y[i - 1 - learning_window:i - 1], dt[i - learning_window:i]))\n",
    "    errors01[i - start_point] = fun1(res_lsq01.x, y[i], y[i - 1], dt[i]) * dQ[i]\n",
    "\n",
    "\n",
    "print(\"MAE: \", np.mean(abs(errors01)))"
   ]
  },
  {
   "cell_type": "markdown",
   "metadata": {},
   "source": [
    "### GOW model"
   ]
  },
  {
   "cell_type": "code",
   "execution_count": 32,
   "metadata": {},
   "outputs": [
    {
     "name": "stdout",
     "output_type": "stream",
     "text": [
      "MAE:  1.5712823852127695\n"
     ]
    }
   ],
   "source": [
    "cvlen = 35000\n",
    "start_point = 1000\n",
    "\n",
    "def fun1(x, mi: np.array, mi_prev: np.array, dq: np.array, dt: np.array):\n",
    "            return np.power(x[0], dt) * mi_prev + x[1] * dq - mi\n",
    "\n",
    "errors01 = np.full((cvlen - start_point, ), 0.)\n",
    "\n",
    "for i in range(start_point, cvlen):\n",
    "    res_lsq01 = least_squares(fun1, np.array([0.1, 0.1]), args=(MI[1:i], MI[:i - 1], dQ[1:i], dt[1:i]))\n",
    "    errors01[i - start_point] = fun1(res_lsq01.x, MI[i], MI[i - 1], dQ[i], dt[i])\n",
    "\n",
    "\n",
    "print(\"MAE: \", np.mean(abs(errors01)))"
   ]
  },
  {
   "cell_type": "code",
   "execution_count": null,
   "metadata": {},
   "outputs": [],
   "source": []
  }
 ],
 "metadata": {
  "kernelspec": {
   "display_name": "Python 3",
   "language": "python",
   "name": "python3"
  },
  "language_info": {
   "codemirror_mode": {
    "name": "ipython",
    "version": 3
   },
   "file_extension": ".py",
   "mimetype": "text/x-python",
   "name": "python",
   "nbconvert_exporter": "python",
   "pygments_lexer": "ipython3",
   "version": "3.11.6"
  }
 },
 "nbformat": 4,
 "nbformat_minor": 2
}
