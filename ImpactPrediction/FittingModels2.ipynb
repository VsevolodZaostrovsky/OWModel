{
 "cells": [
  {
   "cell_type": "code",
   "execution_count": 2,
   "metadata": {},
   "outputs": [],
   "source": [
    "import numpy as np\n",
    "import pandas as pd \n",
    "from scipy.optimize import least_squares\n",
    "from sklearn.model_selection import TimeSeriesSplit\n",
    "import matplotlib.pyplot as plt\n",
    "import seaborn as sns"
   ]
  },
  {
   "cell_type": "code",
   "execution_count": 3,
   "metadata": {},
   "outputs": [],
   "source": [
    "sns.set(rc={\"figure.figsize\":(25, 10)})"
   ]
  },
  {
   "cell_type": "code",
   "execution_count": 110,
   "metadata": {},
   "outputs": [],
   "source": [
    "dQI = pd.read_csv(\"DataForImpact/BIGdQI_10bp.csv\")\n",
    "dQI['Time'] = dQI['Time'].astype(float)\n",
    "MI = np.array(dQI['Impact'])\n",
    "dQ= np.array(dQI['DeltaQ'])\n",
    "T = np.array(dQI['Time'], dtype=float)"
   ]
  },
  {
   "cell_type": "markdown",
   "metadata": {},
   "source": [
    "### Usual OWM: $I_{t+1} = \\rho I_t + \\lambda Q_{t+1}$"
   ]
  },
  {
   "cell_type": "code",
   "execution_count": 125,
   "metadata": {},
   "outputs": [
    {
     "name": "stdout",
     "output_type": "stream",
     "text": [
      "MAE:  5.272029018881983\n"
     ]
    }
   ],
   "source": [
    "cvlen = 400\n",
    "start_point = 100\n",
    "\n",
    "def fun1(x, mi: np.array, mi_prev: np.array, dq: np.array):\n",
    "            return x[0] * mi_prev + x[1] * dq - mi\n",
    "\n",
    "errors01 = np.full((cvlen - start_point, ), 0.)\n",
    "\n",
    "for i in range(start_point, cvlen):\n",
    "    res_lsq01 = least_squares(fun1, np.array([0.1, 0.1]), args=(MI[1:i], MI[:i - 1], dQ[1:i]))\n",
    "    errors01[i - start_point] = fun1(res_lsq01.x, MI[i], MI[i - 1], dQ[i])\n",
    "\n",
    "\n",
    "print(\"MAE: \", np.mean(abs(errors01)))"
   ]
  },
  {
   "cell_type": "code",
   "execution_count": 126,
   "metadata": {},
   "outputs": [
    {
     "name": "stdout",
     "output_type": "stream",
     "text": [
      "MAE:  3.651733205706378\n"
     ]
    }
   ],
   "source": [
    "cvlen = 400\n",
    "learning_window = 150\n",
    "start_point = 200\n",
    "\n",
    "errors02 = np.full((cvlen - start_point, ), 0.)\n",
    "\n",
    "for i in range(start_point, cvlen):\n",
    "    res_lsq02 = least_squares(fun1, np.array([0.1, 0.1]), args=(MI[i - learning_window:i], MI[i - 1 - learning_window:i - 1], dQ[i - learning_window:i]))\n",
    "    errors02[i - start_point] = fun1(res_lsq02.x, MI[i], MI[i - 1], dQ[i])\n",
    "\n",
    "print(\"MAE: \", np.mean(abs(errors02)))"
   ]
  },
  {
   "cell_type": "markdown",
   "metadata": {},
   "source": [
    "### SR model: $I_t = C \\sqrt{Q_t}$"
   ]
  },
  {
   "cell_type": "code",
   "execution_count": 127,
   "metadata": {},
   "outputs": [
    {
     "name": "stdout",
     "output_type": "stream",
     "text": [
      "MAE:  16.575792758682166\n"
     ]
    }
   ],
   "source": [
    "cvlen = 400\n",
    "start_point = 100\n",
    "\n",
    "def fun2(x, mi: np.array, dq: np.array):\n",
    "            return x[0] * np.sqrt(dq) - mi\n",
    "\n",
    "errors03 = np.full((cvlen - start_point, ), 0.)\n",
    "\n",
    "for i in range(start_point, cvlen):\n",
    "    res_lsq11 = least_squares(fun2, np.array([0.1]), args=(MI[1:i], dQ[1:i]))\n",
    "    errors03[i - start_point] = fun2(res_lsq11.x, MI[i], dQ[i])\n",
    "\n",
    "\n",
    "print(\"MAE: \", np.mean(abs(errors03)))"
   ]
  },
  {
   "cell_type": "code",
   "execution_count": 128,
   "metadata": {},
   "outputs": [
    {
     "name": "stdout",
     "output_type": "stream",
     "text": [
      "MAE:  14.221142403939764\n"
     ]
    }
   ],
   "source": [
    "cvlen = 400\n",
    "learning_window = 150\n",
    "start_point = 200\n",
    "\n",
    "errors04 = np.full((cvlen - start_point, ), 0.)\n",
    "\n",
    "for i in range(start_point, cvlen):\n",
    "    res_lsq12 = least_squares(fun2, np.array([0.1, 0.1]), args=(MI[i - learning_window:i], dQ[i - learning_window:i]))\n",
    "    errors04[i - start_point] = fun2(res_lsq12.x, MI[i], dQ[i])\n",
    "\n",
    "print(\"MAE: \", np.mean(abs(errors04)))"
   ]
  },
  {
   "cell_type": "markdown",
   "metadata": {},
   "source": [
    "### Experimrntal Combo of SRM and OWM: $I_{t+1} = \\rho I_t + \\lambda \\sqrt{Q_{t+1}}$"
   ]
  },
  {
   "cell_type": "code",
   "execution_count": 129,
   "metadata": {},
   "outputs": [
    {
     "name": "stdout",
     "output_type": "stream",
     "text": [
      "MAE:  5.272102566367756\n"
     ]
    }
   ],
   "source": [
    "cvlen = 400\n",
    "start_point = 100\n",
    "\n",
    "def fun3(x, mi: np.array, mi_prev: np.array, dq: np.array):\n",
    "            return x[0] * mi_prev + x[1] * np.sqrt(dq) - mi\n",
    "\n",
    "errors01 = np.full((cvlen - start_point, ), 0.)\n",
    "\n",
    "for i in range(start_point, cvlen):\n",
    "    res_lsq01 = least_squares(fun3, np.array([0.1, 0.1]), args=(MI[1:i], MI[:i - 1], dQ[1:i]))\n",
    "    errors01[i - start_point] = fun3(res_lsq01.x, MI[i], MI[i - 1], dQ[i])\n",
    "\n",
    "\n",
    "print(\"MAE: \", np.mean(abs(errors01)))"
   ]
  },
  {
   "cell_type": "code",
   "execution_count": 130,
   "metadata": {},
   "outputs": [
    {
     "name": "stdout",
     "output_type": "stream",
     "text": [
      "MAE:  3.6410765341902724\n"
     ]
    }
   ],
   "source": [
    "cvlen = 400\n",
    "learning_window = 150\n",
    "start_point = 200\n",
    "\n",
    "errors02 = np.full((cvlen - start_point, ), 0.)\n",
    "\n",
    "for i in range(start_point, cvlen):\n",
    "    res_lsq02 = least_squares(fun3, np.array([0.1, 0.1]), args=(MI[i - learning_window:i], MI[i - 1 - learning_window:i - 1], dQ[i - learning_window:i]))\n",
    "    errors02[i - start_point] = fun3(res_lsq02.x, MI[i], MI[i - 1], dQ[i])\n",
    "\n",
    "print(\"MAE: \", np.mean(abs(errors02)))"
   ]
  },
  {
   "cell_type": "markdown",
   "metadata": {},
   "source": [
    "### Experimental model from OWM: $\\frac{I_{i+1} - I_i}{\\Delta t _{i+1}} = \\rho I_i + \\lambda \\frac{Q_{i+1}}{\\Delta t _{i+1}}$"
   ]
  },
  {
   "cell_type": "code",
   "execution_count": 117,
   "metadata": {},
   "outputs": [],
   "source": [
    "dt = (T[1:] - T[:-1])\n",
    "dIdt = (MI[1:] - MI[:-1]) / dt\n",
    "Qdt = dQ[1:] / dt\n",
    "Ii = MI[:-1]"
   ]
  },
  {
   "cell_type": "code",
   "execution_count": 131,
   "metadata": {},
   "outputs": [
    {
     "name": "stdout",
     "output_type": "stream",
     "text": [
      "MAE:  19.183232206365943\n"
     ]
    }
   ],
   "source": [
    "cvlen = 400\n",
    "start_point = 100\n",
    "\n",
    "def fun3(x, dIdt: np.array, mi_prev: np.array, Qdt: np.array):\n",
    "            return x[0] * mi_prev + x[1] * Qdt - dIdt\n",
    "\n",
    "errors01 = np.full((cvlen - start_point, ), 0.)\n",
    "\n",
    "for i in range(start_point, cvlen):\n",
    "    res_lsq01 = least_squares(fun3, np.array([0.1, 0.1]), args=(dIdt[:i], Ii[:i], Qdt[:i]))\n",
    "    errors01[i - start_point] = Ii[i] * (1 + dt[i] * res_lsq01.x[0]) + res_lsq01.x[1] * Qdt[i] - Ii[i + 1]\n",
    "\n",
    "\n",
    "print(\"MAE: \", np.mean(abs(errors01)))"
   ]
  },
  {
   "cell_type": "code",
   "execution_count": 132,
   "metadata": {},
   "outputs": [
    {
     "name": "stdout",
     "output_type": "stream",
     "text": [
      "MAE:  36.430976846660485\n"
     ]
    }
   ],
   "source": [
    "cvlen = 400\n",
    "learning_window = 20\n",
    "start_point = 100\n",
    "\n",
    "def fun3(x, dIdt: np.array, mi_prev: np.array, Qdt: np.array):\n",
    "            return x[0] * mi_prev + x[1] * Qdt - dIdt\n",
    "\n",
    "errors01 = np.full((cvlen - start_point, ), 0.)\n",
    "\n",
    "for i in range(start_point, cvlen):\n",
    "    res_lsq01 = least_squares(fun3, np.array([0.1, 0.1]), args=(dIdt[i - learning_window:i], Ii[i - learning_window:i], Qdt[i - learning_window:i]))\n",
    "    errors01[i - start_point] = Ii[i] * (1 + dt[i] * res_lsq01.x[0]) + res_lsq01.x[1] * Qdt[i] - Ii[i + 1]\n",
    "\n",
    "\n",
    "print(\"MAE: \", np.mean(abs(errors01)))"
   ]
  },
  {
   "cell_type": "markdown",
   "metadata": {},
   "source": [
    "### Experimental model from our intuition: $\\frac{y_{i + 1} - y_{i}}{\\Delta t_{i+1}} = \\rho y_i + \\lambda$"
   ]
  },
  {
   "cell_type": "code",
   "execution_count": 120,
   "metadata": {},
   "outputs": [],
   "source": [
    "y = MI / dQ"
   ]
  },
  {
   "cell_type": "code",
   "execution_count": 141,
   "metadata": {},
   "outputs": [
    {
     "name": "stdout",
     "output_type": "stream",
     "text": [
      "MAE:  22753.029608659912\n"
     ]
    }
   ],
   "source": [
    "cvlen = 400\n",
    "start_point = 100\n",
    "\n",
    "def fun1(x, y: np.array, y_prev: np.array, dt: np.array):\n",
    "            return y_prev * (1 + x[0] * dt) + x[1] * dt - y\n",
    "\n",
    "errors01 = np.full((cvlen - start_point, ), 0.)\n",
    "\n",
    "for i in range(start_point, cvlen):\n",
    "    res_lsq01 = least_squares(fun1, np.array([0.1, 0.1]), args=(y[1:i], y[:i - 1], dt[1:i]))\n",
    "    errors01[i - start_point] = fun1(res_lsq01.x, y[i], y[i - 1], dt[i]) * dQ[i]\n",
    "\n",
    "\n",
    "print(\"MAE: \", np.mean(abs(errors01)))"
   ]
  },
  {
   "cell_type": "code",
   "execution_count": 142,
   "metadata": {},
   "outputs": [
    {
     "data": {
      "text/plain": [
       "array([    -13,  316074,     -13,       0,       0,      20,     -33,\n",
       "            -4,     -36,    1272,      -1,      69,      41,       7,\n",
       "             0,      -3,      79,      63,      54,      15,     -17,\n",
       "            93,      35,      21,      18,      46,     129,     209,\n",
       "           -20,     230,      57,     -26,     264,     -23,      18,\n",
       "            58,      88,     -20,     433,      18,     595,       7,\n",
       "           -12,     170,      12,      40,      17,     225,     210,\n",
       "           -20,     227,      49,      38,     164,      -4,      74,\n",
       "            31,      14,      -2,      16,      10,      30,      -2,\n",
       "        136137,       0,       7,      40,      -2,      19,      17,\n",
       "            -7,      24,  166136,     -10,       8,  183917,   83988,\n",
       "          8785,     -25,  105619,       4,      -8,  813674,       7,\n",
       "            12,      41,       8,      61,       6,      17,      16,\n",
       "         92516,      -9,       1,      -5,   58764,     -20,      32,\n",
       "           -16,      -4,      34,     -16,   92036,     -17,      17,\n",
       "            11,     -16,      15,      36,       0,      -3,      48,\n",
       "            -3,      26,     -14,       6,      78,      -8,      12,\n",
       "            -9,  174083,   20668,   14912,     -19,      -2,       5,\n",
       "             1,      26,       8,      97,     284,      -6,     178,\n",
       "           -27,       8,      56,     -15,     279,       6,      25,\n",
       "            -4,      63,       8,      22,      -4,       9,      16,\n",
       "             0,       7,       2,      15,      21,      43,      87,\n",
       "            36,       0,       0,      -9,  216736,     -18,      43,\n",
       "            -5,       1,      29,      -1,       6,   40468,   13000,\n",
       "         77882,     -18,     144,       0,       0,      24,       6,\n",
       "            10,      20,      12,      16,       0,      11,       2,\n",
       "            19,       2,      48,     126,      -7,      -9,       0,\n",
       "            13,       8,      10,     243,      -3,     501,     -15,\n",
       "            -6, 2126871,       0,      -5,       2,       3,       9,\n",
       "            -2,   61856,      -9,      12,   38611,       1,      39,\n",
       "           -13,      93,       6,      57,       8,      30,       5,\n",
       "           145,      93,     -18,     -60,      69,      10,      68,\n",
       "            -9,     -14,      60,     240,      -8,     -13,     937,\n",
       "            18,      11,       4,       7,       9,       9,  827292,\n",
       "         36870,      -9,      86,     -13,  209823,     -12,      -1,\n",
       "            17,      24,      -2,       2,       4,   28423,     -14,\n",
       "             4,      -2,     425,     155,      30,     -10,    -370,\n",
       "            35,      -4,      44,    -143,     -10,      26,      18,\n",
       "         75463,      -1,      11,      23,      41,  422889,      -3,\n",
       "           684,      -2,       0,      34,     273,     180,   48603,\n",
       "           -10,      48,      70,     190,      38,      38,       7,\n",
       "            16,      99,     177,      10,     -13,   -9592,       0,\n",
       "             4,      27,       4,      59,  309249,     129])"
      ]
     },
     "execution_count": 142,
     "metadata": {},
     "output_type": "execute_result"
    }
   ],
   "source": [
    "errors01.astype(int)"
   ]
  },
  {
   "cell_type": "code",
   "execution_count": 137,
   "metadata": {},
   "outputs": [
    {
     "data": {
      "text/plain": [
       "array([ 80,  91, 300,  43,  16,   2,   3,   0,   1,   2,   0,   1,   1,\n",
       "         1,   1,   0,   1,   6,   1,   1,   8,   0,   1,   3,   1,   0,\n",
       "         0,   1,   0,   2,   1,   9,   1,   0,   0,   0,   0,   1,   0,\n",
       "         0,   0,   0,   1,   0,  15,   0,   0,   1,  17,  16,   1,   1,\n",
       "         3,   1,   0,   1,   0,   0,   0,   0,   0,   1,   0,   0,   0,\n",
       "         0,   4,   2,   3,   3,   1,   3,   0,   2,   0,   1,   7,   0,\n",
       "         0,   0,   0,   1,   0,   0,   0,   4,   4,   2,   0,   1,   1,\n",
       "         2,   3,   1,   3,   0,   1,   0,   0,   1,   8,   0,   1,   1,\n",
       "         1,   1,  28,  30,  61,   3,  20,   3,   3,   4,   6,   8,   1,\n",
       "         1,   1,   1,  14,   3,   1,   2,   3,   1,   1,   1,   6,   4,\n",
       "         1,  47,   3,  19,   8,   2,   1,  36,   1,   2,   0,   8,  27,\n",
       "         3,   3,   3,   1,   0,   2,   8,   0,   1,   1,   1,   8,   3,\n",
       "         3,   1,   8,   3,   2,   2,   3,   0,   3,   3,   1,   3,   2,\n",
       "         2,   3,   3,   0,   1,   2,   0,   0,   0,   1,   0,   3,  25,\n",
       "         0,   2,   2,   1,   1,   1,   2,   1,   1,   0,   1,   1,   2,\n",
       "         0,   1,   0,   1,   2,   0,   2,   0,   2,   1,   0,   6,   2,\n",
       "         1,   3,   3,   0,   1,   0,   2,   2,   0,   1,   1,   4,   0,\n",
       "         0,   0,   0,   1,   0,   0,   0,   0,   1,   0,   1,   1,  17,\n",
       "        10,   1,  24,   1,   1,   1,   7,   1,   1,   0,   2,   2,   0,\n",
       "         1,   0,   0,   0,   0,   0,   2,   1,   2,   2,   5,   0,   5,\n",
       "         1,   2,   2,   0,   1,   1,   0,   0,   0,   7,   0,   0,   0,\n",
       "         0,   1,   0,   0,   1,   1,   1,   0,   1,   0,   0,   1,   0,\n",
       "         1,   2,   2,   2,   1,   2,   0,   1,   0,  25,  74,   0,   0,\n",
       "         1,   1,   1,   1,   1,   0,   1,   0,   0,   1,   0,  11,   1,\n",
       "         1,   1,   0,   0,   2,   0,   1,  84,   1,   3,   2,   0,  17,\n",
       "        19,   2,   1,  11,  73,   0,   2,   2,   2,   1,   1,  22,   0,\n",
       "         0,   2,   0,   4,   0,   3,   4,   2,   0,   0,   0,   0,   0,\n",
       "         0,   0,   0,   2,   0,   0,  73,   1,   0,   1,   8,   1,   5,\n",
       "         1,   1,   0,   0,   0,   0,   1,   0,   0,   1,   3,   3,   1,\n",
       "         1,   3,   0,   0,   1,   0,   0,   0,   2,   0,   1,   1,   1,\n",
       "         1,  65,   0,   1,   1,   1,   0,   1,   0,   1,   1,   0,   0,\n",
       "         0,   1,   3,   0,   1,   0,   0,   0,   0,   0,   0,   0,   0,\n",
       "         0,   1,   1,   1,   0,   1,  11,   1,   1,   1,   1,   1,   1,\n",
       "         1,   1,   0,   0,   0,   0,   1,   4,   0,  16,   0,   1,   3,\n",
       "         1,   2,   0,   0,   0,   1,   1,   2,   0,   0,   1,   1,   0,\n",
       "         0,   0])"
      ]
     },
     "execution_count": 137,
     "metadata": {},
     "output_type": "execute_result"
    }
   ],
   "source": [
    "y.astype(int)"
   ]
  }
 ],
 "metadata": {
  "kernelspec": {
   "display_name": "Python 3",
   "language": "python",
   "name": "python3"
  },
  "language_info": {
   "codemirror_mode": {
    "name": "ipython",
    "version": 3
   },
   "file_extension": ".py",
   "mimetype": "text/x-python",
   "name": "python",
   "nbconvert_exporter": "python",
   "pygments_lexer": "ipython3",
   "version": "3.11.6"
  }
 },
 "nbformat": 4,
 "nbformat_minor": 2
}
