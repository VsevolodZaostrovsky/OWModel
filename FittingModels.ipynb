{
 "cells": [
  {
   "cell_type": "code",
   "execution_count": 1,
   "metadata": {},
   "outputs": [],
   "source": [
    "from statsmodels.tsa.stattools import adfuller \n",
    "from numpy import log \n",
    "import pandas as pd "
   ]
  },
  {
   "cell_type": "code",
   "execution_count": 7,
   "metadata": {},
   "outputs": [],
   "source": [
    "dQI = pd.read_csv('dQI.csv') "
   ]
  },
  {
   "cell_type": "code",
   "execution_count": 10,
   "metadata": {},
   "outputs": [
    {
     "name": "stdout",
     "output_type": "stream",
     "text": [
      "            Time      Impact  DeltaQ\n",
      "138    25.437121   40.768672        \n",
      "190     2.377864    1.405816        \n",
      "226    25.936412   43.369432        \n",
      "239     0.312015   12.652347        \n",
      "242    22.919909   78.514839        \n",
      "...          ...         ...     ...\n",
      "38504  34.208399  167.643592        \n",
      "39981   4.439648    6.466755        \n",
      "39985   4.439648    6.466755        \n",
      "46664  47.422737  222.611009        \n",
      "46921  29.270251  139.597557        \n",
      "\n",
      "[576 rows x 3 columns]\n"
     ]
    }
   ],
   "source": [
    "print(dQI)"
   ]
  },
  {
   "cell_type": "code",
   "execution_count": 6,
   "metadata": {},
   "outputs": [
    {
     "name": "stdout",
     "output_type": "stream",
     "text": [
      "[[ 40.76867223   1.40581628  43.36943235 ...   6.46675491 222.61100853\n",
      "           nan]\n",
      " [ 25.43712117   2.37786425  25.93641208 ...   4.43964824  47.4227369\n",
      "           nan]]\n"
     ]
    }
   ],
   "source": [
    "print(data)"
   ]
  }
 ],
 "metadata": {
  "kernelspec": {
   "display_name": "Python 3",
   "language": "python",
   "name": "python3"
  },
  "language_info": {
   "codemirror_mode": {
    "name": "ipython",
    "version": 3
   },
   "file_extension": ".py",
   "mimetype": "text/x-python",
   "name": "python",
   "nbconvert_exporter": "python",
   "pygments_lexer": "ipython3",
   "version": "3.11.6"
  }
 },
 "nbformat": 4,
 "nbformat_minor": 2
}
