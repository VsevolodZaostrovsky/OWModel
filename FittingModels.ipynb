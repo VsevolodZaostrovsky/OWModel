{
 "cells": [
  {
   "cell_type": "code",
   "execution_count": 31,
   "metadata": {},
   "outputs": [],
   "source": [
    "from statsmodels.tsa.stattools import adfuller \n",
    "from numpy import log \n",
    "import numpy as np\n",
    "import pandas as pd \n",
    "from scipy.optimize import least_squares"
   ]
  },
  {
   "cell_type": "code",
   "execution_count": 36,
   "metadata": {},
   "outputs": [
    {
     "name": "stderr",
     "output_type": "stream",
     "text": [
      "/tmp/ipykernel_22616/3907934338.py:1: ParserWarning: Length of header or names does not match length of data. This leads to a loss of data with index_col=False.\n",
      "  dQI = pd.read_csv('dQI.csv', index_col=False)\n"
     ]
    }
   ],
   "source": [
    "dQI = pd.read_csv('dQI.csv', index_col=False) "
   ]
  },
  {
   "cell_type": "code",
   "execution_count": 37,
   "metadata": {},
   "outputs": [
    {
     "name": "stdout",
     "output_type": "stream",
     "text": [
      "        Time     Impact      DeltaQ\n",
      "0    0.02008  59.303139  139.456975\n",
      "1    0.02014  22.280227   30.506213\n",
      "2    0.03036  41.082159  127.648119\n",
      "3    0.03040   0.103186    4.639194\n",
      "4    0.03066   0.212766    7.029081\n",
      "..       ...        ...         ...\n",
      "465  0.77008  34.208399  167.643592\n",
      "466  0.79962   4.439648    6.466755\n",
      "467  0.79970   4.439648    6.466755\n",
      "468  0.93328  47.422737  222.611009\n",
      "469  0.93842  29.270251  139.597557\n",
      "\n",
      "[470 rows x 3 columns]\n"
     ]
    }
   ],
   "source": [
    "print(dQI)"
   ]
  },
  {
   "cell_type": "code",
   "execution_count": 38,
   "metadata": {},
   "outputs": [
    {
     "name": "stdout",
     "output_type": "stream",
     "text": [
      "0      0.02008\n",
      "1      0.02014\n",
      "2      0.03036\n",
      "3      0.03040\n",
      "4      0.03066\n",
      "        ...   \n",
      "465    0.77008\n",
      "466    0.79962\n",
      "467    0.79970\n",
      "468    0.93328\n",
      "469    0.93842\n",
      "Name: Time, Length: 470, dtype: float64\n"
     ]
    }
   ],
   "source": [
    "print(dQI['Time'])"
   ]
  },
  {
   "cell_type": "code",
   "execution_count": null,
   "metadata": {},
   "outputs": [],
   "source": []
  }
 ],
 "metadata": {
  "kernelspec": {
   "display_name": "Python 3",
   "language": "python",
   "name": "python3"
  },
  "language_info": {
   "codemirror_mode": {
    "name": "ipython",
    "version": 3
   },
   "file_extension": ".py",
   "mimetype": "text/x-python",
   "name": "python",
   "nbconvert_exporter": "python",
   "pygments_lexer": "ipython3",
   "version": "3.11.6"
  }
 },
 "nbformat": 4,
 "nbformat_minor": 2
}
