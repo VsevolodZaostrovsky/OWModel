{
 "cells": [
  {
   "cell_type": "code",
   "execution_count": 172,
   "metadata": {},
   "outputs": [],
   "source": [
    "import numpy as np\n",
    "import matplotlib.pyplot as plt\n",
    "import seaborn as sns\n",
    "import pandas as pd\n",
    "\n",
    "from scipy.optimize import least_squares\n",
    "from sklearn.model_selection import TimeSeriesSplit\n",
    "\n",
    "from tqdm import tqdm\n",
    "\n",
    "sns.set(rc = {\"figure.figsize\":(16, 9)})"
   ]
  },
  {
   "cell_type": "code",
   "execution_count": 176,
   "metadata": {},
   "outputs": [],
   "source": [
    "df = pd.read_csv(\"DataWithoutPairs.csv\")\n",
    "\n",
    "vols = np.array(df[\"Volume\"])\n",
    "vols.sort()\n",
    "\n",
    "changes = np.array(df[\"AskAfter\"] - df[\"AskBefore\"])\n",
    "changes.sort()\n",
    "\n",
    "dfAskT30 = df[df[\"AskAfter\"] - df[\"AskBefore\"] > 0.11]\n",
    "dfVolT30 = df[df[\"Volume\"] > 9e5]\n",
    "\n",
    "NumsVol = np.array(dfVolT30[\"Unnamed: 0\"])\n",
    "NumsAsk = np.array(dfAskT30[\"Unnamed: 0\"])"
   ]
  },
  {
   "cell_type": "code",
   "execution_count": 178,
   "metadata": {},
   "outputs": [
    {
     "data": {
      "text/html": [
       "<div>\n",
       "<style scoped>\n",
       "    .dataframe tbody tr th:only-of-type {\n",
       "        vertical-align: middle;\n",
       "    }\n",
       "\n",
       "    .dataframe tbody tr th {\n",
       "        vertical-align: top;\n",
       "    }\n",
       "\n",
       "    .dataframe thead th {\n",
       "        text-align: right;\n",
       "    }\n",
       "</style>\n",
       "<table border=\"1\" class=\"dataframe\">\n",
       "  <thead>\n",
       "    <tr style=\"text-align: right;\">\n",
       "      <th></th>\n",
       "      <th>Unnamed: 0.1</th>\n",
       "      <th>Unnamed: 0</th>\n",
       "      <th>Time</th>\n",
       "      <th>AskBefore</th>\n",
       "      <th>AskAfter</th>\n",
       "      <th>Volume</th>\n",
       "    </tr>\n",
       "  </thead>\n",
       "  <tbody>\n",
       "    <tr>\n",
       "      <th>117</th>\n",
       "      <td>117</td>\n",
       "      <td>150</td>\n",
       "      <td>14.000051</td>\n",
       "      <td>61.847</td>\n",
       "      <td>61.860</td>\n",
       "      <td>1000000.0</td>\n",
       "    </tr>\n",
       "    <tr>\n",
       "      <th>676</th>\n",
       "      <td>676</td>\n",
       "      <td>859</td>\n",
       "      <td>752.000577</td>\n",
       "      <td>61.875</td>\n",
       "      <td>61.875</td>\n",
       "      <td>924000.0</td>\n",
       "    </tr>\n",
       "    <tr>\n",
       "      <th>755</th>\n",
       "      <td>755</td>\n",
       "      <td>958</td>\n",
       "      <td>889.000223</td>\n",
       "      <td>61.892</td>\n",
       "      <td>61.900</td>\n",
       "      <td>1000000.0</td>\n",
       "    </tr>\n",
       "    <tr>\n",
       "      <th>797</th>\n",
       "      <td>797</td>\n",
       "      <td>1012</td>\n",
       "      <td>944.000107</td>\n",
       "      <td>61.927</td>\n",
       "      <td>61.927</td>\n",
       "      <td>1107000.0</td>\n",
       "    </tr>\n",
       "    <tr>\n",
       "      <th>839</th>\n",
       "      <td>839</td>\n",
       "      <td>1074</td>\n",
       "      <td>1026.000916</td>\n",
       "      <td>61.937</td>\n",
       "      <td>61.945</td>\n",
       "      <td>997000.0</td>\n",
       "    </tr>\n",
       "    <tr>\n",
       "      <th>...</th>\n",
       "      <td>...</td>\n",
       "      <td>...</td>\n",
       "      <td>...</td>\n",
       "      <td>...</td>\n",
       "      <td>...</td>\n",
       "      <td>...</td>\n",
       "    </tr>\n",
       "    <tr>\n",
       "      <th>8573</th>\n",
       "      <td>8573</td>\n",
       "      <td>13956</td>\n",
       "      <td>32272.000676</td>\n",
       "      <td>61.930</td>\n",
       "      <td>61.932</td>\n",
       "      <td>2059000.0</td>\n",
       "    </tr>\n",
       "    <tr>\n",
       "      <th>8814</th>\n",
       "      <td>8814</td>\n",
       "      <td>14454</td>\n",
       "      <td>34166.000371</td>\n",
       "      <td>61.950</td>\n",
       "      <td>61.950</td>\n",
       "      <td>1167000.0</td>\n",
       "    </tr>\n",
       "    <tr>\n",
       "      <th>9291</th>\n",
       "      <td>9291</td>\n",
       "      <td>15306</td>\n",
       "      <td>42668.000433</td>\n",
       "      <td>62.052</td>\n",
       "      <td>62.052</td>\n",
       "      <td>1000000.0</td>\n",
       "    </tr>\n",
       "    <tr>\n",
       "      <th>9689</th>\n",
       "      <td>9689</td>\n",
       "      <td>15943</td>\n",
       "      <td>49297.000503</td>\n",
       "      <td>62.052</td>\n",
       "      <td>62.052</td>\n",
       "      <td>1000000.0</td>\n",
       "    </tr>\n",
       "    <tr>\n",
       "      <th>9690</th>\n",
       "      <td>9690</td>\n",
       "      <td>15951</td>\n",
       "      <td>49297.000509</td>\n",
       "      <td>62.052</td>\n",
       "      <td>62.052</td>\n",
       "      <td>1208000.0</td>\n",
       "    </tr>\n",
       "  </tbody>\n",
       "</table>\n",
       "<p>130 rows × 6 columns</p>\n",
       "</div>"
      ],
      "text/plain": [
       "      Unnamed: 0.1  Unnamed: 0          Time  AskBefore  AskAfter     Volume\n",
       "117            117         150     14.000051     61.847    61.860  1000000.0\n",
       "676            676         859    752.000577     61.875    61.875   924000.0\n",
       "755            755         958    889.000223     61.892    61.900  1000000.0\n",
       "797            797        1012    944.000107     61.927    61.927  1107000.0\n",
       "839            839        1074   1026.000916     61.937    61.945   997000.0\n",
       "...            ...         ...           ...        ...       ...        ...\n",
       "8573          8573       13956  32272.000676     61.930    61.932  2059000.0\n",
       "8814          8814       14454  34166.000371     61.950    61.950  1167000.0\n",
       "9291          9291       15306  42668.000433     62.052    62.052  1000000.0\n",
       "9689          9689       15943  49297.000503     62.052    62.052  1000000.0\n",
       "9690          9690       15951  49297.000509     62.052    62.052  1208000.0\n",
       "\n",
       "[130 rows x 6 columns]"
      ]
     },
     "execution_count": 178,
     "metadata": {},
     "output_type": "execute_result"
    }
   ],
   "source": [
    "dfVolT30"
   ]
  },
  {
   "cell_type": "code",
   "execution_count": 179,
   "metadata": {},
   "outputs": [
    {
     "data": {
      "text/plain": [
       "array([], dtype=int64)"
      ]
     },
     "execution_count": 179,
     "metadata": {},
     "output_type": "execute_result"
    }
   ],
   "source": [
    "np.intersect1d(NumsVol, NumsAsk)"
   ]
  },
  {
   "cell_type": "code",
   "execution_count": 175,
   "metadata": {},
   "outputs": [],
   "source": [
    "filename = \"../data preparing/USD000UTSTOM_l2_ask.txt\""
   ]
  },
  {
   "cell_type": "code",
   "execution_count": 62,
   "metadata": {},
   "outputs": [],
   "source": [
    "def next_asks(filename, mem_len, deal_number):\n",
    "    a = 0\n",
    "    file = open(filename, 'r')\n",
    "\n",
    "    asks = np.full((mem_len + 1, 2), 0, dtype=float)\n",
    "\n",
    "    number = 0  \n",
    "\n",
    "    try:\n",
    "        line = next(file)\n",
    "    except:\n",
    "        print(\"cant read even one line\")\n",
    "        file.close()\n",
    "        return []  \n",
    "       \n",
    "    while True:\n",
    "        try:\n",
    "            line = next(file)\n",
    "        except:\n",
    "            break   \n",
    "\n",
    "        if line[0] != \"P\":\n",
    "            # print(line)\n",
    "            line = line.split()\n",
    "            price = float(line[2][:-1])\n",
    "            time = sum(np.array(line[0].split(\":\")).astype(float) * np.array([3600, 60, 1])) - 36000\n",
    "        else:\n",
    "            # print(line)\n",
    "            # print(number)\n",
    "            if number == deal_number:\n",
    "                line = line.split()\n",
    "                \n",
    "                asks[0][0] = price\n",
    "                asks[0][1] = time    \n",
    "                \n",
    "                for j in range(1, mem_len + 1):\n",
    "                    try:\n",
    "                        line = next(file)\n",
    "                    except:\n",
    "                        break\n",
    "\n",
    "                    if line[0] == \"P\":\n",
    "                        line = line.split()\n",
    "                        a += 1\n",
    "                        continue    \n",
    "\n",
    "                    line = line.split()\n",
    "                    if(abs(float(line[2][:-1])) < 1e-5):\n",
    "                        print(line)\n",
    "                    asks[j - a][0] = float(line[2][:-1])\n",
    "                    asks[j - a][1] = sum(np.array(line[0].split(\":\")).astype(float) * np.array([3600, 60, 1])) - 36000\n",
    "                return asks\n",
    "\n",
    "            number += 1 \n",
    "    file.close()\n",
    "    return asks"
   ]
  },
  {
   "cell_type": "code",
   "execution_count": 63,
   "metadata": {},
   "outputs": [],
   "source": [
    "def plot_asks(filename, mem_len, deal_num):\n",
    "    asks = next_asks(filename, mem_len, deal_num)\n",
    "    fb = np.where(asks == 0)[0][0]\n",
    "    print(fb)\n",
    "    asks = asks[:fb]\n",
    "    plt.plot(asks[:, 1], asks[:,0])"
   ]
  },
  {
   "cell_type": "code",
   "execution_count": 64,
   "metadata": {},
   "outputs": [],
   "source": [
    "def OWdynamics(steady_state, volume, kappa, rho):\n",
    "    def OW(t):\n",
    "        return steady_state + volume * kappa * np.exp(- rho * t)\n",
    "    \n",
    "    return OW"
   ]
  },
  {
   "cell_type": "code",
   "execution_count": 92,
   "metadata": {},
   "outputs": [],
   "source": [
    "def fitOW(times, asks, volume):\n",
    "    def fun(x, ask, t):\n",
    "        return x[0] +  x[1] * np.exp(- x[2] * t) - ask\n",
    "    \n",
    "\n",
    "    res_lsq01 = least_squares(fun, np.array([asks[0], 0.1, 1]), args=(times, asks))\n",
    "    print(res_lsq01.x)\n",
    "\n",
    "    return OWdynamics(res_lsq01.x[0], volume, res_lsq01.x[1], res_lsq01.x[2])"
   ]
  },
  {
   "cell_type": "code",
   "execution_count": 145,
   "metadata": {},
   "outputs": [],
   "source": [
    "def fitOW2p(ask1, ask2, t1, t2, steady):\n",
    "    r = np.log((ask1 - steady)/(ask2 - steady)) / (t2 - t1)\n",
    "    lamb = (ask1 - steady)/np.exp(-r * t1)\n",
    "\n",
    "    return OWdynamics(steady, 1, lamb, r)"
   ]
  },
  {
   "cell_type": "code",
   "execution_count": 180,
   "metadata": {},
   "outputs": [
    {
     "name": "stdout",
     "output_type": "stream",
     "text": [
      "4838\n"
     ]
    }
   ],
   "source": [
    "asks = next_asks(filename, 5000, 4403)\n",
    "fb = np.where(asks == 0)[0][0]\n",
    "print(fb)\n",
    "asks = asks[:fb]"
   ]
  },
  {
   "cell_type": "code",
   "execution_count": 181,
   "metadata": {},
   "outputs": [],
   "source": [
    "a = 0"
   ]
  },
  {
   "cell_type": "code",
   "execution_count": 182,
   "metadata": {},
   "outputs": [
    {
     "name": "stdout",
     "output_type": "stream",
     "text": [
      "[[  62.085      4622.00090527]\n",
      " [  62.085      4622.00090527]\n",
      " [  62.09       4622.00090527]\n",
      " [  62.09       4622.00090572]\n",
      " [  62.09       4622.00095105]\n",
      " [  62.09       4622.00095108]\n",
      " [  62.09       4622.0009624 ]\n",
      " [  62.09       4622.00096241]\n",
      " [  62.09       4622.00097236]\n",
      " [  62.09       4622.00097298]]\n"
     ]
    }
   ],
   "source": [
    "print(asks[a:a+10])\n",
    "a +=10"
   ]
  },
  {
   "cell_type": "code",
   "execution_count": 136,
   "metadata": {},
   "outputs": [],
   "source": [
    "ra = np.array([[ 0     , 0], [  62.09 -  62.085, 4623.00010074 - 4622.00090527], [  62.07 -  62.085, 4623.00085999 - 4622.00090527]])"
   ]
  },
  {
   "cell_type": "code",
   "execution_count": 146,
   "metadata": {},
   "outputs": [
    {
     "name": "stderr",
     "output_type": "stream",
     "text": [
      "/tmp/ipykernel_9990/770571362.py:3: RuntimeWarning: divide by zero encountered in scalar divide\n",
      "  lamb = (ask1 - steady)/np.exp(-r * t1)\n"
     ]
    }
   ],
   "source": [
    "OWf = fitOW2p(62.09, 62.07, 4623.00010074, 4623.00085999, 62.085)"
   ]
  },
  {
   "cell_type": "code",
   "execution_count": 183,
   "metadata": {},
   "outputs": [
    {
     "name": "stderr",
     "output_type": "stream",
     "text": [
      "/tmp/ipykernel_9990/472282612.py:3: RuntimeWarning: invalid value encountered in multiply\n",
      "  return steady_state + volume * kappa * np.exp(- rho * t)\n"
     ]
    },
    {
     "data": {
      "text/plain": [
       "[<matplotlib.lines.Line2D at 0x7fbe12f82290>]"
      ]
     },
     "execution_count": 183,
     "metadata": {},
     "output_type": "execute_result"
    },
    {
     "data": {
      "image/png": "[encoded data removed]",
      "text/plain": [
       "<Figure size 1600x900 with 1 Axes>"
      ]
     },
     "metadata": {},
     "output_type": "display_data"
    }
   ],
   "source": [
    "plt.plot(asks[:, 1], asks[:,0])\n",
    "\n",
    "plt.savefig(\"Palki.pdf\")\n",
    "\n",
    "plt.plot(asks[:, 1], OWf(asks[:, 1]) + 61.54)"
   ]
  },
  {
   "cell_type": "code",
   "execution_count": null,
   "metadata": {},
   "outputs": [],
   "source": []
  },
  {
   "cell_type": "code",
   "execution_count": 40,
   "metadata": {},
   "outputs": [
    {
     "data": {
      "image/png": "[encoded data removed]",
      "text/plain": [
       "<Figure size 1600x900 with 1 Axes>"
      ]
     },
     "metadata": {},
     "output_type": "display_data"
    }
   ],
   "source": [
    "a = 5000\n",
    "\n",
    "pasks = asks[a:a+20000]\n",
    "plt.plot(pasks[:, 1], pasks[:,0])\n",
    "plt.savefig(\"AsksHistory.pdf\")"
   ]
  }
 ],
 "metadata": {
  "kernelspec": {
   "display_name": "Python 3",
   "language": "python",
   "name": "python3"
  },
  "language_info": {
   "codemirror_mode": {
    "name": "ipython",
    "version": 3
   },
   "file_extension": ".py",
   "mimetype": "text/x-python",
   "name": "python",
   "nbconvert_exporter": "python",
   "pygments_lexer": "ipython3",
   "version": "3.11.7"
  }
 },
 "nbformat": 4,
 "nbformat_minor": 2
}
