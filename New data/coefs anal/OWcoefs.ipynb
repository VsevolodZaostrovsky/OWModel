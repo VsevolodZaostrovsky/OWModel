{
 "cells": [
  {
   "cell_type": "code",
   "execution_count": 1,
   "metadata": {},
   "outputs": [],
   "source": [
    "import pandas as pd\n",
    "import numpy as np\n",
    "import matplotlib.pyplot as plt\n",
    "\n",
    "import statsmodels.api as sm\n",
    "\n",
    "from statsmodels.regression.linear_model import OLS"
   ]
  },
  {
   "cell_type": "code",
   "execution_count": 54,
   "metadata": {},
   "outputs": [],
   "source": [
    "df = pd.read_csv(\"Data.csv\")"
   ]
  },
  {
   "cell_type": "code",
   "execution_count": 19,
   "metadata": {},
   "outputs": [],
   "source": [
    "def df_OLS_anal(df: pd.DataFrame):\n",
    "    max = len(df)\n",
    "    for index, row in df.iterrows():\n",
    "        if index < max - 1 and abs(df.loc[index, 'Time'] - df.loc[index + 1, 'Time']) < 1e-6:\n",
    "            # print(index)\n",
    "            df.loc[index + 1, 'Volume'] = df.loc[index + 1, 'Volume'] + df.loc[index, 'Volume']\n",
    "            df.loc[index + 1, 'AskBefore'] = df.loc[index, 'AskBefore']\n",
    "            df = df.drop([index])\n",
    "\n",
    "    deltaA = df[\"AskAfter\"][1:] - df[\"AskBefore\"][1:]\n",
    "    deltat = np.diff(df[\"Time\"])\n",
    "    x = df[\"Volume\"][1:]\n",
    "\n",
    "    dA = deltaA / deltat\n",
    "    dx = x / deltat\n",
    "\n",
    "    ddx = np.diff(dx)\n",
    "    ddA = np.diff(dA)\n",
    "\n",
    "    OLSdf = pd.DataFrame({\n",
    "        \"SUM\": ddA,\n",
    "        \"-rho\": deltaA[:-1],\n",
    "        \"rho lambda\": x[:-1],\n",
    "        \"kappa + lambda\": ddx\n",
    "    })\n",
    "\n",
    "    Regressand = OLSdf[\"SUM\"]\n",
    "\n",
    "    Regressors = OLSdf[[\"-rho\", \"rho lambda\", \"kappa + lambda\"]]\n",
    "\n",
    "    Regressors = sm.add_constant(Regressors, prepend=False)\n",
    "\n",
    "    model = OLS(Regressand, Regressors)\n",
    "\n",
    "    res = model.fit()\n",
    "\n",
    "    print(res.summary()) "
   ]
  },
  {
   "cell_type": "code",
   "execution_count": 47,
   "metadata": {},
   "outputs": [],
   "source": [
    "def df_OLS_coefs(df: pd.DataFrame):\n",
    "    max = len(df)\n",
    "    for index, row in df.iterrows():\n",
    "        if index < max - 1 and abs(df.loc[index, 'Time'] - df.loc[index + 1, 'Time']) < 1e-6:\n",
    "            # print(index)\n",
    "            df.loc[index + 1, 'Volume'] = df.loc[index + 1, 'Volume'] + df.loc[index, 'Volume']\n",
    "            df.loc[index + 1, 'AskBefore'] = df.loc[index, 'AskBefore']\n",
    "            df = df.drop([index])\n",
    "\n",
    "    deltaA = df[\"AskAfter\"][1:] - df[\"AskBefore\"][1:]\n",
    "    deltat = np.diff(df[\"Time\"])\n",
    "    x = df[\"Volume\"][1:]\n",
    "\n",
    "    dA = deltaA / deltat\n",
    "    dx = x / deltat\n",
    "\n",
    "    ddx = np.diff(dx)\n",
    "    ddA = np.diff(dA)\n",
    "\n",
    "    OLSdf = pd.DataFrame({\n",
    "        \"SUM\": ddA,\n",
    "        \"-rho\": deltaA[:-1],\n",
    "        \"rho lambda\": x[:-1],\n",
    "        \"kappa + lambda\": ddx\n",
    "    })\n",
    "\n",
    "    Regressand = OLSdf[\"SUM\"]\n",
    "\n",
    "    Regressors = OLSdf[[\"-rho\", \"rho lambda\", \"kappa + lambda\"]]\n",
    "\n",
    "    Regressors = sm.add_constant(Regressors, prepend=False)\n",
    "\n",
    "    model = OLS(Regressand, Regressors)\n",
    "\n",
    "    res = model.fit()\n",
    "\n",
    "    rho = - res.params[0]\n",
    "    lamb = res.params[1] / rho\n",
    "    kappa = res.params[2] - lamb\n",
    "\n",
    "    return rho, kappa, lamb"
   ]
  },
  {
   "cell_type": "code",
   "execution_count": 48,
   "metadata": {},
   "outputs": [
    {
     "name": "stderr",
     "output_type": "stream",
     "text": [
      "/tmp/ipykernel_13799/3114995880.py:37: FutureWarning: Series.__getitem__ treating keys as positions is deprecated. In a future version, integer keys will always be treated as labels (consistent with DataFrame behavior). To access a value by position, use `ser.iloc[pos]`\n",
      "  rho = - res.params[0]\n",
      "/tmp/ipykernel_13799/3114995880.py:38: FutureWarning: Series.__getitem__ treating keys as positions is deprecated. In a future version, integer keys will always be treated as labels (consistent with DataFrame behavior). To access a value by position, use `ser.iloc[pos]`\n",
      "  lamb = res.params[1] / rho\n",
      "/tmp/ipykernel_13799/3114995880.py:39: FutureWarning: Series.__getitem__ treating keys as positions is deprecated. In a future version, integer keys will always be treated as labels (consistent with DataFrame behavior). To access a value by position, use `ser.iloc[pos]`\n",
      "  kappa = res.params[2] - lamb\n"
     ]
    },
    {
     "data": {
      "text/plain": [
       "(15033.62964678484, -5.048376251178723e-08, 5.707670757249037e-08)"
      ]
     },
     "execution_count": 48,
     "metadata": {},
     "output_type": "execute_result"
    }
   ],
   "source": [
    "df_OLS_coefs(df)"
   ]
  },
  {
   "cell_type": "code",
   "execution_count": 368,
   "metadata": {},
   "outputs": [
    {
     "name": "stdout",
     "output_type": "stream",
     "text": [
      "                            OLS Regression Results                            \n",
      "==============================================================================\n",
      "Dep. Variable:                    SUM   R-squared:                       0.043\n",
      "Model:                            OLS   Adj. R-squared:                  0.042\n",
      "Method:                 Least Squares   F-statistic:                     144.3\n",
      "Date:                Sun, 14 Jan 2024   Prob (F-statistic):           1.74e-91\n",
      "Time:                        14:25:56   Log-Likelihood:                -90059.\n",
      "No. Observations:                9743   AIC:                         1.801e+05\n",
      "Df Residuals:                    9739   BIC:                         1.802e+05\n",
      "Df Model:                           3                                         \n",
      "Covariance Type:            nonrobust                                         \n",
      "==================================================================================\n",
      "                     coef    std err          t      P>|t|      [0.025      0.975]\n",
      "----------------------------------------------------------------------------------\n",
      "-rho           -1.503e+04    981.693    -15.314      0.000    -1.7e+04   -1.31e+04\n",
      "rho lambda         0.0009      0.000      7.521      0.000       0.001       0.001\n",
      "kappa + lambda  6.593e-09   5.22e-10     12.628      0.000    5.57e-09    7.62e-09\n",
      "const              0.4313     27.003      0.016      0.987     -52.501      53.363\n",
      "==============================================================================\n",
      "Omnibus:                     5504.252   Durbin-Watson:                   2.828\n",
      "Prob(Omnibus):                  0.000   Jarque-Bera (JB):         16410123.140\n",
      "Skew:                           1.015   Prob(JB):                         0.00\n",
      "Kurtosis:                     204.045   Cond. No.                     1.89e+12\n",
      "==============================================================================\n",
      "\n",
      "Notes:\n",
      "[1] Standard Errors assume that the covariance matrix of the errors is correctly specified.\n",
      "[2] The condition number is large, 1.89e+12. This might indicate that there are\n",
      "strong multicollinearity or other numerical problems.\n"
     ]
    }
   ],
   "source": [
    "df_OLS_anal(df)"
   ]
  },
  {
   "cell_type": "code",
   "execution_count": 55,
   "metadata": {},
   "outputs": [
    {
     "name": "stdout",
     "output_type": "stream",
     "text": [
      "                            OLS Regression Results                            \n",
      "==============================================================================\n",
      "Dep. Variable:                    SUM   R-squared:                       0.233\n",
      "Model:                            OLS   Adj. R-squared:                  0.223\n",
      "Method:                 Least Squares   F-statistic:                     22.85\n",
      "Date:                Tue, 16 Jan 2024   Prob (F-statistic):           5.85e-13\n",
      "Time:                        16:30:10   Log-Likelihood:                -2002.7\n",
      "No. Observations:                 230   AIC:                             4013.\n",
      "Df Residuals:                     226   BIC:                             4027.\n",
      "Df Model:                           3                                         \n",
      "Covariance Type:            nonrobust                                         \n",
      "==================================================================================\n",
      "                     coef    std err          t      P>|t|      [0.025      0.975]\n",
      "----------------------------------------------------------------------------------\n",
      "-rho           -1.263e+04   5073.805     -2.489      0.014   -2.26e+04   -2631.091\n",
      "rho lambda         0.0064      0.001      6.960      0.000       0.005       0.008\n",
      "kappa + lambda -6.071e-08   1.94e-08     -3.131      0.002   -9.89e-08   -2.25e-08\n",
      "const           -152.7822    107.826     -1.417      0.158    -365.254      59.690\n",
      "==============================================================================\n",
      "Omnibus:                      193.691   Durbin-Watson:                   1.908\n",
      "Prob(Omnibus):                  0.000   Jarque-Bera (JB):            27882.400\n",
      "Skew:                          -2.365   Prob(JB):                         0.00\n",
      "Kurtosis:                      56.732   Cond. No.                     2.63e+11\n",
      "==============================================================================\n",
      "\n",
      "Notes:\n",
      "[1] Standard Errors assume that the covariance matrix of the errors is correctly specified.\n",
      "[2] The condition number is large, 2.63e+11. This might indicate that there are\n",
      "strong multicollinearity or other numerical problems.\n"
     ]
    }
   ],
   "source": [
    "df = df[df[\"Time\"] < 6200]\n",
    "df = df[df[\"Time\"] > 5800]\n",
    "df = df.reset_index()\n",
    "df = df.drop([\"index\"], axis=1)\n",
    "df_OLS_anal(df)"
   ]
  },
  {
   "cell_type": "code",
   "execution_count": 374,
   "metadata": {},
   "outputs": [
    {
     "name": "stdout",
     "output_type": "stream",
     "text": [
      "                            OLS Regression Results                            \n",
      "==============================================================================\n",
      "Dep. Variable:                    SUM   R-squared:                       0.439\n",
      "Model:                            OLS   Adj. R-squared:                  0.436\n",
      "Method:                 Least Squares   F-statistic:                     159.5\n",
      "Date:                Sun, 14 Jan 2024   Prob (F-statistic):           2.17e-76\n",
      "Time:                        14:28:20   Log-Likelihood:                -6133.8\n",
      "No. Observations:                 616   AIC:                         1.228e+04\n",
      "Df Residuals:                     612   BIC:                         1.229e+04\n",
      "Df Model:                           3                                         \n",
      "Covariance Type:            nonrobust                                         \n",
      "==================================================================================\n",
      "                     coef    std err          t      P>|t|      [0.025      0.975]\n",
      "----------------------------------------------------------------------------------\n",
      "-rho           -4099.6975   2230.535     -1.838      0.067   -8480.128     280.733\n",
      "rho lambda         0.0018      0.002      1.007      0.314      -0.002       0.005\n",
      "kappa + lambda  5.565e-07   2.55e-08     21.813      0.000    5.06e-07    6.07e-07\n",
      "const            125.6809    243.258      0.517      0.606    -352.040     603.402\n",
      "==============================================================================\n",
      "Omnibus:                      265.009   Durbin-Watson:                   2.600\n",
      "Prob(Omnibus):                  0.000   Jarque-Bera (JB):            16011.443\n",
      "Skew:                           1.061   Prob(JB):                         0.00\n",
      "Kurtosis:                      27.886   Cond. No.                     8.76e+10\n",
      "==============================================================================\n",
      "\n",
      "Notes:\n",
      "[1] Standard Errors assume that the covariance matrix of the errors is correctly specified.\n",
      "[2] The condition number is large, 8.76e+10. This might indicate that there are\n",
      "strong multicollinearity or other numerical problems.\n"
     ]
    }
   ],
   "source": [
    "df = df[df[\"AskAfter\"] - df[\"AskBefore\"] > 0.01]\n",
    "df = df.reset_index()\n",
    "df = df.drop([\"index\"], axis=1)\n",
    "df_OLS_anal(df)"
   ]
  }
 ],
 "metadata": {
  "kernelspec": {
   "display_name": "Python 3",
   "language": "python",
   "name": "python3"
  },
  "language_info": {
   "codemirror_mode": {
    "name": "ipython",
    "version": 3
   },
   "file_extension": ".py",
   "mimetype": "text/x-python",
   "name": "python",
   "nbconvert_exporter": "python",
   "pygments_lexer": "ipython3",
   "version": "3.11.7"
  }
 },
 "nbformat": 4,
 "nbformat_minor": 2
}
