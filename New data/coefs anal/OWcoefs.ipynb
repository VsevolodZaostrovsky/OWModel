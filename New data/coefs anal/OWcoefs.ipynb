{
 "cells": [
  {
   "cell_type": "code",
   "execution_count": 358,
   "metadata": {},
   "outputs": [],
   "source": [
    "import pandas as pd\n",
    "import numpy as np\n",
    "import matplotlib.pyplot as plt\n",
    "\n",
    "import statsmodels.api as sm\n",
    "\n",
    "from statsmodels.regression.linear_model import OLS"
   ]
  },
  {
   "cell_type": "code",
   "execution_count": 372,
   "metadata": {},
   "outputs": [],
   "source": [
    "df = pd.read_csv(\"Data.csv\")"
   ]
  },
  {
   "cell_type": "code",
   "execution_count": 367,
   "metadata": {},
   "outputs": [],
   "source": [
    "def df_OLS_anal(df: pd.DataFrame):\n",
    "    max = len(df)\n",
    "    for index, row in df.iterrows():\n",
    "        if index < max - 1 and abs(df.loc[index, 'Time'] - df.loc[index + 1, 'Time']) < 1e-6:\n",
    "            # print(index)\n",
    "            df.loc[index + 1, 'Volume'] = df.loc[index + 1, 'Volume'] + df.loc[index, 'Volume']\n",
    "            df.loc[index + 1, 'AskBefore'] = df.loc[index, 'AskBefore']\n",
    "            df = df.drop([index])\n",
    "\n",
    "    deltaA = df[\"AskAfter\"][1:] - df[\"AskBefore\"][1:]\n",
    "    deltat = np.diff(df[\"Time\"])\n",
    "    x = df[\"Volume\"][1:]\n",
    "\n",
    "    dA = deltaA / deltat\n",
    "    dx = x / deltat\n",
    "\n",
    "    ddx = np.diff(dx)\n",
    "    ddA = np.diff(dA)\n",
    "\n",
    "    OLSdf = pd.DataFrame({\n",
    "        \"SUM\": ddA,\n",
    "        \"-rho\": deltaA[:-1],\n",
    "        \"rho lambda\": x[:-1],\n",
    "        \"kappa + lambda\": ddx\n",
    "    })\n",
    "\n",
    "    Regressand = OLSdf[\"SUM\"]\n",
    "\n",
    "    Regressors = OLSdf[[\"-rho\", \"rho lambda\", \"kappa + lambda\"]]\n",
    "\n",
    "    Regressors = sm.add_constant(Regressors, prepend=False)\n",
    "\n",
    "    model = OLS(Regressand, Regressors)\n",
    "\n",
    "    res = model.fit()\n",
    "\n",
    "    print(res.summary())\n",
    "    "
   ]
  },
  {
   "cell_type": "code",
   "execution_count": 368,
   "metadata": {},
   "outputs": [
    {
     "name": "stdout",
     "output_type": "stream",
     "text": [
      "                            OLS Regression Results                            \n",
      "==============================================================================\n",
      "Dep. Variable:                    SUM   R-squared:                       0.043\n",
      "Model:                            OLS   Adj. R-squared:                  0.042\n",
      "Method:                 Least Squares   F-statistic:                     144.3\n",
      "Date:                Sun, 14 Jan 2024   Prob (F-statistic):           1.74e-91\n",
      "Time:                        14:25:56   Log-Likelihood:                -90059.\n",
      "No. Observations:                9743   AIC:                         1.801e+05\n",
      "Df Residuals:                    9739   BIC:                         1.802e+05\n",
      "Df Model:                           3                                         \n",
      "Covariance Type:            nonrobust                                         \n",
      "==================================================================================\n",
      "                     coef    std err          t      P>|t|      [0.025      0.975]\n",
      "----------------------------------------------------------------------------------\n",
      "-rho           -1.503e+04    981.693    -15.314      0.000    -1.7e+04   -1.31e+04\n",
      "rho lambda         0.0009      0.000      7.521      0.000       0.001       0.001\n",
      "kappa + lambda  6.593e-09   5.22e-10     12.628      0.000    5.57e-09    7.62e-09\n",
      "const              0.4313     27.003      0.016      0.987     -52.501      53.363\n",
      "==============================================================================\n",
      "Omnibus:                     5504.252   Durbin-Watson:                   2.828\n",
      "Prob(Omnibus):                  0.000   Jarque-Bera (JB):         16410123.140\n",
      "Skew:                           1.015   Prob(JB):                         0.00\n",
      "Kurtosis:                     204.045   Cond. No.                     1.89e+12\n",
      "==============================================================================\n",
      "\n",
      "Notes:\n",
      "[1] Standard Errors assume that the covariance matrix of the errors is correctly specified.\n",
      "[2] The condition number is large, 1.89e+12. This might indicate that there are\n",
      "strong multicollinearity or other numerical problems.\n"
     ]
    }
   ],
   "source": [
    "df_OLS_anal(df)"
   ]
  },
  {
   "cell_type": "code",
   "execution_count": 373,
   "metadata": {},
   "outputs": [
    {
     "name": "stdout",
     "output_type": "stream",
     "text": [
      "                            OLS Regression Results                            \n",
      "==============================================================================\n",
      "Dep. Variable:                    SUM   R-squared:                       0.029\n",
      "Model:                            OLS   Adj. R-squared:                  0.028\n",
      "Method:                 Least Squares   F-statistic:                     36.83\n",
      "Date:                Sun, 14 Jan 2024   Prob (F-statistic):           1.88e-23\n",
      "Time:                        14:28:01   Log-Likelihood:                -36363.\n",
      "No. Observations:                3745   AIC:                         7.273e+04\n",
      "Df Residuals:                    3741   BIC:                         7.276e+04\n",
      "Df Model:                           3                                         \n",
      "Covariance Type:            nonrobust                                         \n",
      "==================================================================================\n",
      "                     coef    std err          t      P>|t|      [0.025      0.975]\n",
      "----------------------------------------------------------------------------------\n",
      "-rho           -1.255e+04   1602.043     -7.832      0.000   -1.57e+04   -9406.311\n",
      "rho lambda         0.0011      0.000      3.972      0.000       0.001       0.002\n",
      "kappa + lambda  8.242e-09   1.32e-09      6.239      0.000    5.65e-09    1.08e-08\n",
      "const             59.1374     70.842      0.835      0.404     -79.756     198.030\n",
      "==============================================================================\n",
      "Omnibus:                     1636.308   Durbin-Watson:                   2.891\n",
      "Prob(Omnibus):                  0.000   Jarque-Bera (JB):          1214322.502\n",
      "Skew:                           0.589   Prob(JB):                         0.00\n",
      "Kurtosis:                      91.208   Cond. No.                     1.23e+12\n",
      "==============================================================================\n",
      "\n",
      "Notes:\n",
      "[1] Standard Errors assume that the covariance matrix of the errors is correctly specified.\n",
      "[2] The condition number is large, 1.23e+12. This might indicate that there are\n",
      "strong multicollinearity or other numerical problems.\n"
     ]
    }
   ],
   "source": [
    "df = df[df[\"AskAfter\"] - df[\"AskBefore\"] > 0.001]\n",
    "df = df.reset_index()\n",
    "df = df.drop([\"index\"], axis=1)\n",
    "df_OLS_anal(df)"
   ]
  },
  {
   "cell_type": "code",
   "execution_count": 374,
   "metadata": {},
   "outputs": [
    {
     "name": "stdout",
     "output_type": "stream",
     "text": [
      "                            OLS Regression Results                            \n",
      "==============================================================================\n",
      "Dep. Variable:                    SUM   R-squared:                       0.439\n",
      "Model:                            OLS   Adj. R-squared:                  0.436\n",
      "Method:                 Least Squares   F-statistic:                     159.5\n",
      "Date:                Sun, 14 Jan 2024   Prob (F-statistic):           2.17e-76\n",
      "Time:                        14:28:20   Log-Likelihood:                -6133.8\n",
      "No. Observations:                 616   AIC:                         1.228e+04\n",
      "Df Residuals:                     612   BIC:                         1.229e+04\n",
      "Df Model:                           3                                         \n",
      "Covariance Type:            nonrobust                                         \n",
      "==================================================================================\n",
      "                     coef    std err          t      P>|t|      [0.025      0.975]\n",
      "----------------------------------------------------------------------------------\n",
      "-rho           -4099.6975   2230.535     -1.838      0.067   -8480.128     280.733\n",
      "rho lambda         0.0018      0.002      1.007      0.314      -0.002       0.005\n",
      "kappa + lambda  5.565e-07   2.55e-08     21.813      0.000    5.06e-07    6.07e-07\n",
      "const            125.6809    243.258      0.517      0.606    -352.040     603.402\n",
      "==============================================================================\n",
      "Omnibus:                      265.009   Durbin-Watson:                   2.600\n",
      "Prob(Omnibus):                  0.000   Jarque-Bera (JB):            16011.443\n",
      "Skew:                           1.061   Prob(JB):                         0.00\n",
      "Kurtosis:                      27.886   Cond. No.                     8.76e+10\n",
      "==============================================================================\n",
      "\n",
      "Notes:\n",
      "[1] Standard Errors assume that the covariance matrix of the errors is correctly specified.\n",
      "[2] The condition number is large, 8.76e+10. This might indicate that there are\n",
      "strong multicollinearity or other numerical problems.\n"
     ]
    }
   ],
   "source": [
    "df = df[df[\"AskAfter\"] - df[\"AskBefore\"] > 0.01]\n",
    "df = df.reset_index()\n",
    "df = df.drop([\"index\"], axis=1)\n",
    "df_OLS_anal(df)"
   ]
  }
 ],
 "metadata": {
  "kernelspec": {
   "display_name": "Python 3",
   "language": "python",
   "name": "python3"
  },
  "language_info": {
   "codemirror_mode": {
    "name": "ipython",
    "version": 3
   },
   "file_extension": ".py",
   "mimetype": "text/x-python",
   "name": "python",
   "nbconvert_exporter": "python",
   "pygments_lexer": "ipython3",
   "version": "3.11.7"
  }
 },
 "nbformat": 4,
 "nbformat_minor": 2
}
