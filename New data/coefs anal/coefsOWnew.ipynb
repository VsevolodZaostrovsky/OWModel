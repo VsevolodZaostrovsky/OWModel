{
 "cells": [
  {
   "cell_type": "code",
   "execution_count": 21,
   "metadata": {},
   "outputs": [],
   "source": [
    "import pandas as pd\n",
    "import numpy as np\n",
    "import matplotlib.pyplot as plt\n",
    "import os\n",
    "\n",
    "import statsmodels.api as sm\n",
    "\n",
    "from statsmodels.regression.linear_model import OLS"
   ]
  },
  {
   "cell_type": "code",
   "execution_count": 80,
   "metadata": {},
   "outputs": [
    {
     "name": "stdout",
     "output_type": "stream",
     "text": [
      "data/GBPRUB_TOMWP.csv\n",
      "data/USD000000TODWP.csv\n",
      "data/USD000UTSTOMWP.csv\n",
      "data/USD000TODTOMWP.csv\n",
      "data/EURUSD000TOMWP.csv\n",
      "data/EUR000TODTOMWP.csv\n",
      "data/EUR_RUB__TOMWP.csv\n",
      "data/EUR_RUB__TODWP.csv\n",
      "data/CNYRUB_TOMWP.csv\n",
      "[array(['EUR000TODTOM', '73', '192', '68505660.37735848',\n",
      "       '0.7245283018867924', '0.8904109589041096'], dtype='<U32'), array(['CNYRUB_TOM', '81', '86', '3938323.353293413',\n",
      "       '0.5149700598802395', '0.5061728395061729'], dtype='<U32'), array(['EURUSD000TOM', '82', '833', '1288622.950819672',\n",
      "       '0.9103825136612022', '0.25609756097560976'], dtype='<U32'), array(['GBPRUB_TOM', '85', '149', '74871.79487179487',\n",
      "       '0.6367521367521367', '0.0'], dtype='<U32'), array(['USD000TODTOM', '369', '974', '72096798.21295607',\n",
      "       '0.7252419955323902', '0.8943089430894309'], dtype='<U32'), array(['EUR_RUB__TOM', '912', '12471', '734976.4626765299',\n",
      "       '0.9318538444295001', '0.32346491228070173'], dtype='<U32'), array(['EUR_RUB__TOD', '1753', '2381', '687010.1596516691',\n",
      "       '0.5759554910498307', '0.41585852823730746'], dtype='<U32'), array(['USD000000TOD', '1834', '11557', '969572.8474348444',\n",
      "       '0.8630423418714062', '0.31025081788440567'], dtype='<U32'), array(['USD000UTSTOM', '2250', '39713', '1395885.899482878',\n",
      "       '0.9463813359388032', '0.208'], dtype='<U32')]\n"
     ]
    }
   ],
   "source": [
    "directory = \"data\"\n",
    " \n",
    "files = os.listdir(directory)\n",
    "\n",
    "listQuadras = []\n",
    "\n",
    "for file in files:\n",
    "    if(file.endswith(\".csv\")):\n",
    "        print(\"data/\"+file)\n",
    "        df = pd.read_csv(\"data/\"+file)\n",
    "        total = len(df)\n",
    "        lil = len(df[df[\"AskAfter\"] - df[\"AskBefore\"] <=0 ])\n",
    "        me = np.mean(df[\"Volume\"])\n",
    "        spikes = len(df[((df[\"AskAfter\"] - df[\"AskBefore\"] > 0) & (df[\"Volume\"] < me * 1e-1))])\n",
    "                  \n",
    "        listQuadras.append(np.array(\n",
    "            [\n",
    "            file[:-6]\n",
    "            ,total - lil\n",
    "            ,lil\n",
    "            # ,spikes\n",
    "            ,me * 1e1\n",
    "            , lil/total\n",
    "            , spikes/(total - lil)\n",
    "            ]\n",
    "            # len(df[df[\"AskAfter\"] - df[\"AskBefore\"] <= 0  & df[\"Volume\"] > 1e5])\n",
    "            ))\n",
    "\n",
    "listQuadras.sort(key=lambda x: int(x[1]))\n",
    "print(listQuadras)"
   ]
  },
  {
   "cell_type": "code",
   "execution_count": 81,
   "metadata": {},
   "outputs": [
    {
     "name": "stdout",
     "output_type": "stream",
     "text": [
      "USD000UTSTOM & 2250 & 39713 & 1395885.899482878 & 0.9463813359388032 & 0.208 \\\\ \\hline\n",
      "USD000000TOD & 1834 & 11557 & 969572.8474348444 & 0.8630423418714062 & 0.31025081788440567 \\\\ \\hline\n",
      "EUR_RUB__TOD & 1753 & 2381 & 687010.1596516691 & 0.5759554910498307 & 0.41585852823730746 \\\\ \\hline\n",
      "EUR_RUB__TOM & 912 & 12471 & 734976.4626765299 & 0.9318538444295001 & 0.32346491228070173 \\\\ \\hline\n",
      "USD000TODTOM & 369 & 974 & 72096798.21295607 & 0.7252419955323902 & 0.8943089430894309 \\\\ \\hline\n",
      "GBPRUB_TOM & 85 & 149 & 74871.79487179487 & 0.6367521367521367 & 0.0 \\\\ \\hline\n",
      "EURUSD000TOM & 82 & 833 & 1288622.950819672 & 0.9103825136612022 & 0.25609756097560976 \\\\ \\hline\n",
      "CNYRUB_TOM & 81 & 86 & 3938323.353293413 & 0.5149700598802395 & 0.5061728395061729 \\\\ \\hline\n",
      "EUR000TODTOM & 73 & 192 & 68505660.37735848 & 0.7245283018867924 & 0.8904109589041096 \\\\ \\hline\n"
     ]
    }
   ],
   "source": [
    "for q in listQuadras[::-1]:\n",
    "    print(\" & \".join(q) + \" \\\\\\\\ \\hline\")"
   ]
  },
  {
   "cell_type": "code",
   "execution_count": null,
   "metadata": {},
   "outputs": [],
   "source": [
    "df = pd.read_csv(\"data/USD000UTSTOMWP.csv\")"
   ]
  },
  {
   "cell_type": "code",
   "execution_count": 19,
   "metadata": {},
   "outputs": [
    {
     "data": {
      "text/plain": [
       "2250"
      ]
     },
     "execution_count": 19,
     "metadata": {},
     "output_type": "execute_result"
    }
   ],
   "source": [
    "len(df[df[\"AskAfter\"] - df[\"AskBefore\"] > 0])"
   ]
  },
  {
   "cell_type": "code",
   "execution_count": 20,
   "metadata": {},
   "outputs": [
    {
     "data": {
      "text/plain": [
       "41963"
      ]
     },
     "execution_count": 20,
     "metadata": {},
     "output_type": "execute_result"
    }
   ],
   "source": [
    "len(df)"
   ]
  },
  {
   "cell_type": "code",
   "execution_count": 15,
   "metadata": {},
   "outputs": [],
   "source": [
    "def df_OLS_anal(df: pd.DataFrame):\n",
    "    deltaA = np.array(df[\"AskAfter\"] - df[\"AskBefore\"])[1:-1]\n",
    "    deltat = np.array(np.diff(df[\"Time\"]))[1:]\n",
    "    x = np.array(df[\"Volume\"][1:-1])\n",
    "\n",
    "    dA = np.array(deltaA / deltat)\n",
    "    dx = np.array(x / deltat)\n",
    "    ddx = np.array(np.diff(dx))\n",
    "    ddA = np.array(np.diff(dA))\n",
    "\n",
    "    OLSdf = pd.DataFrame({\n",
    "        \"SUM\": ddA,\n",
    "        \"-rho\": deltaA[:-1],\n",
    "        \"-rho kappa\": x[1:],\n",
    "        \"rho (lambda + kappa)\": x[:-1],\n",
    "        \"kappa + lambda\": ddx\n",
    "    })\n",
    "\n",
    "    Regressand = OLSdf[\"SUM\"]\n",
    "\n",
    "    Regressors = OLSdf[[\"-rho\", \"-rho kappa\", \"rho (lambda + kappa)\", \"kappa + lambda\"]]\n",
    "\n",
    "    # Regressors = sm.add_constant(Regressors, prepend=False)\n",
    "\n",
    "    model = OLS(Regressand, Regressors)\n",
    "\n",
    "    res = model.fit()\n",
    "\n",
    "    print(res.summary()) \n",
    "\n",
    "    rho = - res.params.iloc[0]\n",
    "    kappa = - res.params.iloc[1] / rho\n",
    "    lamb = res.params.iloc[2] / rho - kappa\n",
    "    # lamb2 = res.params.iloc[3] - kappa\n",
    "    \n",
    "\n",
    "    print(\"rho = \", rho, \"\\nlambda = \", lamb, \"\\nkappa = \", kappa, \"\\n \\n\", end=\"\")"
   ]
  },
  {
   "cell_type": "code",
   "execution_count": null,
   "metadata": {},
   "outputs": [],
   "source": [
    "def df_OLS_anal_AO(df: pd.DataFrame):\n",
    "    deltaA = np.array(df[\"AskAfter\"] - df[\"AskBefore\"])[1:-1]\n",
    "    deltat = np.array(np.diff(df[\"Time\"]))[1:]\n",
    "    x = np.array(df[\"Volume\"][1:-1])\n",
    "\n",
    "    dA = np.array(deltaA / deltat)\n",
    "    dx = np.array(x / deltat)\n",
    "    ddx = np.array(np.diff(dx))\n",
    "    ddA = np.array(np.diff(dA))\n",
    "\n",
    "    OLSdf = pd.DataFrame({\n",
    "        \"SUM\": ddA,\n",
    "        \"-rho\": deltaA[:-1],\n",
    "        \"-rho kappa\": x[1:],\n",
    "        \"rho (lambda + kappa)\": x[:-1],\n",
    "        \"kappa + lambda\": ddx\n",
    "    })\n",
    "\n",
    "    Regressand = OLSdf[\"SUM\"]\n",
    "\n",
    "    Regressors = OLSdf[[\"-rho\", \"-rho kappa\", \"rho (lambda + kappa)\", \"kappa + lambda\"]]\n",
    "\n",
    "    # Regressors = sm.add_constant(Regressors, prepend=False)\n",
    "\n",
    "    model = OLS(Regressand, Regressors)\n",
    "\n",
    "    res = model.fit()\n",
    "\n",
    "    print(res.summary()) \n",
    "\n",
    "    rho = - res.params.iloc[0]\n",
    "    kappa = - res.params.iloc[1] / rho\n",
    "    lamb = res.params.iloc[2] / rho - kappa\n",
    "    # lamb2 = res.params.iloc[3] - kappa\n",
    "    \n",
    "\n",
    "    print(\"rho = \", rho, \"\\nlambda = \", lamb, \"\\nkappa = \", kappa, \"\\n \\n\", end=\"\")"
   ]
  },
  {
   "cell_type": "code",
   "execution_count": 18,
   "metadata": {},
   "outputs": [
    {
     "name": "stdout",
     "output_type": "stream",
     "text": [
      "                            OLS Regression Results                            \n",
      "==============================================================================\n",
      "Dep. Variable:                    SUM   R-squared:                       0.031\n",
      "Model:                            OLS   Adj. R-squared:                  0.031\n",
      "Method:                 Least Squares   F-statistic:                     448.6\n",
      "Date:                Mon, 22 Jan 2024   Prob (F-statistic):          6.81e-287\n",
      "Time:                        16:57:43   Log-Likelihood:            -3.6245e+05\n",
      "No. Observations:               41960   AIC:                         7.249e+05\n",
      "Df Residuals:                   41956   BIC:                         7.249e+05\n",
      "Df Model:                           3                                         \n",
      "Covariance Type:            nonrobust                                         \n",
      "========================================================================================\n",
      "                           coef    std err          t      P>|t|      [0.025      0.975]\n",
      "----------------------------------------------------------------------------------------\n",
      "-rho                 -1.835e+04    517.200    -35.471      0.000   -1.94e+04   -1.73e+04\n",
      "-rho kappa           -3.501e-06   2.16e-05     -0.162      0.871   -4.59e-05    3.89e-05\n",
      "rho (lambda + kappa)  3.463e-05   2.14e-05      1.618      0.106   -7.33e-06    7.66e-05\n",
      "kappa + lambda        3.156e-10   4.32e-11      7.298      0.000    2.31e-10       4e-10\n",
      "==============================================================================\n",
      "Omnibus:                    67661.114   Durbin-Watson:                   3.005\n",
      "Prob(Omnibus):                  0.000   Jarque-Bera (JB):      60926228896.977\n",
      "Skew:                           8.463   Prob(JB):                         0.00\n",
      "Kurtosis:                    5906.210   Cond. No.                     1.70e+13\n",
      "==============================================================================\n",
      "\n",
      "Notes:\n",
      "[1] Standard Errors assume that the covariance matrix of the errors is correctly specified.\n",
      "[2] The condition number is large, 1.7e+13. This might indicate that there are\n",
      "strong multicollinearity or other numerical problems.\n",
      "rho =  18345.72097554618 \n",
      "lambda =  1.6968441489982832e-09 \n",
      "kappa =  1.90835226837302e-10 \n",
      " \n"
     ]
    }
   ],
   "source": [
    "df = pd.read_csv(\"USD000UTSTOMWP copy.csv\")\n",
    "df_OLS_anal(df)"
   ]
  },
  {
   "cell_type": "code",
   "execution_count": 17,
   "metadata": {},
   "outputs": [
    {
     "name": "stdout",
     "output_type": "stream",
     "text": [
      "                                 OLS Regression Results                                \n",
      "=======================================================================================\n",
      "Dep. Variable:                    SUM   R-squared (uncentered):                   0.020\n",
      "Model:                            OLS   Adj. R-squared (uncentered):              0.019\n",
      "Method:                 Least Squares   F-statistic:                              21.45\n",
      "Date:                Mon, 22 Jan 2024   Prob (F-statistic):                    1.55e-17\n",
      "Time:                        16:57:17   Log-Likelihood:                         -36952.\n",
      "No. Observations:                4131   AIC:                                  7.391e+04\n",
      "Df Residuals:                    4127   BIC:                                  7.394e+04\n",
      "Df Model:                           4                                                  \n",
      "Covariance Type:            nonrobust                                                  \n",
      "========================================================================================\n",
      "                           coef    std err          t      P>|t|      [0.025      0.975]\n",
      "----------------------------------------------------------------------------------------\n",
      "-rho                 -1675.8474    692.026     -2.422      0.015   -3032.591    -319.104\n",
      "-rho kappa           -8.067e-05      0.000     -0.491      0.623      -0.000       0.000\n",
      "rho (lambda + kappa)     0.0002      0.000      1.310      0.190      -0.000       0.001\n",
      "kappa + lambda        3.801e-09   4.51e-10      8.427      0.000    2.92e-09    4.68e-09\n",
      "==============================================================================\n",
      "Omnibus:                     3097.099   Durbin-Watson:                   2.662\n",
      "Prob(Omnibus):                  0.000   Jarque-Bera (JB):         14045995.902\n",
      "Skew:                          -1.893   Prob(JB):                         0.00\n",
      "Kurtosis:                     288.638   Cond. No.                     1.71e+12\n",
      "==============================================================================\n",
      "\n",
      "Notes:\n",
      "[1] R² is computed without centering (uncentered) since the model does not contain a constant.\n",
      "[2] Standard Errors assume that the covariance matrix of the errors is correctly specified.\n",
      "[3] The condition number is large, 1.71e+12. This might indicate that there are\n",
      "strong multicollinearity or other numerical problems.\n",
      "rho =  1675.8474440547056 \n",
      "lambda =  8.003159007634428e-08 \n",
      "kappa =  4.813505398078928e-08 \n",
      " \n"
     ]
    }
   ],
   "source": [
    "df = pd.read_csv(\"EUR_RUB__TODWP.csv\")\n",
    "df_OLS_anal(df)"
   ]
  },
  {
   "cell_type": "code",
   "execution_count": 6,
   "metadata": {},
   "outputs": [
    {
     "name": "stdout",
     "output_type": "stream",
     "text": [
      "                                 OLS Regression Results                                \n",
      "=======================================================================================\n",
      "Dep. Variable:                    SUM   R-squared (uncentered):                   0.004\n",
      "Model:                            OLS   Adj. R-squared (uncentered):              0.003\n",
      "Method:                 Least Squares   F-statistic:                              12.10\n",
      "Date:                Mon, 22 Jan 2024   Prob (F-statistic):                    8.16e-10\n",
      "Time:                        09:26:13   Log-Likelihood:                     -1.0975e+05\n",
      "No. Observations:               13380   AIC:                                  2.195e+05\n",
      "Df Residuals:                   13376   BIC:                                  2.195e+05\n",
      "Df Model:                           4                                                  \n",
      "Covariance Type:            nonrobust                                                  \n",
      "========================================================================================\n",
      "                           coef    std err          t      P>|t|      [0.025      0.975]\n",
      "----------------------------------------------------------------------------------------\n",
      "-rho                 -2483.8397    488.957     -5.080      0.000   -3442.264   -1525.416\n",
      "-rho kappa           -2.056e-05   4.85e-05     -0.424      0.672      -0.000    7.46e-05\n",
      "rho (lambda + kappa)  2.058e-05   4.83e-05      0.426      0.670   -7.41e-05       0.000\n",
      "kappa + lambda        3.979e-10   9.88e-11      4.030      0.000    2.04e-10    5.91e-10\n",
      "==============================================================================\n",
      "Omnibus:                     7269.832   Durbin-Watson:                   2.872\n",
      "Prob(Omnibus):                  0.000   Jarque-Bera (JB):        486176381.204\n",
      "Skew:                          -0.309   Prob(JB):                         0.00\n",
      "Kurtosis:                     936.844   Cond. No.                     6.33e+12\n",
      "==============================================================================\n",
      "\n",
      "Notes:\n",
      "[1] R² is computed without centering (uncentered) since the model does not contain a constant.\n",
      "[2] Standard Errors assume that the covariance matrix of the errors is correctly specified.\n",
      "[3] The condition number is large, 6.33e+12. This might indicate that there are\n",
      "strong multicollinearity or other numerical problems.\n",
      "rho =  2483.8396648659163 \n",
      "lambda =  1.0101577550082315e-11 \n",
      "kappa =  8.277069493900406e-09 \n",
      " \n"
     ]
    }
   ],
   "source": [
    "df = pd.read_csv(\"EUR_RUB__TOMWP.csv\")\n",
    "df_OLS_anal(df)"
   ]
  },
  {
   "cell_type": "code",
   "execution_count": 7,
   "metadata": {},
   "outputs": [
    {
     "name": "stdout",
     "output_type": "stream",
     "text": [
      "                                 OLS Regression Results                                \n",
      "=======================================================================================\n",
      "Dep. Variable:                    SUM   R-squared (uncentered):                   0.682\n",
      "Model:                            OLS   Adj. R-squared (uncentered):              0.677\n",
      "Method:                 Least Squares   F-statistic:                              138.6\n",
      "Date:                Mon, 22 Jan 2024   Prob (F-statistic):                    4.95e-63\n",
      "Time:                        09:26:32   Log-Likelihood:                         -1927.7\n",
      "No. Observations:                 262   AIC:                                      3863.\n",
      "Df Residuals:                     258   BIC:                                      3878.\n",
      "Df Model:                           4                                                  \n",
      "Covariance Type:            nonrobust                                                  \n",
      "========================================================================================\n",
      "                           coef    std err          t      P>|t|      [0.025      0.975]\n",
      "----------------------------------------------------------------------------------------\n",
      "-rho                 -3750.1122   8004.048     -0.469      0.640   -1.95e+04     1.2e+04\n",
      "-rho kappa           -1.566e-07   1.41e-06     -0.111      0.912   -2.93e-06    2.62e-06\n",
      "rho (lambda + kappa)  6.799e-07   1.41e-06      0.483      0.630   -2.09e-06    3.45e-06\n",
      "kappa + lambda        2.859e-08   1.22e-09     23.430      0.000    2.62e-08     3.1e-08\n",
      "==============================================================================\n",
      "Omnibus:                      116.591   Durbin-Watson:                   3.094\n",
      "Prob(Omnibus):                  0.000   Jarque-Bera (JB):             8892.322\n",
      "Skew:                           0.788   Prob(JB):                         0.00\n",
      "Kurtosis:                      31.497   Cond. No.                     6.58e+12\n",
      "==============================================================================\n",
      "\n",
      "Notes:\n",
      "[1] R² is computed without centering (uncentered) since the model does not contain a constant.\n",
      "[2] Standard Errors assume that the covariance matrix of the errors is correctly specified.\n",
      "[3] The condition number is large, 6.58e+12. This might indicate that there are\n",
      "strong multicollinearity or other numerical problems.\n",
      "rho =  3750.112167449325 \n",
      "lambda =  1.3953435491041716e-10 \n",
      "kappa =  4.1768806280778585e-11 \n",
      " \n"
     ]
    }
   ],
   "source": [
    "df = pd.read_csv(\"EUR000TODTOMWP.csv\")\n",
    "df_OLS_anal(df)"
   ]
  },
  {
   "cell_type": "code",
   "execution_count": 8,
   "metadata": {},
   "outputs": [
    {
     "name": "stdout",
     "output_type": "stream",
     "text": [
      "                                 OLS Regression Results                                \n",
      "=======================================================================================\n",
      "Dep. Variable:                    SUM   R-squared (uncentered):                   0.435\n",
      "Model:                            OLS   Adj. R-squared (uncentered):              0.425\n",
      "Method:                 Least Squares   F-statistic:                              43.74\n",
      "Date:                Mon, 22 Jan 2024   Prob (F-statistic):                    3.43e-27\n",
      "Time:                        09:27:15   Log-Likelihood:                         -1462.7\n",
      "No. Observations:                 231   AIC:                                      2933.\n",
      "Df Residuals:                     227   BIC:                                      2947.\n",
      "Df Model:                           4                                                  \n",
      "Covariance Type:            nonrobust                                                  \n",
      "========================================================================================\n",
      "                           coef    std err          t      P>|t|      [0.025      0.975]\n",
      "----------------------------------------------------------------------------------------\n",
      "-rho                     0.0132      1.715      0.008      0.994      -3.367       3.393\n",
      "-rho kappa              -0.0003      0.000     -0.778      0.437      -0.001       0.001\n",
      "rho (lambda + kappa)     0.0005      0.000      1.152      0.251      -0.000       0.001\n",
      "kappa + lambda        8.958e-07   6.81e-08     13.162      0.000    7.62e-07    1.03e-06\n",
      "==============================================================================\n",
      "Omnibus:                      104.105   Durbin-Watson:                   3.008\n",
      "Prob(Omnibus):                  0.000   Jarque-Bera (JB):            28617.882\n",
      "Skew:                          -0.013   Prob(JB):                         0.00\n",
      "Kurtosis:                      57.528   Cond. No.                     2.57e+07\n",
      "==============================================================================\n",
      "\n",
      "Notes:\n",
      "[1] R² is computed without centering (uncentered) since the model does not contain a constant.\n",
      "[2] Standard Errors assume that the covariance matrix of the errors is correctly specified.\n",
      "[3] The condition number is large, 2.57e+07. This might indicate that there are\n",
      "strong multicollinearity or other numerical problems.\n",
      "rho =  -0.013166464087369392 \n",
      "lambda =  -0.012548923035934561 \n",
      "kappa =  -0.025670951702931873 \n",
      " \n"
     ]
    }
   ],
   "source": [
    "df = pd.read_csv(\"GBPRUB_TOMWP.csv\")\n",
    "df_OLS_anal(df)"
   ]
  },
  {
   "cell_type": "code",
   "execution_count": 9,
   "metadata": {},
   "outputs": [
    {
     "name": "stdout",
     "output_type": "stream",
     "text": [
      "                                 OLS Regression Results                                \n",
      "=======================================================================================\n",
      "Dep. Variable:                    SUM   R-squared (uncentered):                   0.266\n",
      "Model:                            OLS   Adj. R-squared (uncentered):              0.263\n",
      "Method:                 Least Squares   F-statistic:                              120.8\n",
      "Date:                Mon, 22 Jan 2024   Prob (F-statistic):                    4.68e-88\n",
      "Time:                        09:28:11   Log-Likelihood:                         -10566.\n",
      "No. Observations:                1340   AIC:                                  2.114e+04\n",
      "Df Residuals:                    1336   BIC:                                  2.116e+04\n",
      "Df Model:                           4                                                  \n",
      "Covariance Type:            nonrobust                                                  \n",
      "========================================================================================\n",
      "                           coef    std err          t      P>|t|      [0.025      0.975]\n",
      "----------------------------------------------------------------------------------------\n",
      "-rho                 -2.353e+04   6295.897     -3.738      0.000   -3.59e+04   -1.12e+04\n",
      "-rho kappa           -8.056e-07   5.75e-07     -1.401      0.161   -1.93e-06    3.22e-07\n",
      "rho (lambda + kappa)   8.26e-07   5.75e-07      1.437      0.151   -3.01e-07    1.95e-06\n",
      "kappa + lambda        7.658e-09   3.58e-10     21.406      0.000    6.96e-09    8.36e-09\n",
      "==============================================================================\n",
      "Omnibus:                      405.475   Durbin-Watson:                   2.937\n",
      "Prob(Omnibus):                  0.000   Jarque-Bera (JB):            28107.802\n",
      "Skew:                           0.475   Prob(JB):                         0.00\n",
      "Kurtosis:                      25.417   Cond. No.                     1.77e+13\n",
      "==============================================================================\n",
      "\n",
      "Notes:\n",
      "[1] R² is computed without centering (uncentered) since the model does not contain a constant.\n",
      "[2] Standard Errors assume that the covariance matrix of the errors is correctly specified.\n",
      "[3] The condition number is large, 1.77e+13. This might indicate that there are\n",
      "strong multicollinearity or other numerical problems.\n",
      "rho =  23534.692357269018 \n",
      "lambda =  8.661519299996285e-13 \n",
      "kappa =  3.422944344335552e-11 \n",
      " \n"
     ]
    }
   ],
   "source": [
    "df = pd.read_csv(\"USD000TODTOMWP.csv\")\n",
    "df_OLS_anal(df)"
   ]
  },
  {
   "cell_type": "code",
   "execution_count": 10,
   "metadata": {},
   "outputs": [
    {
     "name": "stdout",
     "output_type": "stream",
     "text": [
      "                                 OLS Regression Results                                \n",
      "=======================================================================================\n",
      "Dep. Variable:                    SUM   R-squared (uncentered):                   0.039\n",
      "Model:                            OLS   Adj. R-squared (uncentered):              0.038\n",
      "Method:                 Least Squares   F-statistic:                              134.1\n",
      "Date:                Mon, 22 Jan 2024   Prob (F-statistic):                   1.65e-112\n",
      "Time:                        09:28:40   Log-Likelihood:                     -1.1489e+05\n",
      "No. Observations:               13388   AIC:                                  2.298e+05\n",
      "Df Residuals:                   13384   BIC:                                  2.298e+05\n",
      "Df Model:                           4                                                  \n",
      "Covariance Type:            nonrobust                                                  \n",
      "========================================================================================\n",
      "                           coef    std err          t      P>|t|      [0.025      0.975]\n",
      "----------------------------------------------------------------------------------------\n",
      "-rho                 -1.465e+04    682.355    -21.469      0.000    -1.6e+04   -1.33e+04\n",
      "-rho kappa            6.491e-05   4.62e-05      1.404      0.160   -2.57e-05       0.000\n",
      "rho (lambda + kappa)    3.4e-05    4.6e-05      0.739      0.460   -5.62e-05       0.000\n",
      "kappa + lambda        4.825e-10   8.18e-11      5.901      0.000    3.22e-10    6.43e-10\n",
      "==============================================================================\n",
      "Omnibus:                    14840.988   Durbin-Watson:                   2.908\n",
      "Prob(Omnibus):                  0.000   Jarque-Bera (JB):        368705480.849\n",
      "Skew:                           4.013   Prob(JB):                         0.00\n",
      "Kurtosis:                     815.955   Cond. No.                     1.17e+13\n",
      "==============================================================================\n",
      "\n",
      "Notes:\n",
      "[1] R² is computed without centering (uncentered) since the model does not contain a constant.\n",
      "[2] Standard Errors assume that the covariance matrix of the errors is correctly specified.\n",
      "[3] The condition number is large, 1.17e+13. This might indicate that there are\n",
      "strong multicollinearity or other numerical problems.\n",
      "rho =  14649.526984926255 \n",
      "lambda =  6.75141997250874e-09 \n",
      "kappa =  -4.430733557545883e-09 \n",
      " \n"
     ]
    }
   ],
   "source": [
    "df = pd.read_csv(\"USD000000TODWP.csv\")\n",
    "df_OLS_anal(df)"
   ]
  },
  {
   "cell_type": "code",
   "execution_count": 11,
   "metadata": {},
   "outputs": [
    {
     "name": "stdout",
     "output_type": "stream",
     "text": [
      "                            OLS Regression Results                            \n",
      "==============================================================================\n",
      "Dep. Variable:                    SUM   R-squared:                       0.031\n",
      "Model:                            OLS   Adj. R-squared:                  0.031\n",
      "Method:                 Least Squares   F-statistic:                     448.6\n",
      "Date:                Mon, 22 Jan 2024   Prob (F-statistic):          6.81e-287\n",
      "Time:                        09:28:57   Log-Likelihood:            -3.6245e+05\n",
      "No. Observations:               41960   AIC:                         7.249e+05\n",
      "Df Residuals:                   41956   BIC:                         7.249e+05\n",
      "Df Model:                           3                                         \n",
      "Covariance Type:            nonrobust                                         \n",
      "========================================================================================\n",
      "                           coef    std err          t      P>|t|      [0.025      0.975]\n",
      "----------------------------------------------------------------------------------------\n",
      "-rho                 -1.835e+04    517.200    -35.471      0.000   -1.94e+04   -1.73e+04\n",
      "-rho kappa           -3.501e-06   2.16e-05     -0.162      0.871   -4.59e-05    3.89e-05\n",
      "rho (lambda + kappa)  3.463e-05   2.14e-05      1.618      0.106   -7.33e-06    7.66e-05\n",
      "kappa + lambda        3.156e-10   4.32e-11      7.298      0.000    2.31e-10       4e-10\n",
      "==============================================================================\n",
      "Omnibus:                    67661.114   Durbin-Watson:                   3.005\n",
      "Prob(Omnibus):                  0.000   Jarque-Bera (JB):      60926228896.977\n",
      "Skew:                           8.463   Prob(JB):                         0.00\n",
      "Kurtosis:                    5906.210   Cond. No.                     1.70e+13\n",
      "==============================================================================\n",
      "\n",
      "Notes:\n",
      "[1] Standard Errors assume that the covariance matrix of the errors is correctly specified.\n",
      "[2] The condition number is large, 1.7e+13. This might indicate that there are\n",
      "strong multicollinearity or other numerical problems.\n",
      "rho =  18345.72097554618 \n",
      "lambda =  1.6968441489982832e-09 \n",
      "kappa =  1.90835226837302e-10 \n",
      " \n"
     ]
    }
   ],
   "source": [
    "df = pd.read_csv(\"USD000UTSTOMWP.csv\")\n",
    "df_OLS_anal(df) "
   ]
  },
  {
   "cell_type": "code",
   "execution_count": 12,
   "metadata": {},
   "outputs": [
    {
     "name": "stdout",
     "output_type": "stream",
     "text": [
      "                                 OLS Regression Results                                \n",
      "=======================================================================================\n",
      "Dep. Variable:                    SUM   R-squared (uncentered):                   0.127\n",
      "Model:                            OLS   Adj. R-squared (uncentered):              0.124\n",
      "Method:                 Least Squares   F-statistic:                              33.13\n",
      "Date:                Mon, 22 Jan 2024   Prob (F-statistic):                    8.13e-26\n",
      "Time:                        09:38:10   Log-Likelihood:                         -4369.6\n",
      "No. Observations:                 912   AIC:                                      8747.\n",
      "Df Residuals:                     908   BIC:                                      8766.\n",
      "Df Model:                           4                                                  \n",
      "Covariance Type:            nonrobust                                                  \n",
      "========================================================================================\n",
      "                           coef    std err          t      P>|t|      [0.025      0.975]\n",
      "----------------------------------------------------------------------------------------\n",
      "-rho                 -4417.1823   2210.453     -1.998      0.046   -8755.373     -78.991\n",
      "-rho kappa           -6.596e-06   4.28e-06     -1.541      0.124    -1.5e-05     1.8e-06\n",
      "rho (lambda + kappa)  8.258e-06   4.29e-06      1.924      0.055   -1.64e-07    1.67e-05\n",
      "kappa + lambda        2.529e-10   2.24e-11     11.291      0.000    2.09e-10    2.97e-10\n",
      "==============================================================================\n",
      "Omnibus:                      417.565   Durbin-Watson:                   2.917\n",
      "Prob(Omnibus):                  0.000   Jarque-Bera (JB):           646781.539\n",
      "Skew:                          -0.287   Prob(JB):                         0.00\n",
      "Kurtosis:                     133.462   Cond. No.                     9.97e+13\n",
      "==============================================================================\n",
      "\n",
      "Notes:\n",
      "[1] R² is computed without centering (uncentered) since the model does not contain a constant.\n",
      "[2] Standard Errors assume that the covariance matrix of the errors is correctly specified.\n",
      "[3] The condition number is large, 9.97e+13. This might indicate that there are\n",
      "strong multicollinearity or other numerical problems.\n",
      "rho =  4417.182275713961 \n",
      "lambda =  3.76301490961631e-10 \n",
      "kappa =  1.493210986720424e-09 \n",
      " \n"
     ]
    }
   ],
   "source": [
    "df = pd.read_csv(\"EURUSD000TOMWP.csv\")\n",
    "df_OLS_anal(df)"
   ]
  },
  {
   "cell_type": "code",
   "execution_count": 46,
   "metadata": {},
   "outputs": [
    {
     "name": "stdout",
     "output_type": "stream",
     "text": [
      "                                 OLS Regression Results                                \n",
      "=======================================================================================\n",
      "Dep. Variable:                    SUM   R-squared (uncentered):                   0.030\n",
      "Model:                            OLS   Adj. R-squared (uncentered):              0.029\n",
      "Method:                 Least Squares   F-statistic:                              47.30\n",
      "Date:                Sun, 21 Jan 2024   Prob (F-statistic):                    3.21e-39\n",
      "Time:                        12:20:39   Log-Likelihood:                         -56672.\n",
      "No. Observations:                6109   AIC:                                  1.134e+05\n",
      "Df Residuals:                    6105   BIC:                                  1.134e+05\n",
      "Df Model:                           4                                                  \n",
      "Covariance Type:            nonrobust                                                  \n",
      "========================================================================================\n",
      "                           coef    std err          t      P>|t|      [0.025      0.975]\n",
      "----------------------------------------------------------------------------------------\n",
      "-rho                 -1.658e+04   1343.796    -12.337      0.000   -1.92e+04   -1.39e+04\n",
      "-rho kappa              -0.0002      0.000     -1.621      0.105      -0.001    5.03e-05\n",
      "rho (lambda + kappa)     0.0005      0.000      3.732      0.000       0.000       0.001\n",
      "kappa + lambda        2.293e-09   3.83e-10      5.991      0.000    1.54e-09    3.04e-09\n",
      "==============================================================================\n",
      "Omnibus:                     5873.712   Durbin-Watson:                   2.970\n",
      "Prob(Omnibus):                  0.000   Jarque-Bera (JB):         26486925.831\n",
      "Skew:                           3.235   Prob(JB):                         0.00\n",
      "Kurtosis:                     325.514   Cond. No.                     4.41e+12\n",
      "==============================================================================\n",
      "\n",
      "Notes:\n",
      "[1] R² is computed without centering (uncentered) since the model does not contain a constant.\n",
      "[2] Standard Errors assume that the covariance matrix of the errors is correctly specified.\n",
      "[3] The condition number is large, 4.41e+12. This might indicate that there are\n",
      "strong multicollinearity or other numerical problems.\n",
      "rho =  16578.954874504987 \n",
      "lambda =  1.8479852620909326e-08 \n",
      "kappa =  1.450404390524735e-08 \n",
      " \n"
     ]
    }
   ],
   "source": [
    "df = pd.read_csv(\"DataWithoutPairs_USDRUB.csv\")\n",
    "df = df[df[\"Time\"] > 3600]\n",
    "df = df[df[\"Time\"] < 30000]\n",
    "df = df.reset_index()\n",
    "df_OLS_anal(df)"
   ]
  },
  {
   "cell_type": "code",
   "execution_count": 47,
   "metadata": {},
   "outputs": [
    {
     "name": "stdout",
     "output_type": "stream",
     "text": [
      "3330\n",
      "                                 OLS Regression Results                                \n",
      "=======================================================================================\n",
      "Dep. Variable:                    SUM   R-squared (uncentered):                   0.194\n",
      "Model:                            OLS   Adj. R-squared (uncentered):              0.193\n",
      "Method:                 Least Squares   F-statistic:                              200.4\n",
      "Date:                Sun, 21 Jan 2024   Prob (F-statistic):                   3.70e-154\n",
      "Time:                        12:20:50   Log-Likelihood:                         -27271.\n",
      "No. Observations:                3327   AIC:                                  5.455e+04\n",
      "Df Residuals:                    3323   BIC:                                  5.457e+04\n",
      "Df Model:                           4                                                  \n",
      "Covariance Type:            nonrobust                                                  \n",
      "========================================================================================\n",
      "                           coef    std err          t      P>|t|      [0.025      0.975]\n",
      "----------------------------------------------------------------------------------------\n",
      "-rho                 -1385.4527   2252.250     -0.615      0.539   -5801.389    3030.484\n",
      "-rho kappa              -0.0001   5.79e-05     -1.764      0.078      -0.000    1.14e-05\n",
      "rho (lambda + kappa)     0.0002   5.75e-05      2.699      0.007    4.24e-05       0.000\n",
      "kappa + lambda        3.942e-09    1.5e-10     26.322      0.000    3.65e-09    4.24e-09\n",
      "==============================================================================\n",
      "Omnibus:                     1035.880   Durbin-Watson:                   2.904\n",
      "Prob(Omnibus):                  0.000   Jarque-Bera (JB):           181042.638\n",
      "Skew:                          -0.160   Prob(JB):                         0.00\n",
      "Kurtosis:                      39.137   Cond. No.                     1.69e+13\n",
      "==============================================================================\n",
      "\n",
      "Notes:\n",
      "[1] R² is computed without centering (uncentered) since the model does not contain a constant.\n",
      "[2] Standard Errors assume that the covariance matrix of the errors is correctly specified.\n",
      "[3] The condition number is large, 1.69e+13. This might indicate that there are\n",
      "strong multicollinearity or other numerical problems.\n",
      "rho =  1385.4527027803597 \n",
      "lambda =  3.827814439009852e-08 \n",
      "kappa =  7.371651566219547e-08 \n",
      " \n"
     ]
    }
   ],
   "source": [
    "df = pd.read_csv(\"DataWithoutPairs_USDRUB.csv\")\n",
    "df = df[df[\"AskAfter\"] - df[\"AskBefore\"] > 0]\n",
    "df = df[df[\"AskAfter\"] - df[\"AskBefore\"] < 0.03]\n",
    "print(len(df[\"AskAfter\"] - df[\"AskBefore\"]))\n",
    "df_OLS_anal(df)"
   ]
  }
 ],
 "metadata": {
  "kernelspec": {
   "display_name": "Python 3",
   "language": "python",
   "name": "python3"
  },
  "language_info": {
   "codemirror_mode": {
    "name": "ipython",
    "version": 3
   },
   "file_extension": ".py",
   "mimetype": "text/x-python",
   "name": "python",
   "nbconvert_exporter": "python",
   "pygments_lexer": "ipython3",
   "version": "3.11.7"
  }
 },
 "nbformat": 4,
 "nbformat_minor": 2
}
