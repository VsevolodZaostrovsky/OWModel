{
 "cells": [
  {
   "cell_type": "code",
   "execution_count": 1,
   "metadata": {},
   "outputs": [],
   "source": [
    "import pandas as pd\n",
    "import numpy as np\n",
    "import matplotlib.pyplot as plt\n",
    "\n",
    "import statsmodels.api as sm\n",
    "\n",
    "from statsmodels.regression.linear_model import OLS"
   ]
  },
  {
   "cell_type": "code",
   "execution_count": 3,
   "metadata": {},
   "outputs": [],
   "source": [
    "df = pd.read_csv(\"DataWithoutPairs_USDRUB.csv\")"
   ]
  },
  {
   "cell_type": "code",
   "execution_count": 17,
   "metadata": {},
   "outputs": [],
   "source": [
    "def df_OLS_anal(df: pd.DataFrame):\n",
    "    deltaA = df[\"AskAfter\"][1:] - df[\"AskBefore\"][1:]\n",
    "    deltat = np.diff(df[\"Time\"])\n",
    "    x = df[\"Volume\"][1:]\n",
    "\n",
    "    dA = deltaA / deltat\n",
    "    dx = x / deltat\n",
    "\n",
    "    ddx = np.diff(dx)\n",
    "    ddA = np.diff(dA)\n",
    "\n",
    "    OLSdf = pd.DataFrame({\n",
    "        \"SUM\": ddA,\n",
    "        \"-rho\": deltaA[:-1].values,\n",
    "        \"-rho kappa\": x[1:].values,\n",
    "        \"rho (lambda + kappa)\": x[:-1].values,\n",
    "        \"kappa + lambda\": ddx\n",
    "    })\n",
    "\n",
    "    Regressand = OLSdf[\"SUM\"]\n",
    "\n",
    "    Regressors = OLSdf[[\"-rho\", \"-rho kappa\", \"rho (lambda + kappa)\", \"kappa + lambda\"]]\n",
    "\n",
    "    Regressors = sm.add_constant(Regressors, prepend=False)\n",
    "\n",
    "    model = OLS(Regressand, Regressors)\n",
    "\n",
    "    res = model.fit()\n",
    "\n",
    "    print(res.summary()) \n",
    "\n",
    "    rho = - res.params.iloc[0]\n",
    "    kappa = - res.params.iloc[1] / rho\n",
    "    lamb = res.params.iloc[2] / rho - kappa\n",
    "    lamb2 = res.params.iloc[3] - kappa\n",
    "    \n",
    "\n",
    "    print(\"rho = \", rho, \"\\nlambda = \", lamb,  \" lambda2 = \", lamb2, \"\\nkappa = \", kappa, \"\\n \\n\", end=\"\")"
   ]
  },
  {
   "cell_type": "code",
   "execution_count": 18,
   "metadata": {},
   "outputs": [
    {
     "name": "stdout",
     "output_type": "stream",
     "text": [
      "                            OLS Regression Results                            \n",
      "==============================================================================\n",
      "Dep. Variable:                    SUM   R-squared:                       0.044\n",
      "Model:                            OLS   Adj. R-squared:                  0.044\n",
      "Method:                 Least Squares   F-statistic:                     112.3\n",
      "Date:                Sat, 20 Jan 2024   Prob (F-statistic):           9.67e-94\n",
      "Time:                        19:47:29   Log-Likelihood:                -90051.\n",
      "No. Observations:                9743   AIC:                         1.801e+05\n",
      "Df Residuals:                    9738   BIC:                         1.801e+05\n",
      "Df Model:                           4                                         \n",
      "Covariance Type:            nonrobust                                         \n",
      "========================================================================================\n",
      "                           coef    std err          t      P>|t|      [0.025      0.975]\n",
      "----------------------------------------------------------------------------------------\n",
      "-rho                 -1.505e+04    980.967    -15.342      0.000    -1.7e+04   -1.31e+04\n",
      "-rho kappa              -0.0005      0.000     -3.951      0.000      -0.001      -0.000\n",
      "rho (lambda + kappa)     0.0009      0.000      8.080      0.000       0.001       0.001\n",
      "kappa + lambda        7.184e-09   5.43e-10     13.237      0.000    6.12e-09    8.25e-09\n",
      "const                   29.4118     27.962      1.052      0.293     -25.400      84.224\n",
      "==============================================================================\n",
      "Omnibus:                     5504.862   Durbin-Watson:                   2.829\n",
      "Prob(Omnibus):                  0.000   Jarque-Bera (JB):         16450824.550\n",
      "Skew:                           1.015   Prob(JB):                         0.00\n",
      "Kurtosis:                     204.294   Cond. No.                     1.89e+12\n",
      "==============================================================================\n",
      "\n",
      "Notes:\n",
      "[1] Standard Errors assume that the covariance matrix of the errors is correctly specified.\n",
      "[2] The condition number is large, 1.89e+12. This might indicate that there are\n",
      "strong multicollinearity or other numerical problems.\n",
      "rho =  15050.426237002084 \n",
      "lambda =  3.079950622656125e-08  lambda2 =  -2.40826168895763e-08 \n",
      "kappa =  3.126681197196101e-08 \n",
      " \n"
     ]
    }
   ],
   "source": [
    "df = pd.read_csv(\"DataWithoutPairs_USDRUB.csv\")\n",
    "df_OLS_anal(df)"
   ]
  },
  {
   "cell_type": "code",
   "execution_count": 19,
   "metadata": {},
   "outputs": [
    {
     "name": "stdout",
     "output_type": "stream",
     "text": [
      "                            OLS Regression Results                            \n",
      "==============================================================================\n",
      "Dep. Variable:                    SUM   R-squared:                       0.075\n",
      "Model:                            OLS   Adj. R-squared:                  0.073\n",
      "Method:                 Least Squares   F-statistic:                     38.27\n",
      "Date:                Sat, 20 Jan 2024   Prob (F-statistic):           7.77e-31\n",
      "Time:                        19:47:33   Log-Likelihood:                -16745.\n",
      "No. Observations:                1905   AIC:                         3.350e+04\n",
      "Df Residuals:                    1900   BIC:                         3.353e+04\n",
      "Df Model:                           4                                         \n",
      "Covariance Type:            nonrobust                                         \n",
      "========================================================================================\n",
      "                           coef    std err          t      P>|t|      [0.025      0.975]\n",
      "----------------------------------------------------------------------------------------\n",
      "-rho                 -4529.6384   1274.450     -3.554      0.000   -7029.108   -2030.169\n",
      "-rho kappa              -0.0002      0.000     -0.779      0.436      -0.001       0.000\n",
      "rho (lambda + kappa)     0.0005      0.000      2.419      0.016       0.000       0.001\n",
      "kappa + lambda        1.095e-08   9.57e-10     11.442      0.000    9.07e-09    1.28e-08\n",
      "const                   -2.7148     42.831     -0.063      0.949     -86.715      81.285\n",
      "==============================================================================\n",
      "Omnibus:                      965.346   Durbin-Watson:                   2.971\n",
      "Prob(Omnibus):                  0.000   Jarque-Bera (JB):         13779944.103\n",
      "Skew:                           0.106   Prob(JB):                         0.00\n",
      "Kurtosis:                     419.660   Cond. No.                     1.35e+12\n",
      "==============================================================================\n",
      "\n",
      "Notes:\n",
      "[1] Standard Errors assume that the covariance matrix of the errors is correctly specified.\n",
      "[2] The condition number is large, 1.35e+12. This might indicate that there are\n",
      "strong multicollinearity or other numerical problems.\n",
      "rho =  4529.638377092311 \n",
      "lambda =  7.92937598864028e-08  lambda2 =  -2.7558102757185582e-08 \n",
      "kappa =  3.850984462735741e-08 \n",
      " \n"
     ]
    }
   ],
   "source": [
    "df = pd.read_csv(\"DataWithoutPairs_USDRUB.csv\")\n",
    "df = df[df[\"Time\"] < 3600]\n",
    "df = df[df[\"Time\"] > 40]\n",
    "df = df.reset_index()\n",
    "df_OLS_anal(df)"
   ]
  },
  {
   "cell_type": "code",
   "execution_count": 34,
   "metadata": {},
   "outputs": [
    {
     "name": "stdout",
     "output_type": "stream",
     "text": [
      "3330\n",
      "                            OLS Regression Results                            \n",
      "==============================================================================\n",
      "Dep. Variable:                    SUM   R-squared:                       0.162\n",
      "Model:                            OLS   Adj. R-squared:                  0.161\n",
      "Method:                 Least Squares   F-statistic:                     160.6\n",
      "Date:                Sat, 20 Jan 2024   Prob (F-statistic):          8.01e-126\n",
      "Time:                        19:53:49   Log-Likelihood:                -27431.\n",
      "No. Observations:                3328   AIC:                         5.487e+04\n",
      "Df Residuals:                    3323   BIC:                         5.490e+04\n",
      "Df Model:                           4                                         \n",
      "Covariance Type:            nonrobust                                         \n",
      "========================================================================================\n",
      "                           coef    std err          t      P>|t|      [0.025      0.975]\n",
      "----------------------------------------------------------------------------------------\n",
      "-rho                 -8259.0638   3507.713     -2.355      0.019   -1.51e+04   -1381.567\n",
      "-rho kappa              -0.0005   6.11e-05     -7.737      0.000      -0.001      -0.000\n",
      "rho (lambda + kappa)     0.0006   5.94e-05     10.165      0.000       0.000       0.001\n",
      "kappa + lambda        6.643e-09   2.68e-10     24.808      0.000    6.12e-09    7.17e-09\n",
      "const                   30.5088     28.122      1.085      0.278     -24.630      85.647\n",
      "==============================================================================\n",
      "Omnibus:                     1057.937   Durbin-Watson:                   2.937\n",
      "Prob(Omnibus):                  0.000   Jarque-Bera (JB):           208525.364\n",
      "Skew:                          -0.154   Prob(JB):                         0.00\n",
      "Kurtosis:                      41.777   Cond. No.                     1.40e+13\n",
      "==============================================================================\n",
      "\n",
      "Notes:\n",
      "[1] Standard Errors assume that the covariance matrix of the errors is correctly specified.\n",
      "[2] The condition number is large, 1.4e+13. This might indicate that there are\n",
      "strong multicollinearity or other numerical problems.\n",
      "rho =  8259.063844904147 \n",
      "lambda =  1.5885517151166922e-08  lambda2 =  -5.062478070053353e-08 \n",
      "kappa =  5.7267603608747316e-08 \n",
      " \n"
     ]
    }
   ],
   "source": [
    "df = pd.read_csv(\"DataWithoutPairs_USDRUB.csv\")\n",
    "df = df[df[\"AskAfter\"] - df[\"AskBefore\"] > 0]\n",
    "df = df[df[\"AskAfter\"] - df[\"AskBefore\"] < 0.03]\n",
    "print(len(df[\"AskAfter\"] - df[\"AskBefore\"]))\n",
    "df_OLS_anal(df)"
   ]
  }
 ],
 "metadata": {
  "kernelspec": {
   "display_name": "Python 3",
   "language": "python",
   "name": "python3"
  },
  "language_info": {
   "codemirror_mode": {
    "name": "ipython",
    "version": 3
   },
   "file_extension": ".py",
   "mimetype": "text/x-python",
   "name": "python",
   "nbconvert_exporter": "python",
   "pygments_lexer": "ipython3",
   "version": "3.11.7"
  }
 },
 "nbformat": 4,
 "nbformat_minor": 2
}
