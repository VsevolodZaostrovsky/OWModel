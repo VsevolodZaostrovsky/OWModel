{
 "cells": [
  {
   "cell_type": "code",
   "execution_count": 1,
   "metadata": {},
   "outputs": [],
   "source": [
    "import pandas as pd\n",
    "import numpy as np\n",
    "import matplotlib.pyplot as plt\n",
    "\n",
    "import statsmodels.api as sm\n",
    "\n",
    "from statsmodels.regression.linear_model import OLS"
   ]
  },
  {
   "cell_type": "code",
   "execution_count": 2,
   "metadata": {},
   "outputs": [],
   "source": [
    "df = pd.read_csv(\"Data_USDEUR.csv\")"
   ]
  },
  {
   "cell_type": "code",
   "execution_count": 3,
   "metadata": {},
   "outputs": [],
   "source": [
    "max = len(df)\n",
    "for index, row in df.iterrows():\n",
    "    if index < max - 1 and abs(df.loc[index, 'Time'] - df.loc[index + 1, 'Time']) < 1e-6:\n",
    "        # print(index)\n",
    "        df.loc[index + 1, 'Volume'] = df.loc[index + 1, 'Volume'] + df.loc[index, 'Volume']\n",
    "        df.loc[index + 1, 'AskBefore'] = df.loc[index, 'AskBefore']\n",
    "        df = df.drop([index])\n",
    "\n"
   ]
  },
  {
   "cell_type": "code",
   "execution_count": 4,
   "metadata": {},
   "outputs": [],
   "source": [
    "df = df.reset_index()"
   ]
  },
  {
   "cell_type": "code",
   "execution_count": 5,
   "metadata": {},
   "outputs": [],
   "source": [
    "df = df.drop([\"index\"], axis=1)"
   ]
  },
  {
   "cell_type": "code",
   "execution_count": 6,
   "metadata": {},
   "outputs": [],
   "source": [
    "df.to_csv(\"DataWithoutPairs_USDEUR.csv\")"
   ]
  },
  {
   "cell_type": "code",
   "execution_count": 65,
   "metadata": {},
   "outputs": [],
   "source": [
    "df = pd.read_csv(\"DataWithoutPairs_USDRUB.csv\")"
   ]
  },
  {
   "cell_type": "markdown",
   "metadata": {},
   "source": [
    "Функция оценивает регрессию и вычисляет по ней параметры."
   ]
  },
  {
   "cell_type": "code",
   "execution_count": 66,
   "metadata": {},
   "outputs": [],
   "source": [
    "def df_OLS_anal(df: pd.DataFrame):\n",
    "    # max = len(df)\n",
    "    # for index, row in df.iterrows():\n",
    "    #     if index < max - 1 and abs(df.loc[index, 'Time'] - df.loc[index + 1, 'Time']) < 1e-6:\n",
    "    #         # print(index)\n",
    "    #         df.loc[index + 1, 'Volume'] = df.loc[index + 1, 'Volume'] + df.loc[index, 'Volume']\n",
    "    #         df.loc[index + 1, 'AskBefore'] = df.loc[index, 'AskBefore']\n",
    "    #         df = df.drop([index])\n",
    "\n",
    "    deltaA = df[\"AskAfter\"][1:] - df[\"AskBefore\"][1:]\n",
    "    deltat = np.diff(df[\"Time\"])\n",
    "    x = df[\"Volume\"][1:]\n",
    "\n",
    "    dA = deltaA / deltat\n",
    "    dx = x / deltat\n",
    "\n",
    "    ddx = np.diff(dx)\n",
    "    ddA = np.diff(dA)\n",
    "\n",
    "    OLSdf = pd.DataFrame({\n",
    "        \"SUM\": ddA,\n",
    "        \"-rho\": deltaA[:-1],\n",
    "        \"rho lambda\": x[:-1],\n",
    "        \"kappa + lambda\": ddx\n",
    "    })\n",
    "\n",
    "    Regressand = OLSdf[\"SUM\"]\n",
    "\n",
    "    Regressors = OLSdf[[\"-rho\", \"rho lambda\", \"kappa + lambda\"]]\n",
    "\n",
    "    Regressors = sm.add_constant(Regressors, prepend=False)\n",
    "\n",
    "    model = OLS(Regressand, Regressors)\n",
    "\n",
    "    res = model.fit()\n",
    "\n",
    "    print(res.summary()) \n",
    "\n",
    "    rho = - res.params.iloc[0]\n",
    "    lamb = res.params.iloc[1] / rho\n",
    "    kappa = res.params.iloc[2] - lamb\n",
    "\n",
    "    print(\"rho = \", rho, \"\\nlambda = \", lamb, \"\\nkappa = \", kappa, \"\\n \\n\", end=\"\")"
   ]
  },
  {
   "cell_type": "code",
   "execution_count": 67,
   "metadata": {},
   "outputs": [
    {
     "name": "stdout",
     "output_type": "stream",
     "text": [
      "                            OLS Regression Results                            \n",
      "==============================================================================\n",
      "Dep. Variable:                    SUM   R-squared:                       0.043\n",
      "Model:                            OLS   Adj. R-squared:                  0.042\n",
      "Method:                 Least Squares   F-statistic:                     144.3\n",
      "Date:                Thu, 18 Jan 2024   Prob (F-statistic):           1.74e-91\n",
      "Time:                        16:46:22   Log-Likelihood:                -90059.\n",
      "No. Observations:                9743   AIC:                         1.801e+05\n",
      "Df Residuals:                    9739   BIC:                         1.802e+05\n",
      "Df Model:                           3                                         \n",
      "Covariance Type:            nonrobust                                         \n",
      "==================================================================================\n",
      "                     coef    std err          t      P>|t|      [0.025      0.975]\n",
      "----------------------------------------------------------------------------------\n",
      "-rho           -1.503e+04    981.693    -15.314      0.000    -1.7e+04   -1.31e+04\n",
      "rho lambda         0.0009      0.000      7.521      0.000       0.001       0.001\n",
      "kappa + lambda  6.593e-09   5.22e-10     12.628      0.000    5.57e-09    7.62e-09\n",
      "const              0.4313     27.003      0.016      0.987     -52.501      53.363\n",
      "==============================================================================\n",
      "Omnibus:                     5504.252   Durbin-Watson:                   2.828\n",
      "Prob(Omnibus):                  0.000   Jarque-Bera (JB):         16410123.213\n",
      "Skew:                           1.015   Prob(JB):                         0.00\n",
      "Kurtosis:                     204.045   Cond. No.                     1.89e+12\n",
      "==============================================================================\n",
      "\n",
      "Notes:\n",
      "[1] Standard Errors assume that the covariance matrix of the errors is correctly specified.\n",
      "[2] The condition number is large, 1.89e+12. This might indicate that there are\n",
      "strong multicollinearity or other numerical problems.\n",
      "rho =  15033.630756633604 \n",
      "lambda =  5.707670351227262e-08 \n",
      "kappa =  -5.048375841953859e-08 \n",
      " \n"
     ]
    }
   ],
   "source": [
    "df_OLS_anal(df)"
   ]
  },
  {
   "cell_type": "code",
   "execution_count": 68,
   "metadata": {},
   "outputs": [
    {
     "name": "stdout",
     "output_type": "stream",
     "text": [
      "                            OLS Regression Results                            \n",
      "==============================================================================\n",
      "Dep. Variable:                    SUM   R-squared:                       0.074\n",
      "Model:                            OLS   Adj. R-squared:                  0.073\n",
      "Method:                 Least Squares   F-statistic:                     50.83\n",
      "Date:                Thu, 18 Jan 2024   Prob (F-statistic):           1.35e-31\n",
      "Time:                        16:46:45   Log-Likelihood:                -16746.\n",
      "No. Observations:                1905   AIC:                         3.350e+04\n",
      "Df Residuals:                    1901   BIC:                         3.352e+04\n",
      "Df Model:                           3                                         \n",
      "Covariance Type:            nonrobust                                         \n",
      "==================================================================================\n",
      "                     coef    std err          t      P>|t|      [0.025      0.975]\n",
      "----------------------------------------------------------------------------------\n",
      "-rho           -4505.8608   1273.953     -3.537      0.000   -7004.354   -2007.367\n",
      "rho lambda         0.0005      0.000      2.346      0.019    8.44e-05       0.001\n",
      "kappa + lambda  1.083e-08   9.43e-10     11.477      0.000    8.98e-09    1.27e-08\n",
      "const            -14.0013     40.303     -0.347      0.728     -93.044      65.041\n",
      "==============================================================================\n",
      "Omnibus:                      966.131   Durbin-Watson:                   2.970\n",
      "Prob(Omnibus):                  0.000   Jarque-Bera (JB):         13768713.292\n",
      "Skew:                           0.118   Prob(JB):                         0.00\n",
      "Kurtosis:                     419.490   Cond. No.                     1.35e+12\n",
      "==============================================================================\n",
      "\n",
      "Notes:\n",
      "[1] Standard Errors assume that the covariance matrix of the errors is correctly specified.\n",
      "[2] The condition number is large, 1.35e+12. This might indicate that there are\n",
      "strong multicollinearity or other numerical problems.\n",
      "rho =  4505.8607987474625 \n",
      "lambda =  1.1411550180741342e-07 \n",
      "kappa =  -1.0329023161158305e-07 \n",
      " \n"
     ]
    },
    {
     "data": {
      "text/html": [
       "<div>\n",
       "<style scoped>\n",
       "    .dataframe tbody tr th:only-of-type {\n",
       "        vertical-align: middle;\n",
       "    }\n",
       "\n",
       "    .dataframe tbody tr th {\n",
       "        vertical-align: top;\n",
       "    }\n",
       "\n",
       "    .dataframe thead th {\n",
       "        text-align: right;\n",
       "    }\n",
       "</style>\n",
       "<table border=\"1\" class=\"dataframe\">\n",
       "  <thead>\n",
       "    <tr style=\"text-align: right;\">\n",
       "      <th></th>\n",
       "      <th>index</th>\n",
       "      <th>Unnamed: 0.1</th>\n",
       "      <th>Unnamed: 0</th>\n",
       "      <th>Time</th>\n",
       "      <th>AskBefore</th>\n",
       "      <th>AskAfter</th>\n",
       "      <th>Volume</th>\n",
       "    </tr>\n",
       "  </thead>\n",
       "  <tbody>\n",
       "    <tr>\n",
       "      <th>0</th>\n",
       "      <td>224</td>\n",
       "      <td>224</td>\n",
       "      <td>274</td>\n",
       "      <td>41.000686</td>\n",
       "      <td>61.857</td>\n",
       "      <td>61.857</td>\n",
       "      <td>1000.0</td>\n",
       "    </tr>\n",
       "    <tr>\n",
       "      <th>1</th>\n",
       "      <td>225</td>\n",
       "      <td>225</td>\n",
       "      <td>275</td>\n",
       "      <td>44.000950</td>\n",
       "      <td>61.850</td>\n",
       "      <td>61.857</td>\n",
       "      <td>1000.0</td>\n",
       "    </tr>\n",
       "    <tr>\n",
       "      <th>2</th>\n",
       "      <td>226</td>\n",
       "      <td>226</td>\n",
       "      <td>277</td>\n",
       "      <td>45.000454</td>\n",
       "      <td>61.857</td>\n",
       "      <td>61.860</td>\n",
       "      <td>23000.0</td>\n",
       "    </tr>\n",
       "  </tbody>\n",
       "</table>\n",
       "</div>"
      ],
      "text/plain": [
       "   index  Unnamed: 0.1  Unnamed: 0       Time  AskBefore  AskAfter   Volume\n",
       "0    224           224         274  41.000686     61.857    61.857   1000.0\n",
       "1    225           225         275  44.000950     61.850    61.857   1000.0\n",
       "2    226           226         277  45.000454     61.857    61.860  23000.0"
      ]
     },
     "execution_count": 68,
     "metadata": {},
     "output_type": "execute_result"
    }
   ],
   "source": [
    "df = pd.read_csv(\"DataWithoutPairs.csv\")\n",
    "df = df[df[\"Time\"] < 3600]\n",
    "df = df[df[\"Time\"] > 40]\n",
    "df = df.reset_index()\n",
    "df_OLS_anal(df)\n",
    "df.head(3)"
   ]
  },
  {
   "cell_type": "code",
   "execution_count": 69,
   "metadata": {},
   "outputs": [
    {
     "name": "stdout",
     "output_type": "stream",
     "text": [
      "                            OLS Regression Results                            \n",
      "==============================================================================\n",
      "Dep. Variable:                    SUM   R-squared:                       0.043\n",
      "Model:                            OLS   Adj. R-squared:                  0.042\n",
      "Method:                 Least Squares   F-statistic:                     144.3\n",
      "Date:                Thu, 18 Jan 2024   Prob (F-statistic):           1.74e-91\n",
      "Time:                        16:46:52   Log-Likelihood:                -22757.\n",
      "No. Observations:                9743   AIC:                         4.552e+04\n",
      "Df Residuals:                    9739   BIC:                         4.555e+04\n",
      "Df Model:                           3                                         \n",
      "Covariance Type:            nonrobust                                         \n",
      "==================================================================================\n",
      "                     coef    std err          t      P>|t|      [0.025      0.975]\n",
      "----------------------------------------------------------------------------------\n",
      "-rho             -15.0336      0.982    -15.314      0.000     -16.958     -13.109\n",
      "rho lambda      8.581e-07   1.14e-07      7.521      0.000    6.34e-07    1.08e-06\n",
      "kappa + lambda  6.593e-09   5.22e-10     12.628      0.000    5.57e-09    7.62e-09\n",
      "const              0.0004      0.027      0.016      0.987      -0.053       0.053\n",
      "==============================================================================\n",
      "Omnibus:                     5504.253   Durbin-Watson:                   2.828\n",
      "Prob(Omnibus):                  0.000   Jarque-Bera (JB):         16410105.634\n",
      "Skew:                           1.015   Prob(JB):                         0.00\n",
      "Kurtosis:                     204.045   Cond. No.                     1.89e+09\n",
      "==============================================================================\n",
      "\n",
      "Notes:\n",
      "[1] Standard Errors assume that the covariance matrix of the errors is correctly specified.\n",
      "[2] The condition number is large, 1.89e+09. This might indicate that there are\n",
      "strong multicollinearity or other numerical problems.\n",
      "rho =  15.033629804369813 \n",
      "lambda =  5.707670372378514e-08 \n",
      "kappa =  -5.048375574075467e-08 \n",
      " \n"
     ]
    }
   ],
   "source": [
    "df = pd.read_csv(\"DataWithoutPairs.csv\")\n",
    "df.Time *= 1000\n",
    "df_OLS_anal(df)"
   ]
  },
  {
   "cell_type": "code",
   "execution_count": 70,
   "metadata": {},
   "outputs": [
    {
     "name": "stdout",
     "output_type": "stream",
     "text": [
      "                            OLS Regression Results                            \n",
      "==============================================================================\n",
      "Dep. Variable:                    SUM   R-squared:                       0.204\n",
      "Model:                            OLS   Adj. R-squared:                  0.200\n",
      "Method:                 Least Squares   F-statistic:                     49.29\n",
      "Date:                Thu, 18 Jan 2024   Prob (F-statistic):           2.24e-28\n",
      "Time:                        16:47:06   Log-Likelihood:                -5791.6\n",
      "No. Observations:                 582   AIC:                         1.159e+04\n",
      "Df Residuals:                     578   BIC:                         1.161e+04\n",
      "Df Model:                           3                                         \n",
      "Covariance Type:            nonrobust                                         \n",
      "==================================================================================\n",
      "                     coef    std err          t      P>|t|      [0.025      0.975]\n",
      "----------------------------------------------------------------------------------\n",
      "-rho           -3158.8036   2224.086     -1.420      0.156   -7527.078    1209.471\n",
      "rho lambda         0.0007      0.001      0.920      0.358      -0.001       0.002\n",
      "kappa + lambda  2.009e-07   1.66e-08     12.080      0.000    1.68e-07    2.34e-07\n",
      "const             73.9389    252.464      0.293      0.770    -421.919     569.797\n",
      "==============================================================================\n",
      "Omnibus:                      396.344   Durbin-Watson:                   2.653\n",
      "Prob(Omnibus):                  0.000   Jarque-Bera (JB):            30199.069\n",
      "Skew:                           2.218   Prob(JB):                         0.00\n",
      "Kurtosis:                      38.009   Cond. No.                     1.34e+11\n",
      "==============================================================================\n",
      "\n",
      "Notes:\n",
      "[1] Standard Errors assume that the covariance matrix of the errors is correctly specified.\n",
      "[2] The condition number is large, 1.34e+11. This might indicate that there are\n",
      "strong multicollinearity or other numerical problems.\n",
      "rho =  3158.8035620942046 \n",
      "lambda =  2.240682844826244e-07 \n",
      "kappa =  -2.319980558900051e-08 \n",
      " \n"
     ]
    }
   ],
   "source": [
    "df = pd.read_csv(\"DataWithoutPairs.csv\")\n",
    "df = df[df[\"AskAfter\"] - df[\"AskBefore\"] > 0.01]\n",
    "df = df.reset_index()\n",
    "df = df.drop([\"index\"], axis=1)\n",
    "df_OLS_anal(df)"
   ]
  },
  {
   "cell_type": "code",
   "execution_count": 71,
   "metadata": {},
   "outputs": [
    {
     "name": "stdout",
     "output_type": "stream",
     "text": [
      "                            OLS Regression Results                            \n",
      "==============================================================================\n",
      "Dep. Variable:                    SUM   R-squared:                       0.301\n",
      "Model:                            OLS   Adj. R-squared:                  0.299\n",
      "Method:                 Least Squares   F-statistic:                     197.5\n",
      "Date:                Thu, 18 Jan 2024   Prob (F-statistic):          1.67e-106\n",
      "Time:                        16:47:30   Log-Likelihood:                -11301.\n",
      "No. Observations:                1380   AIC:                         2.261e+04\n",
      "Df Residuals:                    1376   BIC:                         2.263e+04\n",
      "Df Model:                           3                                         \n",
      "Covariance Type:            nonrobust                                         \n",
      "==================================================================================\n",
      "                     coef    std err          t      P>|t|      [0.025      0.975]\n",
      "----------------------------------------------------------------------------------\n",
      "-rho           -2.513e+04   4013.482     -6.261      0.000    -3.3e+04   -1.73e+04\n",
      "rho lambda         0.0002   5.08e-05      2.981      0.003    5.18e-05       0.000\n",
      "kappa + lambda  5.036e-09   2.17e-10     23.213      0.000    4.61e-09    5.46e-09\n",
      "const             30.8949     34.025      0.908      0.364     -35.852      97.642\n",
      "==============================================================================\n",
      "Omnibus:                      517.116   Durbin-Watson:                   2.888\n",
      "Prob(Omnibus):                  0.000   Jarque-Bera (JB):           183627.162\n",
      "Skew:                           0.299   Prob(JB):                         0.00\n",
      "Kurtosis:                      59.508   Cond. No.                     1.85e+13\n",
      "==============================================================================\n",
      "\n",
      "Notes:\n",
      "[1] Standard Errors assume that the covariance matrix of the errors is correctly specified.\n",
      "[2] The condition number is large, 1.85e+13. This might indicate that there are\n",
      "strong multicollinearity or other numerical problems.\n",
      "rho =  25129.44085180324 \n",
      "lambda =  6.028894573274455e-09 \n",
      "kappa =  -9.932084536350879e-10 \n",
      " \n"
     ]
    }
   ],
   "source": [
    "df = pd.read_csv(\"DataWithoutPairs.csv\")\n",
    "df = df[df[\"Volume\"] > 100000]\n",
    "df = df.reset_index()\n",
    "df_OLS_anal(df)"
   ]
  },
  {
   "cell_type": "code",
   "execution_count": 72,
   "metadata": {},
   "outputs": [
    {
     "name": "stdout",
     "output_type": "stream",
     "text": [
      "                            OLS Regression Results                            \n",
      "==============================================================================\n",
      "Dep. Variable:                    SUM   R-squared:                       0.079\n",
      "Model:                            OLS   Adj. R-squared:                  0.078\n",
      "Method:                 Least Squares   F-statistic:                     113.1\n",
      "Date:                Thu, 18 Jan 2024   Prob (F-statistic):           3.04e-70\n",
      "Time:                        16:47:41   Log-Likelihood:                -37846.\n",
      "No. Observations:                3955   AIC:                         7.570e+04\n",
      "Df Residuals:                    3951   BIC:                         7.572e+04\n",
      "Df Model:                           3                                         \n",
      "Covariance Type:            nonrobust                                         \n",
      "==================================================================================\n",
      "                     coef    std err          t      P>|t|      [0.025      0.975]\n",
      "----------------------------------------------------------------------------------\n",
      "-rho           -8.673e+04   5609.339    -15.461      0.000   -9.77e+04   -7.57e+04\n",
      "rho lambda         0.0009      0.000      5.494      0.000       0.001       0.001\n",
      "kappa + lambda   6.45e-09   7.29e-10      8.843      0.000    5.02e-09    7.88e-09\n",
      "const            213.6159     67.599      3.160      0.002      81.083     346.148\n",
      "==============================================================================\n",
      "Omnibus:                     2540.560   Durbin-Watson:                   2.784\n",
      "Prob(Omnibus):                  0.000   Jarque-Bera (JB):          1833820.339\n",
      "Skew:                           1.681   Prob(JB):                         0.00\n",
      "Kurtosis:                     108.436   Cond. No.                     7.73e+12\n",
      "==============================================================================\n",
      "\n",
      "Notes:\n",
      "[1] Standard Errors assume that the covariance matrix of the errors is correctly specified.\n",
      "[2] The condition number is large, 7.73e+12. This might indicate that there are\n",
      "strong multicollinearity or other numerical problems.\n",
      "rho =  86725.19484727667 \n",
      "lambda =  1.0846833470617204e-08 \n",
      "kappa =  -4.397176975264735e-09 \n",
      " \n"
     ]
    }
   ],
   "source": [
    "df = pd.read_csv(\"DataWithoutPairs.csv\")\n",
    "df = df[df[\"Volume\"] > 10000]\n",
    "df = df.reset_index()\n",
    "df = df[df[\"AskAfter\"] - df[\"AskBefore\"] < 0.1]\n",
    "df = df.reset_index()\n",
    "df_OLS_anal(df)"
   ]
  }
 ],
 "metadata": {
  "kernelspec": {
   "display_name": "Python 3",
   "language": "python",
   "name": "python3"
  },
  "language_info": {
   "codemirror_mode": {
    "name": "ipython",
    "version": 3
   },
   "file_extension": ".py",
   "mimetype": "text/x-python",
   "name": "python",
   "nbconvert_exporter": "python",
   "pygments_lexer": "ipython3",
   "version": "3.11.7"
  }
 },
 "nbformat": 4,
 "nbformat_minor": 2
}
