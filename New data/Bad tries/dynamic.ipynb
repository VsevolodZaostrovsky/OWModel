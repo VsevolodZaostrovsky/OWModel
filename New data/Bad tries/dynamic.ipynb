{
 "cells": [
  {
   "cell_type": "code",
   "execution_count": 1,
   "metadata": {},
   "outputs": [],
   "source": [
    "import numpy as np\n",
    "import matplotlib.pyplot as plt\n",
    "import seaborn as sns\n",
    "import pandas as pd\n",
    "\n",
    "from tqdm import tqdm\n",
    "\n",
    "sns.set(rc = {\"figure.figsize\":(16, 9)})"
   ]
  },
  {
   "cell_type": "code",
   "execution_count": 9,
   "metadata": {},
   "outputs": [],
   "source": [
    "filename = \"../data preparing/USD000UTSTOM_l2_ask.txt\""
   ]
  },
  {
   "cell_type": "code",
   "execution_count": 13,
   "metadata": {},
   "outputs": [
    {
     "name": "stdout",
     "output_type": "stream",
     "text": [
      "Lines: 515786\n"
     ]
    }
   ],
   "source": [
    "file = open(filename)\n",
    "lines = 0\n",
    " \n",
    "for line in file:\n",
    "    lines += 1\n",
    "\n",
    "file.close()\n",
    "print(\"Lines:\", lines)"
   ]
  },
  {
   "cell_type": "code",
   "execution_count": 15,
   "metadata": {},
   "outputs": [
    {
     "name": "stdout",
     "output_type": "stream",
     "text": [
      "Lines: 515786\n",
      "Lines: 16034\n"
     ]
    }
   ],
   "source": [
    "file = open(filename)\n",
    "lines = 0\n",
    "deals = 0\n",
    " \n",
    "for line in file:\n",
    "    lines += 1\n",
    "    if line[0] == \"P\":\n",
    "        deals += 1\n",
    "    \n",
    "print(\"Lines:\", lines)\n",
    "print(\"Lines:\", deals)"
   ]
  },
  {
   "cell_type": "code",
   "execution_count": 27,
   "metadata": {},
   "outputs": [],
   "source": [
    "file = open(\"exp.txt\")"
   ]
  },
  {
   "cell_type": "code",
   "execution_count": 35,
   "metadata": {},
   "outputs": [
    {
     "name": "stdout",
     "output_type": "stream",
     "text": [
      "EOF\n"
     ]
    }
   ],
   "source": [
    "try:\n",
    "    print(next(file))\n",
    "except:\n",
    "    print(\"EOF\")"
   ]
  },
  {
   "cell_type": "code",
   "execution_count": 36,
   "metadata": {},
   "outputs": [],
   "source": [
    "file.close()"
   ]
  },
  {
   "cell_type": "code",
   "execution_count": null,
   "metadata": {},
   "outputs": [],
   "source": [
    "file = open(filename, 'r')\n",
    "file_depth = 515786\n",
    "\n",
    "times = np.full(16034, 0, dtype=float)\n",
    "asks_before = np.full(16034, 0, dtype=float)\n",
    "asks_after = np.full((16034, 1000), 0, dtype=float)\n",
    "volumes = np.full(16034, 0, dtype=int)\n",
    "\n",
    "for i in range(int(file_depth / 3)):\n",
    "    line = next(file).split()\n",
    "    asks_before[i] = float(line[2][:-1])\n",
    "    times[i] = sum(np.array(line[0].split(\":\")).astype(float) * np.array([3600, 60, 1])) - 36000\n",
    "\n",
    "    line = next(file).split()\n",
    "    volumes[i] = int(line[-1])\n",
    "\n",
    "    line = next(file).split()\n",
    "    asks_after[i] = float(line[2][:-1])\n",
    "\n",
    "\n",
    "# print(asks_before, asks_after, volumes, times)\n",
    "\n",
    "file.close()"
   ]
  }
 ],
 "metadata": {
  "kernelspec": {
   "display_name": "Python 3",
   "language": "python",
   "name": "python3"
  },
  "language_info": {
   "codemirror_mode": {
    "name": "ipython",
    "version": 3
   },
   "file_extension": ".py",
   "mimetype": "text/x-python",
   "name": "python",
   "nbconvert_exporter": "python",
   "pygments_lexer": "ipython3",
   "version": "3.11.7"
  }
 },
 "nbformat": 4,
 "nbformat_minor": 2
}
