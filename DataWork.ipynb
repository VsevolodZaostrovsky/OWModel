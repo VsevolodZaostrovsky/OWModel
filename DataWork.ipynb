{
    "cells": [
        {
            "attachments": {},
            "cell_type": "markdown",
            "metadata": {},
            "source": [
                "# Optimal Execution of Trades in the FX Market"
            ]
        },
        {
            "cell_type": "code",
            "execution_count": 1,
            "metadata": {},
            "outputs": [],
            "source": [
                "import numpy as np\n",
                "import matplotlib.pyplot as plt\n",
                "import seaborn as sns\n",
                "\n",
                "from tqdm import tqdm\n",
                "\n",
                "sns.set(rc = {\"figure.figsize\":(16, 9)})"
            ]
        },
        {
            "cell_type": "code",
            "execution_count": 2,
            "metadata": {},
            "outputs": [],
            "source": [
                "class OnlineData:\n",
                "\n",
                "    def __init__(self, filename):\n",
                "        self.filename = filename\n",
                "        self.f = open(filename, 'r')\n",
                "        self.TotalQ = 1\n",
                "        self.Qnow = np.array([0])\n",
                "        self.Pnow = np.array([0])\n",
                " \n",
                "    def __next__(self):\n",
                "        line = next(self.f)[:-1]\n",
                "        if len(line) < 1:\n",
                "            return None\n",
                "        Q_, P_ = np.array([z[1:-1].split(\",\") for z in line.split(\"\\t\")\n",
                "                          ]).astype(float).astype(int).T\n",
                "        self.Qnow = Q_\n",
                "        self.Pnow = P_\n",
                "        CS = np.cumsum(P_ * np.ediff1d(Q_, to_begin=Q_[0]))\n",
                "\n",
                "        self.TotalQ = sum(Q_)\n",
                "\n",
                "        def F(Q):\n",
                "            if Q <= Q_[0]:\n",
                "                return P_[0] * Q\n",
                "            if Q > Q_[-1]:\n",
                "                return None\n",
                "            i = np.searchsorted(Q_, Q)\n",
                "            return CS[i - 1] + (Q - Q_[i - 1]) * P_[i]\n",
                "\n",
                "        self.F = F\n",
                "        return self.F\n",
                "\n",
                "    def __iter__(self):\n",
                "        return self\n",
                "\n",
                "    def close(self):\n",
                "        self.f.close()"
            ]
        },
        {
            "cell_type": "code",
            "execution_count": 3,
            "metadata": {},
            "outputs": [],
            "source": [
                "def SrtategyMI(numbers: np.array, \n",
                "               times: np.array,\n",
                "               orderbook_bid: OnlineData,\n",
                "               dQfilename,\n",
                "               marketIfilename):\n",
                "        \n",
                "        i = 0\n",
                "\n",
                "        dQ = open(dQfilename, 'w+')\n",
                "        marketI = open(marketIfilename, 'w+')\n",
                "\n",
                "        for t in range(max(times) + 1):\n",
                "            BuyPrice = next(orderbook_bid)\n",
                "\n",
                "            if t in times:\n",
                "                 deltaQ = numbers[i] / orderbook_bid.TotalQ * 10000\n",
                "                 MarkI = ((BuyPrice(numbers[i] + 1) - BuyPrice(numbers[i])) / BuyPrice(1) - 1) * 10000\n",
                "                 dQ.write(str(deltaQ) + \" \")\n",
                "                 marketI.write(str(MarkI) + \" \")\n",
                "                 print(f\"time: {t} Ask: {BuyPrice(1)} BuyPrice: {BuyPrice(numbers[i]) / numbers[i]} MI: {MarkI}\")\n",
                "                 i += 1\n",
                "\n",
                "\n",
                "        dQ.close()\n",
                "        marketI.close()\n",
                "                  "
            ]
        },
        {
            "cell_type": "code",
            "execution_count": 73,
            "metadata": {},
            "outputs": [],
            "source": [
                "def OrderSizes(datafilename: str,\n",
                "               dQfilename: str,\n",
                "               len: int):\n",
                "    \n",
                "    it1 = OnlineData(datafilename)\n",
                "    it2 = OnlineData(datafilename)\n",
                "\n",
                "    next(it2)\n",
                "\n",
                "    dQ = open(dQfilename, 'w+')\n",
                "\n",
                "    for i in range(len):\n",
                "        if(it1.Pnow[0] == it2.Pnow[0] and int(it1.Qnow[0]) == int(it2.Qnow[0])):\n",
                "            next(it1)\n",
                "            next(it2)\n",
                "            continue\n",
                "        else:\n",
                "            if it1.TotalQ - it2.TotalQ > 5000000:\n",
                "                dQ.write(str(i) + \"\\n\")\n",
                "            \n",
                "            next(it1)\n",
                "            next(it2)\n",
                "        \n",
                "    dQ.close()\n",
                "            \n",
                "        "
            ]
        },
        {
            "cell_type": "code",
            "execution_count": 3,
            "metadata": {},
            "outputs": [],
            "source": [
                "def MIdQ(askfilename: str,\n",
                "               dQfilename: str,\n",
                "               MIfilename: str,\n",
                "               depth: int):\n",
                "    \n",
                "    it1 = OnlineData(askfilename)\n",
                "    it2 = OnlineData(askfilename)\n",
                "\n",
                "    Price2 = next(it2)\n",
                "    Price1 = next(it1)\n",
                "    Price2 = next(it2)\n",
                "\n",
                "    dQ = open(dQfilename, 'w+')\n",
                "    MarkI = open(MIfilename, 'w+')\n",
                "    Indexes = open(\"indexes.txt\", 'w+')\n",
                "\n",
                "\n",
                "    for i in range(depth):\n",
                "        if(i > 100):\n",
                "            volume = it1.TotalQ - it2.TotalQ\n",
                "            deltaP = Price2(1) - Price1(1)\n",
                "            if volume > 0 and not Price1(volume) == None and not deltaP == None and deltaP > 0:\n",
                "                tildS = Price1(volume) / volume\n",
                "                if(abs(tildS - Price1(1))/Price1(1) > 0):\n",
                "                    MarkI.write(str(abs(tildS - Price1(1))/Price1(1) * 10000) + \", \")\n",
                "                    dQ.write(str(volume / 142266100 * 10000) + \", \")\n",
                "                    Indexes.write(str(i) + \", \")\n",
                "                \n",
                "        \n",
                "        Price1 = next(it1)\n",
                "        Price2 = next(it2)\n",
                "        \n",
                "    dQ.close()\n",
                "            "
            ]
        },
        {
            "cell_type": "code",
            "execution_count": 33,
            "metadata": {},
            "outputs": [
                {
                    "name": "stdout",
                    "output_type": "stream",
                    "text": [
                        "576\n"
                    ]
                }
            ],
            "source": [
                "dQs = np.genfromtxt(\"deltaQseries.txt\", delimiter=\", \", dtype = float)\n",
                "print(len(dQs))"
            ]
        },
        {
            "cell_type": "code",
            "execution_count": 9,
            "metadata": {},
            "outputs": [],
            "source": [
                "def MIdQ(askfilename: str,\n",
                "               csvfilename: str,\n",
                "               depth: int):\n",
                "    \n",
                "    it1 = OnlineData(askfilename)\n",
                "    it2 = OnlineData(askfilename)\n",
                "\n",
                "    Price2 = next(it2)\n",
                "    Price1 = next(it1)\n",
                "    Price2 = next(it2)\n",
                "\n",
                "    cs = open(csvfilename, 'w+')\n",
                "    cs.write(\"Time, Impact, DeltaQ\\n\")\n",
                "\n",
                "    obnum = 1\n",
                "\n",
                "    for i in range(depth):\n",
                "        if(i > 1000):\n",
                "            volume = it1.TotalQ - it2.TotalQ\n",
                "            deltaP = Price2(1) - Price1(1)\n",
                "            if volume > 0 and not Price1(volume) == None and not deltaP == None and deltaP > 0:\n",
                "                tildS = Price1(volume) / volume\n",
                "                if(abs(tildS - Price1(1))/Price1(1) > 0):\n",
                "                    cs.write(str(float(i) / 50000) + \", \" + str(abs(tildS - Price1(1))/Price1(1) * 10000) + \", \" + str(volume / 142266100 * 10000) + \", \\n\")\n",
                "                    obnum += 1\n",
                "        \n",
                "        Price1 = next(it1)\n",
                "        Price2 = next(it2)\n"
            ]
        },
        {
            "cell_type": "code",
            "execution_count": 10,
            "metadata": {},
            "outputs": [],
            "source": [
                "dQ = 'deltaQseries.txt'\n",
                "dI = 'Iseries.txt'\n",
                "dQs = np.array([0])\n",
                "marketI = 'marketimpact.tsv'\n",
                "ask = 'DataParsing/AllTheData/BidAsk/FullAsk.tsv'\n",
                "bid = 'DataParsing/AllTheData/BidAsk/FullBid.tsv'\n",
                "\n",
                "MIdQ(ask, \"dQI.csv\", 51000)\n"
            ]
        },
        {
            "cell_type": "code",
            "execution_count": null,
            "metadata": {},
            "outputs": [],
            "source": []
        }
    ],
    "metadata": {
        "kernelspec": {
            "display_name": "Python 3",
            "language": "python",
            "name": "python3"
        },
        "language_info": {
            "codemirror_mode": {
                "name": "ipython",
                "version": 3
            },
            "file_extension": ".py",
            "mimetype": "text/x-python",
            "name": "python",
            "nbconvert_exporter": "python",
            "pygments_lexer": "ipython3",
            "version": "3.11.6"
        },
        "orig_nbformat": 4
    },
    "nbformat": 4,
    "nbformat_minor": 2
}
