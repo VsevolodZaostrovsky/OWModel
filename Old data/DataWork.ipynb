{
    "cells": [
        {
            "attachments": {},
            "cell_type": "markdown",
            "metadata": {},
            "source": [
                "# Impact Prediction in the FX Market"
            ]
        },
        {
            "cell_type": "code",
            "execution_count": 108,
            "metadata": {},
            "outputs": [],
            "source": [
                "import numpy as np\n",
                "import matplotlib.pyplot as plt\n",
                "import seaborn as sns\n",
                "\n",
                "from tqdm import tqdm\n",
                "\n",
                "sns.set(rc = {\"figure.figsize\":(16, 9)})"
            ]
        },
        {
            "cell_type": "code",
            "execution_count": 112,
            "metadata": {},
            "outputs": [],
            "source": [
                "class OnlineData:\n",
                "\n",
                "    def __init__(self, filename):\n",
                "        self.filename = filename\n",
                "        self.f = open(filename, 'r')\n",
                "        self.TotalQ = 1\n",
                "        self.Qnow = np.array([0])\n",
                "        self.Pnow = np.array([0])\n",
                " \n",
                "    def __next__(self):\n",
                "        line = next(self.f)[:-1]\n",
                "        if len(line) < 1:\n",
                "            return F\n",
                "        Q_, P_ = np.array([z[1:-1].split(\",\") for z in line.split(\"\\t\")\n",
                "                          ]).astype(float).astype(int).T\n",
                "        self.Qnow = Q_\n",
                "        self.Pnow = P_\n",
                "        CS = np.cumsum(P_ * np.ediff1d(Q_, to_begin=Q_[0]))\n",
                "\n",
                "        self.TotalQ = sum(Q_)\n",
                "\n",
                "        def F(Q):\n",
                "            if Q <= Q_[0]:\n",
                "                return P_[0] * Q\n",
                "            if Q > Q_[-1]:\n",
                "                return None\n",
                "            i = np.searchsorted(Q_, Q)\n",
                "            return CS[i - 1] + (Q - Q_[i - 1]) * P_[i]\n",
                "\n",
                "        self.F = F\n",
                "        return self.F\n",
                "\n",
                "    def __iter__(self):\n",
                "        return self\n",
                "\n",
                "    def close(self):\n",
                "        self.f.close()"
            ]
        },
        {
            "cell_type": "code",
            "execution_count": 113,
            "metadata": {},
            "outputs": [],
            "source": [
                "def MIdQ(\n",
                "        askfilename: str,\n",
                "        csvfilename: str,\n",
                "        depth: int):\n",
                "    \n",
                "    it1 = OnlineData(askfilename)\n",
                "    it2 = OnlineData(askfilename)\n",
                "\n",
                "    Price2 = next(it2)\n",
                "    Price1 = next(it1)\n",
                "    Price2 = next(it2)\n",
                "\n",
                "    cs = open(csvfilename, 'w+')\n",
                "    cs.write(\"Time, Impact, DeltaQ\\n\")\n",
                "\n",
                "    obnum = 1\n",
                "\n",
                "    for i in range(depth):\n",
                "        if(i > 1000):\n",
                "            print(i)\n",
                "            volume = it1.TotalQ - it2.TotalQ\n",
                "            deltaP = Price2(1) - Price1(1)\n",
                "            tildS = Price1(volume) / volume\n",
                "            flg = 1\n",
                "            Pnow1 = it1.Pnow\n",
                "            Pnow2 = it2.Pnow\n",
                "            Qnow1 = it1.Qnow\n",
                "            Qnow2 = it2.Qnow\n",
                "            # print(Pnow1, Qnow1)\n",
                "            # print(Pnow2, Qnow2)\n",
                "            Pr2 = Pnow2[0] \n",
                "            IndPrice = np.where(Pnow1 == Pr2)[0][0]\n",
                "            # print(IndPrice)\n",
                "            if(len(Pnow1) != len(Pnow2) + IndPrice):\n",
                "                flg = 0\n",
                "            else: \n",
                "                for i in range(IndPrice + 1, len(Pnow1)):\n",
                "                    if (Pnow1[i] != Pnow2[i - IndPrice] or Qnow1[i] != Qnow2[i - IndPrice]):\n",
                "                        flg = 0\n",
                "                        # print(Pnow1[i], '!=', Pnow2[i - IndPrice], 'or', Qnow1[i], '!=', Qnow2[i - IndPrice])\n",
                "\n",
                "            # print('flag: ', flg)\n",
                "            if volume > 0 and not Price1(volume) == None and not deltaP == None and deltaP > 0 and flg:\n",
                "                tildS = Price1(volume) / volume\n",
                "                if(abs(tildS - Price1(1))/Price1(1) > 0 and abs(tildS - Price1(1))/Price1(1) * 10000 > 50.0):\n",
                "                    cs.write(str(float(i)) + \", \" + str(abs(tildS - Price1(1))/Price1(1) * 10000) + \", \" + str(volume / 142266100 * 10000) + \", \\n\")\n",
                "                    obnum += 1\n",
                "        \n",
                "        Price1 = next(it1)\n",
                "        Price2 = next(it2)\n"
            ]
        },
        {
            "cell_type": "code",
            "execution_count": 115,
            "metadata": {},
            "outputs": [],
            "source": [
                "\n",
                "\n",
                "def MIdQ(askfilename: str,\n",
                "               csvfilename: str,\n",
                "               depth: int):\n",
                "    \n",
                "    it1 = OnlineData(askfilename)\n",
                "    it2 = OnlineData(askfilename)\n",
                "\n",
                "    Price2 = next(it2)\n",
                "    Price1 = next(it1)\n",
                "    Price2 = next(it2)\n",
                "\n",
                "    cs = open(csvfilename, 'w+')\n",
                "    cs.write(\"Time, Impact, DeltaQ\\n\")\n",
                "\n",
                "    obnum = 1\n",
                "\n",
                "    for i in range(depth):\n",
                "        if(i > 1000):\n",
                "            volume = it1.TotalQ - it2.TotalQ\n",
                "            deltaP = Price2(1) - Price1(1)\n",
                "            if volume > 0 and not Price1(volume) == None and not deltaP == None and deltaP > 0:\n",
                "                tildS = Price1(volume) / volume\n",
                "                if(abs(tildS - Price1(1))/Price1(1) > 0 and abs(tildS - Price1(1))/Price1(1) * 10000 > 100.0):\n",
                "                    cs.write(str(float(i)) + \", \" + str(abs(tildS - Price1(1))/Price1(1) * 10000) + \", \" + str(volume / 142266100 * 10000) + \", \\n\")\n",
                "                    obnum += 1\n",
                "        \n",
                "        Price1 = next(it1)\n",
                "        Price2 = next(it2)\n",
                "\n"
            ]
        },
        {
            "cell_type": "code",
            "execution_count": 125,
            "metadata": {},
            "outputs": [
                {
                    "ename": "StopIteration",
                    "evalue": "",
                    "output_type": "error",
                    "traceback": [
                        "\u001b[0;31m---------------------------------------------------------------------------\u001b[0m",
                        "\u001b[0;31mStopIteration\u001b[0m                             Traceback (most recent call last)",
                        "\u001b[1;32m/home/vsevolod/GitHubRepos/OWModel/ImpactPrediction/DataWork.ipynb Cell 6\u001b[0m line \u001b[0;36m7\n\u001b[1;32m      <a href='vscode-notebook-cell:/home/vsevolod/GitHubRepos/OWModel/ImpactPrediction/DataWork.ipynb#X10sZmlsZQ%3D%3D?line=3'>4</a>\u001b[0m marketI \u001b[39m=\u001b[39m \u001b[39m'\u001b[39m\u001b[39mmarketimpact.tsv\u001b[39m\u001b[39m'\u001b[39m\n\u001b[1;32m      <a href='vscode-notebook-cell:/home/vsevolod/GitHubRepos/OWModel/ImpactPrediction/DataWork.ipynb#X10sZmlsZQ%3D%3D?line=4'>5</a>\u001b[0m ask \u001b[39m=\u001b[39m \u001b[39m'\u001b[39m\u001b[39mUSD_RUB_T+1__2022-10-03_PQ_ask.tsv\u001b[39m\u001b[39m'\u001b[39m\n\u001b[0;32m----> <a href='vscode-notebook-cell:/home/vsevolod/GitHubRepos/OWModel/ImpactPrediction/DataWork.ipynb#X10sZmlsZQ%3D%3D?line=6'>7</a>\u001b[0m MIdQ(ask, \u001b[39m\"\u001b[39;49m\u001b[39mdQI.csv\u001b[39;49m\u001b[39m\"\u001b[39;49m, \u001b[39m100000\u001b[39;49m)\n",
                        "\u001b[1;32m/home/vsevolod/GitHubRepos/OWModel/ImpactPrediction/DataWork.ipynb Cell 6\u001b[0m line \u001b[0;36m2\n\u001b[1;32m     <a href='vscode-notebook-cell:/home/vsevolod/GitHubRepos/OWModel/ImpactPrediction/DataWork.ipynb#X10sZmlsZQ%3D%3D?line=24'>25</a>\u001b[0m             obnum \u001b[39m+\u001b[39m\u001b[39m=\u001b[39m \u001b[39m1\u001b[39m\n\u001b[1;32m     <a href='vscode-notebook-cell:/home/vsevolod/GitHubRepos/OWModel/ImpactPrediction/DataWork.ipynb#X10sZmlsZQ%3D%3D?line=26'>27</a>\u001b[0m Price1 \u001b[39m=\u001b[39m \u001b[39mnext\u001b[39m(it1)\n\u001b[0;32m---> <a href='vscode-notebook-cell:/home/vsevolod/GitHubRepos/OWModel/ImpactPrediction/DataWork.ipynb#X10sZmlsZQ%3D%3D?line=27'>28</a>\u001b[0m Price2 \u001b[39m=\u001b[39m \u001b[39mnext\u001b[39m(it2)\n",
                        "\u001b[1;32m/home/vsevolod/GitHubRepos/OWModel/ImpactPrediction/DataWork.ipynb Cell 6\u001b[0m line \u001b[0;36m1\n\u001b[1;32m     <a href='vscode-notebook-cell:/home/vsevolod/GitHubRepos/OWModel/ImpactPrediction/DataWork.ipynb#X10sZmlsZQ%3D%3D?line=9'>10</a>\u001b[0m \u001b[39mdef\u001b[39;00m \u001b[39m__next__\u001b[39m(\u001b[39mself\u001b[39m):\n\u001b[0;32m---> <a href='vscode-notebook-cell:/home/vsevolod/GitHubRepos/OWModel/ImpactPrediction/DataWork.ipynb#X10sZmlsZQ%3D%3D?line=10'>11</a>\u001b[0m     line \u001b[39m=\u001b[39m \u001b[39mnext\u001b[39m(\u001b[39mself\u001b[39m\u001b[39m.\u001b[39mf)[:\u001b[39m-\u001b[39m\u001b[39m1\u001b[39m]\n\u001b[1;32m     <a href='vscode-notebook-cell:/home/vsevolod/GitHubRepos/OWModel/ImpactPrediction/DataWork.ipynb#X10sZmlsZQ%3D%3D?line=11'>12</a>\u001b[0m     \u001b[39mif\u001b[39;00m \u001b[39mlen\u001b[39m(line) \u001b[39m<\u001b[39m \u001b[39m1\u001b[39m:\n\u001b[1;32m     <a href='vscode-notebook-cell:/home/vsevolod/GitHubRepos/OWModel/ImpactPrediction/DataWork.ipynb#X10sZmlsZQ%3D%3D?line=12'>13</a>\u001b[0m         \u001b[39mreturn\u001b[39;00m F\n",
                        "\u001b[0;31mStopIteration\u001b[0m: "
                    ]
                }
            ],
            "source": [
                "dQ = 'deltaQseries.txt'\n",
                "dI = 'Iseries.txt'\n",
                "dQs = np.array([0])\n",
                "marketI = 'marketimpact.tsv'\n",
                "ask = 'USD_RUB_T+1__2022-10-03_PQ_ask.tsv'\n",
                "\n",
                "MIdQ(ask, \"dQI.csv\", 100000)"
            ]
        },
        {
            "cell_type": "code",
            "execution_count": 82,
            "metadata": {},
            "outputs": [],
            "source": [
                "it1 = OnlineData('USD_RUB_T+1__2022-10-03_PQ_ask.tsv')"
            ]
        },
        {
            "cell_type": "code",
            "execution_count": 83,
            "metadata": {},
            "outputs": [
                {
                    "data": {
                        "text/plain": [
                            "<function __main__.OnlineData.__next__.<locals>.F(Q)>"
                        ]
                    },
                    "execution_count": 83,
                    "metadata": {},
                    "output_type": "execute_result"
                }
            ],
            "source": [
                "next(it1)"
            ]
        },
        {
            "cell_type": "code",
            "execution_count": 94,
            "metadata": {},
            "outputs": [
                {
                    "name": "stdout",
                    "output_type": "stream",
                    "text": [
                        "[22926 22889 22888 22863 22763 22550 22525]\n"
                    ]
                }
            ],
            "source": [
                "next(it1)\n",
                "print(it1.Pnow)"
            ]
        }
    ],
    "metadata": {
        "kernelspec": {
            "display_name": "Python 3",
            "language": "python",
            "name": "python3"
        },
        "language_info": {
            "codemirror_mode": {
                "name": "ipython",
                "version": 3
            },
            "file_extension": ".py",
            "mimetype": "text/x-python",
            "name": "python",
            "nbconvert_exporter": "python",
            "pygments_lexer": "ipython3",
            "version": "3.11.6"
        },
        "orig_nbformat": 4
    },
    "nbformat": 4,
    "nbformat_minor": 2
}
