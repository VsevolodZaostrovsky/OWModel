{
 "cells": [
  {
   "cell_type": "code",
   "execution_count": 2,
   "metadata": {},
   "outputs": [],
   "source": [
    "import numpy as np\n",
    "import pandas as pd \n",
    "from scipy.optimize import least_squares\n",
    "from sklearn.model_selection import TimeSeriesSplit\n",
    "import matplotlib.pyplot as plt\n",
    "import seaborn as sns"
   ]
  },
  {
   "cell_type": "code",
   "execution_count": 3,
   "metadata": {},
   "outputs": [],
   "source": [
    "sns.set(rc={\"figure.figsize\":(25, 10)})"
   ]
  },
  {
   "cell_type": "code",
   "execution_count": 4,
   "metadata": {},
   "outputs": [],
   "source": [
    "dQI = pd.read_csv(\"DataForImpact/BIGdQI.csv\")"
   ]
  },
  {
   "cell_type": "code",
   "execution_count": 5,
   "metadata": {},
   "outputs": [],
   "source": [
    "dQI = dQI.loc[dQI[\"Loses\"] > 0.]"
   ]
  },
  {
   "cell_type": "code",
   "execution_count": 6,
   "metadata": {},
   "outputs": [],
   "source": [
    "dQI['Time'] = dQI['Time'].astype(float)\n",
    "MI = np.array(dQI['Loses'])\n",
    "dQ= np.array(dQI['volume'])\n",
    "T = np.array(dQI['Time'], dtype=float)"
   ]
  },
  {
   "cell_type": "code",
   "execution_count": 7,
   "metadata": {},
   "outputs": [
    {
     "data": {
      "text/plain": [
       "array([4.710000e+02, 5.740000e+02, 6.030000e+02, ..., 1.499050e+06,\n",
       "       1.499824e+06, 1.499825e+06])"
      ]
     },
     "execution_count": 7,
     "metadata": {},
     "output_type": "execute_result"
    }
   ],
   "source": [
    "T"
   ]
  },
  {
   "cell_type": "markdown",
   "metadata": {},
   "source": [
    "### Usual OWM: $I_{t+1} = \\rho I_t + \\lambda Q_{t+1}$"
   ]
  },
  {
   "cell_type": "code",
   "execution_count": 15,
   "metadata": {},
   "outputs": [
    {
     "name": "stdout",
     "output_type": "stream",
     "text": [
      "MAE:  1.5680194241734309\n"
     ]
    }
   ],
   "source": [
    "cvlen = 35000\n",
    "start_point = 1000\n",
    "\n",
    "def fun1(x, mi: np.array, mi_prev: np.array, dq: np.array):\n",
    "            return x[0] * mi_prev + x[1] * dq - mi\n",
    "\n",
    "errorsSOWM = np.full((cvlen - start_point, ), 0.)\n",
    "\n",
    "for i in range(start_point, cvlen):\n",
    "    res_lsq01 = least_squares(fun1, np.array([0.1, 0.1]), args=(MI[1:i], MI[:i - 1], dQ[1:i]))\n",
    "    errorsSOWM[i - start_point] = fun1(res_lsq01.x, MI[i], MI[i - 1], dQ[i])\n",
    "\n",
    "\n",
    "print(\"MAE: \", np.mean(abs(errorsSOWM)))"
   ]
  },
  {
   "cell_type": "code",
   "execution_count": 16,
   "metadata": {},
   "outputs": [
    {
     "name": "stdout",
     "output_type": "stream",
     "text": [
      "MAE:  1.3953206206925255\n"
     ]
    }
   ],
   "source": [
    "cvlen = 35000\n",
    "learning_window = 100\n",
    "start_point = 1000\n",
    "\n",
    "errorsSOWM_W = np.full((cvlen - start_point, ), 0.)\n",
    "\n",
    "for i in range(start_point, cvlen):\n",
    "    res_lsq02 = least_squares(fun1, np.array([0.1, 0.1]), args=(MI[i - learning_window:i], MI[i - 1 - learning_window:i - 1], dQ[i - learning_window:i]))\n",
    "    errorsSOWM_W[i - start_point] = fun1(res_lsq02.x, MI[i], MI[i - 1], dQ[i])\n",
    "\n",
    "print(\"MAE: \", np.mean(abs(errorsSOWM_W)))"
   ]
  },
  {
   "cell_type": "markdown",
   "metadata": {},
   "source": [
    "### SR model: $I_t = C \\sqrt{Q_t}$"
   ]
  },
  {
   "cell_type": "code",
   "execution_count": 17,
   "metadata": {},
   "outputs": [
    {
     "name": "stdout",
     "output_type": "stream",
     "text": [
      "MAE:  2.1225440510941165\n"
     ]
    }
   ],
   "source": [
    "cvlen = 35000\n",
    "start_point = 1000\n",
    "\n",
    "def fun2(x, mi: np.array, dq: np.array):\n",
    "            return x[0] * np.sqrt(dq) - mi\n",
    "\n",
    "errorsSR = np.full((cvlen - start_point, ), 0.)\n",
    "\n",
    "for i in range(start_point, cvlen):\n",
    "    res_lsq11 = least_squares(fun2, np.array([0.1]), args=(MI[1:i], dQ[1:i]))\n",
    "    errorsSR[i - start_point] = fun2(res_lsq11.x, MI[i], dQ[i])\n",
    "\n",
    "\n",
    "print(\"MAE: \", np.mean(abs(errorsSR)))"
   ]
  },
  {
   "cell_type": "code",
   "execution_count": 18,
   "metadata": {},
   "outputs": [
    {
     "name": "stdout",
     "output_type": "stream",
     "text": [
      "MAE:  1.5385424276542083\n"
     ]
    }
   ],
   "source": [
    "cvlen = 35000\n",
    "learning_window = 100\n",
    "start_point = 1000\n",
    "\n",
    "errorsSR_W = np.full((cvlen - start_point, ), 0.)\n",
    "\n",
    "for i in range(start_point, cvlen):\n",
    "    res_lsq12 = least_squares(fun2, np.array([0.1, 0.1]), args=(MI[i - learning_window:i], dQ[i - learning_window:i]))\n",
    "    errorsSR_W[i - start_point] = fun2(res_lsq12.x, MI[i], dQ[i])\n",
    "\n",
    "print(\"MAE: \", np.mean(abs(errorsSR_W)))"
   ]
  },
  {
   "cell_type": "markdown",
   "metadata": {},
   "source": [
    "### Experimrntal Combo of SRM and OWM: $I_{t+1} = \\rho I_t + \\lambda \\sqrt{Q_{t+1}}$"
   ]
  },
  {
   "cell_type": "code",
   "execution_count": 19,
   "metadata": {},
   "outputs": [
    {
     "name": "stdout",
     "output_type": "stream",
     "text": [
      "MAE:  1.9932173237366233\n"
     ]
    }
   ],
   "source": [
    "cvlen = 35000\n",
    "start_point = 1000\n",
    "\n",
    "def fun3(x, mi: np.array, mi_prev: np.array, dq: np.array):\n",
    "            return x[0] * mi_prev + x[1] * np.sqrt(dq) - mi\n",
    "\n",
    "errorsOWSR = np.full((cvlen - start_point, ), 0.)\n",
    "\n",
    "for i in range(start_point, cvlen):\n",
    "    res_lsq01 = least_squares(fun3, np.array([0.1, 0.1]), args=(MI[1:i], MI[:i - 1], dQ[1:i]))\n",
    "    errorsOWSR[i - start_point] = fun3(res_lsq01.x, MI[i], MI[i - 1], dQ[i])\n",
    "\n",
    "\n",
    "print(\"MAE: \", np.mean(abs(errorsOWSR)))"
   ]
  },
  {
   "cell_type": "code",
   "execution_count": 20,
   "metadata": {},
   "outputs": [
    {
     "name": "stdout",
     "output_type": "stream",
     "text": [
      "MAE:  1.5543257789006262\n"
     ]
    }
   ],
   "source": [
    "cvlen = 35000\n",
    "learning_window = 100\n",
    "start_point = 1000\n",
    "\n",
    "errorsOWSR_W = np.full((cvlen - start_point, ), 0.)\n",
    "\n",
    "for i in range(start_point, cvlen):\n",
    "    res_lsq02 = least_squares(fun3, np.array([0.1, 0.1]), args=(MI[i - learning_window:i], MI[i - 1 - learning_window:i - 1], dQ[i - learning_window:i]))\n",
    "    errorsOWSR_W[i - start_point] = fun3(res_lsq02.x, MI[i], MI[i - 1], dQ[i])\n",
    "\n",
    "print(\"MAE: \", np.mean(abs(errorsOWSR_W)))"
   ]
  },
  {
   "cell_type": "markdown",
   "metadata": {},
   "source": [
    "### Experimental model from OWM: $\\frac{I_{i+1} - I_i}{\\Delta t _{i+1}} = \\rho I_i + \\lambda \\frac{Q_{i+1}}{\\Delta t _{i+1}}$"
   ]
  },
  {
   "cell_type": "code",
   "execution_count": 9,
   "metadata": {},
   "outputs": [],
   "source": [
    "dt = (T[1:] - T[:-1])\n",
    "dIdt = (MI[1:] - MI[:-1]) / dt\n",
    "Qdt = dQ[1:] / dt\n",
    "Ii = MI[:-1]"
   ]
  },
  {
   "cell_type": "code",
   "execution_count": 22,
   "metadata": {},
   "outputs": [
    {
     "name": "stdout",
     "output_type": "stream",
     "text": [
      "MAE:  10.919683027663334\n"
     ]
    }
   ],
   "source": [
    "cvlen = 35000\n",
    "start_point = 1000\n",
    "\n",
    "def fun3(x, dIdt: np.array, mi_prev: np.array, Qdt: np.array):\n",
    "            return x[0] * mi_prev + x[1] * Qdt - dIdt\n",
    "\n",
    "errorsOWC = np.full((cvlen - start_point, ), 0.)\n",
    "\n",
    "for i in range(start_point, cvlen):\n",
    "    res_lsq01 = least_squares(fun3, np.array([0.1, 0.1]), args=(dIdt[:i], Ii[:i], Qdt[:i]))\n",
    "    errorsOWC[i - start_point] = Ii[i] * (1 + dt[i] * res_lsq01.x[0]) + res_lsq01.x[1] * Qdt[i] - Ii[i + 1]\n",
    "\n",
    "\n",
    "print(\"MAE: \", np.mean(abs(errorsOWC)))"
   ]
  },
  {
   "cell_type": "code",
   "execution_count": 15,
   "metadata": {},
   "outputs": [
    {
     "name": "stdout",
     "output_type": "stream",
     "text": [
      "MAE:  13.21009705233322\n"
     ]
    }
   ],
   "source": [
    "cvlen = 35000\n",
    "learning_window = 1000\n",
    "start_point = 1000\n",
    "def fun3(x, dIdt: np.array, mi_prev: np.array, Qdt: np.array):\n",
    "            return x[0] * mi_prev + x[1] * Qdt - dIdt\n",
    "\n",
    "errorsOWC_W = np.full((cvlen - start_point, ), 0.)\n",
    "\n",
    "for i in range(start_point, cvlen):\n",
    "    res_lsq01 = least_squares(fun3, np.array([0.1, 0.1]), args=(dIdt[i - learning_window:i], Ii[i - learning_window:i], Qdt[i - learning_window:i]))\n",
    "    errorsOWC_W[i - start_point] = Ii[i] * (1 + dt[i] * res_lsq01.x[0]) + res_lsq01.x[1] * Qdt[i] - Ii[i + 1]\n",
    "\n",
    "\n",
    "print(\"MAE: \", np.mean(abs(errorsOWC_W)))"
   ]
  },
  {
   "cell_type": "markdown",
   "metadata": {},
   "source": [
    "### Experimental model from our intuition: $\\frac{y_{i + 1} - y_{i}}{\\Delta t_{i+1}} = \\rho y_i + \\lambda$"
   ]
  },
  {
   "cell_type": "code",
   "execution_count": 24,
   "metadata": {},
   "outputs": [],
   "source": [
    "y = MI / dQ"
   ]
  },
  {
   "cell_type": "code",
   "execution_count": 27,
   "metadata": {},
   "outputs": [
    {
     "name": "stdout",
     "output_type": "stream",
     "text": [
      "MAE:  4.623520484527892\n"
     ]
    }
   ],
   "source": [
    "cvlen = 35000\n",
    "start_point = 1000\n",
    "\n",
    "def fun1(x, y: np.array, y_prev: np.array, dt: np.array):\n",
    "            return y_prev * (1 + x[0] * dt) + x[1] * dt - y\n",
    "\n",
    "errorsOWCS = np.full((cvlen - start_point, ), 0.)\n",
    "\n",
    "for i in range(start_point, cvlen):\n",
    "    res_lsq01 = least_squares(fun1, np.array([0.1, 0.1]), args=(y[1:i], y[:i - 1], dt[1:i]))\n",
    "    errorsOWCS[i - start_point] = fun1(res_lsq01.x, y[i], y[i - 1], dt[i]) * dQ[i]\n",
    "\n",
    "\n",
    "print(\"MAE: \", np.mean(abs(errorsOWCS)))"
   ]
  },
  {
   "cell_type": "code",
   "execution_count": 30,
   "metadata": {},
   "outputs": [
    {
     "name": "stdout",
     "output_type": "stream",
     "text": [
      "MAE:  4.0392173162843426\n"
     ]
    }
   ],
   "source": [
    "cvlen = 35000\n",
    "learning_window = 500\n",
    "start_point = 2000\n",
    "\n",
    "def fun1(x, y: np.array, y_prev: np.array, dt: np.array):\n",
    "            return y_prev * (1 + x[0] * dt) + x[1] * dt - y\n",
    "\n",
    "errorsOWCS_W = np.full((cvlen - start_point, ), 0.)\n",
    "\n",
    "for i in range(start_point, cvlen):\n",
    "    res_lsq01 = least_squares(fun1, np.array([0.1, 0.1]), args=(y[i - learning_window:i], y[i - 1 - learning_window:i - 1], dt[i - learning_window:i]))\n",
    "    errorsOWCS_W[i - start_point] = fun1(res_lsq01.x, y[i], y[i - 1], dt[i]) * dQ[i]\n",
    "\n",
    "\n",
    "print(\"MAE: \", np.mean(abs(errorsOWCS_W)))"
   ]
  },
  {
   "cell_type": "markdown",
   "metadata": {},
   "source": [
    "### GOW model: $I_{t_{i+1}} = \\rho ^{t_{i+1} - t_i} I_{t_i} + \\lambda Q_{t_{i+1}}$"
   ]
  },
  {
   "cell_type": "code",
   "execution_count": 32,
   "metadata": {},
   "outputs": [
    {
     "name": "stdout",
     "output_type": "stream",
     "text": [
      "MAE:  1.5712823852127695\n"
     ]
    }
   ],
   "source": [
    "cvlen = 35000\n",
    "start_point = 1000\n",
    "\n",
    "def fun1(x, mi: np.array, mi_prev: np.array, dq: np.array, dt: np.array):\n",
    "            return np.power(x[0], dt) * mi_prev + x[1] * dq - mi\n",
    "\n",
    "errorsGOW = np.full((cvlen - start_point, ), 0.)\n",
    "\n",
    "for i in range(start_point, cvlen):\n",
    "    res_lsq01 = least_squares(fun1, np.array([0.1, 0.1]), args=(MI[1:i], MI[:i - 1], dQ[1:i], dt[1:i]))\n",
    "    errorsGOW[i - start_point] = fun1(res_lsq01.x, MI[i], MI[i - 1], dQ[i], dt[i])\n",
    "\n",
    "\n",
    "print(\"MAE: \", np.mean(abs(errorsGOW)))"
   ]
  },
  {
   "cell_type": "code",
   "execution_count": 10,
   "metadata": {},
   "outputs": [
    {
     "name": "stdout",
     "output_type": "stream",
     "text": [
      "MAE:  1.3665084586946301\n"
     ]
    }
   ],
   "source": [
    "cvlen = 35000\n",
    "learning_window = 500\n",
    "start_point = 1000\n",
    "\n",
    "def fun1(x, mi: np.array, mi_prev: np.array, dq: np.array, dt: np.array):\n",
    "            return np.power(x[0], dt) * mi_prev + x[1] * dq - mi\n",
    "\n",
    "errorsGOW_W = np.full((cvlen - start_point, ), 0.)\n",
    "\n",
    "for i in range(start_point, cvlen):\n",
    "    res_lsq01 = least_squares(fun1, np.array([0.1, 0.1]), args=(MI[i - learning_window:i], MI[i - 1 - learning_window:i - 1], dQ[i - learning_window:i], dt[i - learning_window:i]))\n",
    "    errorsGOW_W[i - start_point] = fun1(res_lsq01.x, MI[i], MI[i - 1], dQ[i], dt[i])\n",
    "\n",
    "\n",
    "print(\"MAE: \", np.mean(abs(errorsGOW_W)))"
   ]
  },
  {
   "cell_type": "markdown",
   "metadata": {},
   "source": [
    "### AR(1)"
   ]
  },
  {
   "cell_type": "code",
   "execution_count": 16,
   "metadata": {},
   "outputs": [
    {
     "name": "stdout",
     "output_type": "stream",
     "text": [
      "MAE:  2.08474538347663\n"
     ]
    }
   ],
   "source": [
    "cvlen = 35000\n",
    "start_point = 1000\n",
    "\n",
    "def fun1(x, mi: np.array, mi_prev: np.array):\n",
    "            return x[0] * mi_prev + x[1] - mi\n",
    "\n",
    "errorsAR = np.full((cvlen - start_point, ), 0.)\n",
    "\n",
    "for i in range(start_point, cvlen):\n",
    "    res_lsq01 = least_squares(fun1, np.array([0.1, 0.1]), args=(MI[1:i], MI[:i - 1]))\n",
    "    errorsAR[i - start_point] = fun1(res_lsq01.x, MI[i], MI[i - 1])\n",
    "\n",
    "\n",
    "print(\"MAE: \", np.mean(abs(errorsAR)))"
   ]
  },
  {
   "cell_type": "code",
   "execution_count": 17,
   "metadata": {},
   "outputs": [
    {
     "name": "stdout",
     "output_type": "stream",
     "text": [
      "MAE:  1.6210042798402684\n"
     ]
    }
   ],
   "source": [
    "cvlen = 35000\n",
    "learning_window = 500\n",
    "start_point = 1000\n",
    "\n",
    "def fun1(x, mi: np.array, mi_prev: np.array):\n",
    "            return x[0] * mi_prev + x[1] - mi\n",
    "\n",
    "errorsAR_W = np.full((cvlen - start_point, ), 0.)\n",
    "\n",
    "for i in range(start_point, cvlen):\n",
    "    res_lsq01 = least_squares(fun1, np.array([0.1, 0.1]), args=(MI[i-learning_window:i], MI[i-1-learning_window:i - 1]))\n",
    "    errorsAR_W[i - start_point] = fun1(res_lsq01.x, MI[i], MI[i - 1])\n",
    "\n",
    "\n",
    "print(\"MAE: \", np.mean(abs(errorsAR_W)))"
   ]
  }
 ],
 "metadata": {
  "kernelspec": {
   "display_name": "Python 3",
   "language": "python",
   "name": "python3"
  },
  "language_info": {
   "codemirror_mode": {
    "name": "ipython",
    "version": 3
   },
   "file_extension": ".py",
   "mimetype": "text/x-python",
   "name": "python",
   "nbconvert_exporter": "python",
   "pygments_lexer": "ipython3",
   "version": "3.11.6"
  }
 },
 "nbformat": 4,
 "nbformat_minor": 2
}
